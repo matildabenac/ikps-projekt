{
 "cells": [
  {
   "cell_type": "markdown",
   "id": "7f53a894",
   "metadata": {},
   "source": [
    "# Evolving Ensembles in Multi-objective GeneticProgramming for Classification with Unbalanced Data"
   ]
  },
  {
   "cell_type": "markdown",
   "id": "962a9aa7",
   "metadata": {},
   "source": [
    "### Dataset YEAST\n",
    "\n",
    "Minority class = 'MIT'\n",
    "\n",
    "Majority class = other tags"
   ]
  },
  {
   "cell_type": "code",
   "execution_count": 1,
   "id": "ef03035e",
   "metadata": {},
   "outputs": [],
   "source": [
    "# Python 3.8.3\n",
    "import deap # 1.3.1\n",
    "from deap import gp, creator, base, tools, algorithms\n",
    "from deap import benchmarks\n",
    "from deap.benchmarks.tools import hypervolume\n",
    "\n",
    "import numpy as np # 1.18.5\n",
    "\n",
    "import time\n",
    "\n",
    "import operator, random\n",
    "\n",
    "import matplotlib.pyplot as plt\n",
    "\n",
    "from sklearn.model_selection import train_test_split\n",
    "# from sklearn import tree\n",
    "# from sklearn.metrics import accuracy_score\n",
    "from pandas import read_csv\n",
    "# from sklearn.ensemble import RandomForestClassifier\n",
    "#import graphviz\n",
    "import seaborn"
   ]
  },
  {
   "cell_type": "code",
   "execution_count": 2,
   "id": "59abafd2",
   "metadata": {},
   "outputs": [],
   "source": [
    "seaborn.set(style=\"whitegrid\")\n",
    "plt.rcParams['figure.figsize'] = (16,16)"
   ]
  },
  {
   "cell_type": "markdown",
   "id": "ef3a54de",
   "metadata": {},
   "source": [
    "### Parameters"
   ]
  },
  {
   "cell_type": "code",
   "execution_count": 3,
   "id": "f0807181",
   "metadata": {},
   "outputs": [],
   "source": [
    "PNUM = 50 #20 # Number of individuals in a population (500)\n",
    "GNUM = 15 #10 # Number of generations (50) \n",
    "MTC = 0.4 # Mutation chance (0.4)\n",
    "CSC = 0.6 # Crossover chance (0.6)\n",
    "\n",
    "ATR_DATA = 8 #Data set atributes\n",
    "\n",
    "EPS = 0.1 # Range for protected division"
   ]
  },
  {
   "cell_type": "markdown",
   "id": "e7b00ce5",
   "metadata": {},
   "source": [
    "#### Helper functions for primitive operators"
   ]
  },
  {
   "cell_type": "code",
   "execution_count": 4,
   "id": "f6e33332",
   "metadata": {},
   "outputs": [],
   "source": [
    "# ovov je vracalo neki error kad sam probala dodat range\n",
    "# def div(x, y): \n",
    "#     return x/y if y else 0\n",
    "\n",
    "# Protected division\n",
    "def div(x, y): \n",
    "    if(y < EPS and y > -EPS): return 0\n",
    "    return x/y\n",
    "\n",
    "# If then operator - changed the name from 'if_then' to 'lf' because of cxSemantic method\n",
    "def lf(a, b, c):\n",
    "    return b if (a < 0) else c"
   ]
  },
  {
   "cell_type": "markdown",
   "id": "ec5ed88f",
   "metadata": {},
   "source": [
    "#### Importing dataset"
   ]
  },
  {
   "cell_type": "code",
   "execution_count": 5,
   "id": "2aba78fd",
   "metadata": {},
   "outputs": [
    {
     "name": "stdout",
     "output_type": "stream",
     "text": [
      "(1484, 8)\n",
      "(1484,)\n",
      "(742, 8) (742, 8) (742,) (742,)\n"
     ]
    }
   ],
   "source": [
    "filename = \"./Datasets/yeast_csv.csv\"\n",
    "    \n",
    "dataframe = read_csv(filename, header=None)\n",
    "\n",
    "data = dataframe.values\n",
    "\n",
    "# X = inputs, y = outputs\n",
    "X, y = data[:, :-1], data[:, -1]\n",
    "\n",
    "print(X.shape)\n",
    "print(y.shape)\n",
    "\n",
    "X_train, X_test, y_train, y_test = train_test_split(X, y, test_size=0.5)\n",
    "print(X_train.shape, X_test.shape, y_train.shape, y_test.shape)\n",
    "\n",
    "data = X_train.tolist()\n",
    "\n",
    "names = y_train.tolist()"
   ]
  },
  {
   "cell_type": "markdown",
   "id": "6ee26fc9",
   "metadata": {},
   "source": [
    "#### Creating a primitive set for the classificator expression"
   ]
  },
  {
   "cell_type": "code",
   "execution_count": 6,
   "id": "875634c4",
   "metadata": {},
   "outputs": [],
   "source": [
    "pset = gp.PrimitiveSet(\"main\", arity=ATR_DATA)\n",
    "\n",
    "# Adding primitive operators\n",
    "pset.addPrimitive(operator.add, 2)\n",
    "pset.addPrimitive(operator.sub, 2)\n",
    "pset.addPrimitive(operator.mul, 2)\n",
    "pset.addPrimitive(div, 2) \n",
    "pset.addPrimitive(lf, 3, name=\"lf\") # Added 'lf' as a name for the function\n",
    "\n",
    "\n",
    "# Generate an expression where each leaf has the same depth between min and max.\n",
    "expr = gp.genHalfAndHalf(pset, min_=1, max_=8) # Create expression of max depth 8 (from paper)\n",
    "tree = gp.PrimitiveTree(expr) # Create tree classificator from expression"
   ]
  },
  {
   "cell_type": "markdown",
   "id": "87b07270",
   "metadata": {},
   "source": [
    "### Creating a fitness function and an individual (Generation of Tree Individuals)"
   ]
  },
  {
   "cell_type": "code",
   "execution_count": 7,
   "id": "a1739055",
   "metadata": {},
   "outputs": [],
   "source": [
    "creator.create(\"FitnessMax\", base.Fitness, weights=(1.0, 1.0)) #FitnessMax, Multi, Min?\n",
    "\n",
    "# Create an individual of type primitive tree and our fitness function, pset is a previously defined\n",
    "creator.create(\"Individual\", gp.PrimitiveTree, fitness=creator.FitnessMax, pset=pset)"
   ]
  },
  {
   "cell_type": "markdown",
   "id": "ac4f5687",
   "metadata": {},
   "source": [
    "### Helper function for evaluation"
   ]
  },
  {
   "cell_type": "code",
   "execution_count": 8,
   "id": "275e5d95",
   "metadata": {},
   "outputs": [],
   "source": [
    "# Evaluation function\n",
    "def evaluateAccuracy(individual, data, names, pset): # po predlosku\n",
    "    \n",
    "    #Compiling the expression\n",
    "    classificator = gp.compile(individual, pset)\n",
    "    \n",
    "    minority_count = names.count(\"MIT\")\n",
    "    true_positive_count = 0\n",
    "    \n",
    "    majority_count = len(names) - minority_count\n",
    "    true_negative_count = 0\n",
    "    \n",
    "    for (d, n) in zip(data, names):\n",
    "        # feeding data to individual classificator\n",
    "        result = classificator(*d)\n",
    "        \n",
    "        #counting right answers       \n",
    "        if (n==\"MIT\") and (result >= 0): true_positive_count += 1\n",
    "        elif (n!=\"MIT\") and (result < 0): true_negative_count += 1\n",
    "        \n",
    "    # return accuracy on minority class and majority class\n",
    "    return (true_positive_count/minority_count, true_negative_count/majority_count)"
   ]
  },
  {
   "cell_type": "code",
   "execution_count": 9,
   "id": "41b729a1",
   "metadata": {},
   "outputs": [],
   "source": [
    "# Penalty function\n",
    "def feasible(individual, data, names, pset):\n",
    "    classificator = gp.compile(individual, pset)\n",
    "    for (d, n) in zip(data, names):\n",
    "        result = classificator(*d)\n",
    "        if (n == \"MIT\"): return True\n",
    "    return False"
   ]
  },
  {
   "cell_type": "markdown",
   "id": "4994c147",
   "metadata": {},
   "source": [
    "### Registering elements with toolbox"
   ]
  },
  {
   "cell_type": "code",
   "execution_count": 10,
   "id": "d4a5f648",
   "metadata": {},
   "outputs": [],
   "source": [
    "# Creating toolbox - https://deap.readthedocs.io/en/master/examples/gp_symbreg.html\n",
    "# https://deap.readthedocs.io/en/master/tutorials/basic/part2.html\n",
    "toolbox = base.Toolbox()\n",
    "\n",
    "toolbox.register(\"expr\", gp.genHalfAndHalf, pset=pset, min_=1, max_=8) # genHalfAndHalf - Generate an expression with a PrimitiveSet pset. Half the time, the expression is generated with genGrow(), the other half, the expression is generated with genFull()\n",
    "toolbox.register(\"individual\", tools.initIterate, creator.Individual, toolbox.expr) # Register individual from expression\n",
    "\n",
    "toolbox.register(\"population\", tools.initRepeat, list, toolbox.individual)\n",
    "\n",
    "#invalid_names = ['CYT', 'NUC', 'ME3', 'ME2', 'ME1', 'EXC', 'VAC', 'POX', 'ERL']\n",
    "\n",
    "toolbox.register('evaluate', evaluateAccuracy, data=data, names=names, pset=pset)\n",
    "# PENALTY - toolbox.decorate('evaluate', tools.DeltaPenalty(feasible, delta=invalid_names))\n",
    "\n",
    "# Register mate function\n",
    "toolbox.register('mate', gp.cxOnePoint)\n",
    "#toolbox.register('mate', gp.cxSemantic, pset=pset, min=1, max=8)\n",
    "\n",
    "#Register mutate function\n",
    "toolbox.register('mutate', gp.mutNodeReplacement, pset=pset)\n",
    "#toolbox.register('mutate', gp.mutSemantic, pset=pset, min=1, max=8)\n",
    "\n",
    "#Preselect option\n",
    "#toolbox.register('preselect', tools.selTournamentDCD)\n",
    "#toolbox.register('preselect', tools.selRandom)\n",
    "\n",
    "#Register select function\n",
    "#toolbox.register('select', tools.selSPEA2)\n",
    "toolbox.register('select', tools.selNSGA2)"
   ]
  },
  {
   "cell_type": "markdown",
   "id": "8ba45440",
   "metadata": {},
   "source": [
    "#### Some possible needed funcions"
   ]
  },
  {
   "cell_type": "code",
   "execution_count": 11,
   "id": "565a971f",
   "metadata": {},
   "outputs": [],
   "source": [
    "##DRAWING THE TREE###\n",
    "#expr = toolbox.individual()\n",
    "#nodes, edges, labels = gp.graph(expr)\n",
    "\n",
    "### Graphviz Section ###\n",
    "#import pygraphviz as pgv\n",
    "\n",
    "#g = pgv.AGraph()\n",
    "#g.add_nodes_from(nodes)\n",
    "#g.add_edges_from(edges)\n",
    "#g.layout(prog=\"dot\")\n",
    "\n",
    "#for i in nodes:\n",
    "#    n = g.get_node(i)\n",
    "#    n.attr[\"label\"] = labels[i]\n",
    "\n",
    "#g.draw(\"tree.pdf\")"
   ]
  },
  {
   "cell_type": "code",
   "execution_count": 12,
   "id": "96de745b",
   "metadata": {},
   "outputs": [],
   "source": [
    "#history = tools.History()\n",
    "\n",
    "# Decorate the variation operators\n",
    "#toolbox.decorate(\"mate\", history.decorator)\n",
    "#toolbox.decorate(\"mutate\", history.decorator)"
   ]
  },
  {
   "cell_type": "code",
   "execution_count": 13,
   "id": "938dff90",
   "metadata": {},
   "outputs": [],
   "source": [
    "# diversity function\n",
    "#def crowdingDistance(ind, hofer):\n",
    "#    dist = np.linalg.norm(np.array(ind1.fitness.values) - np.array(ind2.fitness.values))\n",
    "#    return True if(dist > 0.3) else False\n",
    "\n",
    "    # if ind has bigger crowding distance than hoffer return false, else return true\n",
    "    #eturn False if (dist > hofer)\n",
    "    #return True\n",
    "    \n",
    "# def Ncl(ind, hofer):\n",
    "    # if ind has bigger ncl return true, else return false (i think) (if ind gives more diverse answer than hofer return false, else return true)"
   ]
  },
  {
   "cell_type": "markdown",
   "id": "75795064",
   "metadata": {},
   "source": [
    "### Generating population"
   ]
  },
  {
   "cell_type": "code",
   "execution_count": 14,
   "id": "92ced0d7",
   "metadata": {},
   "outputs": [],
   "source": [
    "# toolbox.population(n=PNUM)\n",
    "\n",
    "population = toolbox.population(n=PNUM)\n",
    "\n",
    "fits = toolbox.map(toolbox.evaluate, population)\n",
    "for fit, ind  in  zip(fits, population):\n",
    "    ind.fitness.values = fit\n",
    "\n",
    "#history.update(population)"
   ]
  },
  {
   "cell_type": "markdown",
   "id": "93a25ae5",
   "metadata": {},
   "source": [
    "### Setting stats and pareto front variable"
   ]
  },
  {
   "cell_type": "code",
   "execution_count": 15,
   "id": "44e633bf",
   "metadata": {},
   "outputs": [],
   "source": [
    "# Diversity function\n",
    "def similarFunc(ind1, ind2):\n",
    "    if not isinstance(ind1, deap.creator.Individual):\n",
    "        return False\n",
    "    if not isinstance(ind2, deap.creator.Individual):\n",
    "        return False\n",
    "    if ind1 not in pop:\n",
    "        return False\n",
    "    if ind2 not in pop:\n",
    "        return False\n",
    "\n",
    "    ind1_pos = pop.index(ind1)\n",
    "    ind2_pos = pop.index(ind2)\n",
    "   \n",
    "    if pop[ind1_pos].fitness.crowding_dist <= pop[ind2_pos].fitness.crowding_dist:\n",
    "    #if ind1.fitness.crowding_dist == ind2.fitness.crowding_dist:\n",
    "        #print(\"IND1:\", pop[ind1_pos].fitness.crowding_dist)\n",
    "        #print(\"IND2:\", pop[ind2_pos].fitness.crowding_dist)\n",
    "        #print(\"IND1:\", ind1.fitness.crowding_dist)\n",
    "        #print(\"IND2:\", ind2.fitness.crowding_dist)\n",
    "        return True\n",
    "    return False"
   ]
  },
  {
   "cell_type": "code",
   "execution_count": 16,
   "id": "c9b4d6e9",
   "metadata": {},
   "outputs": [],
   "source": [
    "#pareto front, can have diversity function as argument\n",
    "pf = tools.ParetoFront(similar=similarFunc)\n",
    "#pf = tools.ParetoFront()\n",
    "\n",
    "stats = tools.Statistics(lambda ind: ind.fitness.values)\n",
    "stats.register(\"avg\", np.mean)\n",
    "stats.register(\"std\", np.std)\n",
    "stats.register(\"min\", np.min)\n",
    "stats.register(\"max\", np.max)\n"
   ]
  },
  {
   "cell_type": "markdown",
   "id": "2ba07ec9",
   "metadata": {},
   "source": [
    "### Evolving the population "
   ]
  },
  {
   "cell_type": "code",
   "execution_count": 17,
   "id": "d8fba037",
   "metadata": {},
   "outputs": [
    {
     "name": "stdout",
     "output_type": "stream",
     "text": [
      "Hypervolume:  144.0\n",
      "Training time: 5.43s\n"
     ]
    }
   ],
   "source": [
    "#za sve vrijednosti\n",
    "xvalues = []\n",
    "yvalues = []\n",
    "# #za posljednju generaciju \n",
    "# x_lastGen = []\n",
    "# y_lastGen = []\n",
    "\n",
    "start = time.time()\n",
    "\n",
    "##DIVA-PORTAL##\n",
    "pop = toolbox.select(population, len(population))\n",
    "#population = toolbox.select(population, len(population))\n",
    "for gen in range(1, GNUM):\n",
    "    offspring = algorithms.varAnd(pop, toolbox, cxpb=CSC, mutpb=MTC)\n",
    "    fits = toolbox.map(toolbox.evaluate, offspring)\n",
    "    for fit, ind in zip(fits, offspring):\n",
    "        ind.fitness.values = fit\n",
    "        \n",
    "        xvalues.append(ind.fitness.values[0])\n",
    "        yvalues.append(ind.fitness.values[1])\n",
    "        \n",
    "#         if (gen == GNUM-1):\n",
    "#             x_lastGen.append(ind.fitness.values[0])\n",
    "#             y_lastGen.append(ind.fitness.values[1])\n",
    "    \n",
    "    pop = toolbox.select(offspring + pop, k=PNUM)\n",
    "    pf.update(pop)\n",
    "\"\"\"\n",
    "# This is just to assign the crowding distance to the individuals\n",
    "# no actual selection is done\n",
    "\"\"\"\n",
    "\n",
    "\"\"\"\n",
    "# Evaluate the individuals with an invalid fitness\n",
    "invalid_ind = [ind for ind in pop if not ind.fitness.valid]\n",
    "fitnesses = toolbox.map(toolbox.evaluate, invalid_ind)\n",
    "for ind, fit in zip(invalid_ind, fitnesses):\n",
    "    ind.fitness.values = fit\n",
    "    \n",
    "# Begin the generational process\n",
    "for gen in range(1, GNUM):\n",
    "        # Vary the population\n",
    "    offspring = tools.selTournamentDCD(pop, len(pop))\n",
    "    offspring = [toolbox.clone(ind) for ind in offspring]\n",
    "        \n",
    "    for ind1, ind2 in zip(offspring[::2], offspring[1::2]):\n",
    "        if random.random() <= CSC:\n",
    "            toolbox.mate(ind1, ind2)\n",
    "            \n",
    "        toolbox.mutate(ind1)\n",
    "        toolbox.mutate(ind2)\n",
    "        \n",
    "        xvalues.append(ind1.fitness.values[0]) # nisam sigurna dal se ovdje appenda za prikaz na grafu\n",
    "        yvalues.append(ind1.fitness.values[1])\n",
    "        xvalues.append(ind2.fitness.values[0])\n",
    "        yvalues.append(ind2.fitness.values[1])\n",
    "        \n",
    "        del ind1.fitness.values, ind2.fitness.values\n",
    "        \n",
    "    # Evaluate the individuals with an invalid fitness\n",
    "    invalid_ind = [ind for ind in offspring if not ind.fitness.valid]\n",
    "    fitnesses = toolbox.map(toolbox.evaluate, invalid_ind)\n",
    "    for ind, fit in zip(invalid_ind, fitnesses):\n",
    "        ind.fitness.values = fit\n",
    "\n",
    "        # Select the next generation population\n",
    "    pop = toolbox.select(pop + offspring, PNUM)\n",
    "    pf.update(pop)\n",
    "\n",
    "\"\"\"\n",
    "\n",
    "hv = hypervolume(pf, [11.0, 11.0]) # provjeriti za ovo, 11.0 i 11.0? \n",
    "#https://github.com/DEAP/deap/blob/master/deap/tools/_hypervolume/pyhv.py\n",
    "print(\"Hypervolume: \", round(hv, 0))\n",
    "\n",
    "stop = time.time()\n",
    "print(f\"Training time: {round(stop-start,2)}s\")\n"
   ]
  },
  {
   "cell_type": "markdown",
   "id": "e779a7a5",
   "metadata": {},
   "source": [
    "### Printing and ploting the results"
   ]
  },
  {
   "cell_type": "code",
   "execution_count": 18,
   "id": "3cc5d518",
   "metadata": {},
   "outputs": [
    {
     "data": {
      "image/png": "[encoded data removed]",
      "text/plain": [
       "<Figure size 1152x1152 with 1 Axes>"
      ]
     },
     "metadata": {},
     "output_type": "display_data"
    }
   ],
   "source": [
    "#zapisuje fitness vrijednosti od pareto fronte\n",
    "px = []\n",
    "py = []\n",
    "for p in pf: \n",
    "    px.append(p.fitness.values[0])\n",
    "    py.append(p.fitness.values[1])\n",
    "    \n",
    "# plotamo sve fitness vrijednosti i vrijednosti pareto fronte\n",
    "plt.plot(xvalues, yvalues, 'o', alpha=.5) #sve vrijednosti (plava boja)\n",
    "#plt.plot(x_lastGen, y_lastGen, 'og') #vrijednosti zadnje generacije (zelena boja)\n",
    "plt.plot(px, py, 'or') #pareto fronta (crvena boja)\n",
    "plt.show()"
   ]
  },
  {
   "cell_type": "code",
   "execution_count": 19,
   "id": "a4a04d7d",
   "metadata": {},
   "outputs": [],
   "source": [
    "#import matplotlib.pyplot as plt\n",
    "#import networkx\n",
    "\n",
    "# The History class helps to build a genealogy of all the individuals produced in the evolution. \n",
    "# It contains two attributes, the genealogy_tree that is a dictionary of lists indexed by individual, \n",
    "# the list contain the indices of the parents. The second attribute genealogy_history contains every \n",
    "# individual indexed by their individual number as in the genealogy tree.\n",
    "\n",
    "#graph = networkx.DiGraph(history.genealogy_tree)\n",
    "#graph = graph.reverse()     # Make the graph top-down\n",
    "#colors = [toolbox.evaluate(history.genealogy_history[i])[0] for i in graph]\n",
    "#networkx.draw(graph, node_color=colors)\n",
    "#plt.show()"
   ]
  },
  {
   "cell_type": "markdown",
   "id": "9e7f8790",
   "metadata": {},
   "source": [
    "### Testing the population"
   ]
  },
  {
   "cell_type": "code",
   "execution_count": 20,
   "id": "7ecb4b66",
   "metadata": {},
   "outputs": [],
   "source": [
    "def testEnsambleAccuracy (data, names, ensamble):\n",
    "    \n",
    "    minority_count = np.count_nonzero(names == \"MIT\")\n",
    "    true_positive_count = 0\n",
    "    \n",
    "    majority_count = len(names) - minority_count\n",
    "    true_negative_count = 0\n",
    "    \n",
    "    for d, n in zip(data, names):\n",
    "        \n",
    "        min_vote = 0;\n",
    "        maj_vote = 0;\n",
    "        \n",
    "        for ind in ensamble:\n",
    "            classificator = gp.compile(ind, pset)\n",
    "            result = classificator(*d)\n",
    "            \n",
    "            if (result > 0): min_vote += 1\n",
    "            elif (result < 0): maj_vote += 1\n",
    "        \n",
    "        if((n == \"MIT\") and (min_vote > maj_vote)): true_positive_count +=1;\n",
    "        elif((n != \"MIT\") and (min_vote <= maj_vote)): true_negative_count += 1;\n",
    "        \n",
    "    return (true_positive_count/minority_count, true_negative_count/majority_count)"
   ]
  },
  {
   "cell_type": "code",
   "execution_count": 21,
   "id": "7c164c6b",
   "metadata": {},
   "outputs": [
    {
     "name": "stdout",
     "output_type": "stream",
     "text": [
      "(0.6691729323308271, 0.8144499178981938)\n"
     ]
    }
   ],
   "source": [
    "print(testEnsambleAccuracy(X_test, y_test, pf))"
   ]
  }
 ],
 "metadata": {
  "kernelspec": {
   "display_name": "Python 3",
   "language": "python",
   "name": "python3"
  },
  "language_info": {
   "codemirror_mode": {
    "name": "ipython",
    "version": 3
   },
   "file_extension": ".py",
   "mimetype": "text/x-python",
   "name": "python",
   "nbconvert_exporter": "python",
   "pygments_lexer": "ipython3",
   "version": "3.8.5"
  }
 },
 "nbformat": 4,
 "nbformat_minor": 5
}
