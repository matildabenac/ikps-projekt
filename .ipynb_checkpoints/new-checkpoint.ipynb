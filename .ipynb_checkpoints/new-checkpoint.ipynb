{
 "cells": [
  {
   "cell_type": "markdown",
   "metadata": {},
   "source": [
    "# Evolving Ensembles in Multi-objective GeneticProgramming for Classification with Unbalanced Data"
   ]
  },
  {
   "cell_type": "markdown",
   "metadata": {},
   "source": [
    "### Dataset YEAST\n",
    "\n",
    "Minority class = 'MIT'\n",
    "\n",
    "Majority class = other tags"
   ]
  },
  {
   "cell_type": "code",
   "execution_count": 1,
   "metadata": {},
   "outputs": [],
   "source": [
    "# Python 3.8.3\n",
    "import deap # 1.3.1\n",
    "from deap import gp, creator, base, tools, algorithms\n",
    "\n",
    "import numpy as np # 1.18.5\n",
    "\n",
    "import operator, random\n",
    "\n",
    "import matplotlib.pyplot as plt"
   ]
  },
  {
   "cell_type": "markdown",
   "metadata": {},
   "source": [
    "### Parameters"
   ]
  },
  {
   "cell_type": "code",
   "execution_count": 2,
   "metadata": {},
   "outputs": [],
   "source": [
    "PNUM = 20 # Number of individuals in a population\n",
    "GNUM = 10 # Number of generations\n",
    "MTC = 0.2 # Mutation chance\n",
    "CSC = 0.5 # Crossover chance"
   ]
  },
  {
   "cell_type": "markdown",
   "metadata": {},
   "source": [
    "#### Helper functions for primitive operators"
   ]
  },
  {
   "cell_type": "code",
   "execution_count": 3,
   "metadata": {},
   "outputs": [],
   "source": [
    "\n",
    "# Protected division\n",
    "def div(x, y):\n",
    "    if(y == 0):\n",
    "        return 1\n",
    "    else:\n",
    "        return x/y\n",
    "\n",
    "# If then operator - promijenila sam naziv iz if_then u lf (tako je tražilo cxSemantic)\n",
    "def lf(a, b, c):\n",
    "    if a < 0:\n",
    "        return b\n",
    "    else:\n",
    "        return c\n"
   ]
  },
  {
   "cell_type": "markdown",
   "metadata": {},
   "source": [
    "#### Importing dataset"
   ]
  },
  {
   "cell_type": "code",
   "execution_count": 4,
   "metadata": {},
   "outputs": [],
   "source": [
    "\n",
    "filename = \"./Datasets/yeast.data\"\n",
    "\n",
    "with open(filename) as f:\n",
    "    content = f.read().splitlines()\n",
    "    \n",
    "data = [] # data for saving the features from file\n",
    "names = [] # names of the protein classes\n",
    "    \n",
    "for line in content:\n",
    "    tmp = line.split()\n",
    "    tmp.pop(0) # pops the first element - we dont need it\n",
    "    \n",
    "    names.append(tmp.pop()) # pops the last element - name of protein\n",
    "    \n",
    "    data.append(np.asarray(tmp, float)) # extracting features to data as float values\n",
    "\n"
   ]
  },
  {
   "cell_type": "markdown",
   "metadata": {},
   "source": [
    "#### Creating a primitive set for the classificator expression"
   ]
  },
  {
   "cell_type": "code",
   "execution_count": 5,
   "metadata": {},
   "outputs": [],
   "source": [
    "pset = gp.PrimitiveSet(\"main\", arity=8)\n",
    "\n",
    "# Adding primitive operators\n",
    "pset.addPrimitive(operator.add, 2)\n",
    "pset.addPrimitive(operator.sub, 2)\n",
    "pset.addPrimitive(operator.mul, 2)\n",
    "pset.addPrimitive(div, 2) \n",
    "pset.addPrimitive(lf, 3, name=\"lf\") #promijenila naziv\n",
    "\n",
    "\n",
    "# Generate an expression where each leaf has the same depth between min and max.\n",
    "expr = gp.genHalfAndHalf(pset, min_=1, max_=8) # Create expression of max depth 8 (from paper)\n",
    "tree = gp.PrimitiveTree(expr) # Create tree classificator from expression"
   ]
  },
  {
   "cell_type": "markdown",
   "metadata": {},
   "source": [
    "### Creating a fitness function and an individual"
   ]
  },
  {
   "cell_type": "code",
   "execution_count": 6,
   "metadata": {},
   "outputs": [],
   "source": [
    "\n",
    "creator.create(\"Fitness\", base.Fitness, weights=(1.0, 1.0))\n",
    "\n",
    "# Create an individual of type primitive tree and our fitness function, pset is a previously defined\n",
    "creator.create(\"Individual\", gp.PrimitiveTree, fitness=creator.Fitness, pset=pset)\n"
   ]
  },
  {
   "cell_type": "markdown",
   "metadata": {},
   "source": [
    "### Helper function for evaluation"
   ]
  },
  {
   "cell_type": "code",
   "execution_count": 7,
   "metadata": {},
   "outputs": [],
   "source": [
    "\n",
    "# Evaluation function\n",
    "def evaluateAccuracy(individual, data, names, pset): # po predlosku\n",
    "    \n",
    "    #Compiling the expression\n",
    "    classificator = gp.compile(individual, pset)\n",
    "    \n",
    "    minority_count = names.count(\"MIT\")\n",
    "    true_positive_count = 0\n",
    "    \n",
    "    majority_count = len(names) - minority_count\n",
    "    true_negative_count = 0\n",
    "    \n",
    "    for (d, n) in zip(data, names):\n",
    "        # feeding data to individual classificator\n",
    "        result = classificator(*d)\n",
    "        \n",
    "        #counting right answers\n",
    "        if (n==\"MIT\") and (result >= 0): true_positive_count += 1\n",
    "        elif (n!=\"MIT\") and (result < 0): true_negative_count += 1\n",
    "        \n",
    "    # return accuracy on minority class and majority class\n",
    "    return (true_positive_count/minority_count, true_negative_count/majority_count)\n"
   ]
  },
  {
   "cell_type": "markdown",
   "metadata": {},
   "source": [
    "### Registering elements with toolbox"
   ]
  },
  {
   "cell_type": "code",
   "execution_count": 8,
   "metadata": {},
   "outputs": [],
   "source": [
    "\n",
    "# Creating toolbox\n",
    "toolbox = base.Toolbox()\n",
    "\n",
    "\n",
    "toolbox.register(\"expr\", gp.genHalfAndHalf, pset=pset, min_=1, max_=8) # genHalfAndHalf - Generate an expression with a PrimitiveSet pset. Half the time, the expression is generated with genGrow(), the other half, the expression is generated with genFull()\n",
    "toolbox.register(\"individual\", tools.initIterate, creator.Individual, toolbox.expr) # Register individual from expression\n",
    "\n",
    "toolbox.register(\"population\", tools.initRepeat, list, toolbox.individual)\n",
    "#toolbox.register(\"population\", tools.initRepeat, gp.PrimitiveTree, toolbox.individual)\n",
    "\n",
    "toolbox.register('select', tools.selTournament, tournsize = 7)\n",
    "# toolbox.register('select', tools.selSPEA2)\n",
    "\n",
    "# Register mate function\n",
    "toolbox.register('mate', gp.cxSemantic, pset=pset, min=1, max=8) #pisalo je da je ovaj OK za stabla\n",
    "\n",
    "#Register mutate function\n",
    "toolbox.register('mutate', gp.mutSemantic, pset=pset, min=1, max=8)#i ovaj je kao OK za stabla\n",
    "\n",
    "toolbox.register('evaluate', evaluateAccuracy, data=data, names=names, pset=pset)"
   ]
  },
  {
   "cell_type": "markdown",
   "metadata": {},
   "source": [
    "### Generating population"
   ]
  },
  {
   "cell_type": "code",
   "execution_count": 9,
   "metadata": {},
   "outputs": [],
   "source": [
    "# toolbox.population(n=PNUM)\n",
    "\n",
    "population = toolbox.population(n=PNUM)\n"
   ]
  },
  {
   "cell_type": "markdown",
   "metadata": {},
   "source": [
    "### Evolving the population / geting hallOfFame"
   ]
  },
  {
   "cell_type": "code",
   "execution_count": 10,
   "metadata": {},
   "outputs": [
    {
     "name": "stdout",
     "output_type": "stream",
     "text": [
      "gen\tnevals\tavg     \tstd     \tmin\tmax\n",
      "0  \t20    \t0.502146\t0.429821\t0  \t1  \n",
      "1  \t15    \t0.493792\t0.493586\t0  \t1  \n",
      "2  \t13    \t0.500605\t0.499395\t0  \t1  \n",
      "3  \t9     \t0.496457\t0.493119\t0.0016129\t1  \n",
      "4  \t5     \t0.500726\t0.499274\t0        \t1  \n",
      "5  \t13    \t0.500045\t0.482748\t0        \t1  \n",
      "6  \t15    \t0.499057\t0.495917\t0        \t1  \n",
      "7  \t10    \t0.500644\t0.498426\t0        \t1  \n",
      "8  \t14    \t0.498651\t0.474583\t0        \t1  \n",
      "9  \t10    \t0.503212\t0.48674 \t0        \t1  \n",
      "10 \t15    \t0.500222\t0.497936\t0        \t1  \n",
      "add(add(mul(add(ARG0, ARG5), mul(ARG2, ARG6)), add(lf(ARG3, ARG7, ARG2), div(ARG1, ARG6))), lf(add(add(ARG4, ARG6), div(ARG3, ARG1)), mul(mul(ARG0, ARG2), lf(ARG6, ARG2, ARG2)), sub(lf(ARG4, ARG4, ARG5), add(ARG2, ARG0))))\n",
      "(1.0, 0.0016129032258064516)\n",
      "\n",
      "\n",
      "add(add(mul(add(ARG0, ARG5), mul(ARG2, ARG6)), add(lf(ARG3, ARG7, ARG2), div(ARG1, ARG6))), lf(add(add(ARG4, ARG6), div(ARG3, ARG1)), mul(mul(ARG0, ARG2), lf(ARG6, ARG2, ARG2)), sub(lf(ARG4, ARG4, ARG5), add(ARG2, ARG0))))\n",
      "(1.0, 0.0016129032258064516)\n",
      "\n",
      "\n",
      "add(add(mul(add(ARG0, ARG5), mul(ARG2, ARG6)), add(lf(ARG3, ARG7, ARG2), div(ARG1, ARG6))), lf(add(add(ARG4, ARG6), div(ARG3, ARG1)), mul(mul(ARG0, ARG2), lf(ARG6, ARG2, ARG2)), sub(lf(ARG4, ARG4, ARG5), add(ARG2, ARG0))))\n",
      "(1.0, 0.0016129032258064516)\n",
      "\n",
      "\n",
      "add(add(mul(add(ARG0, ARG5), mul(ARG2, ARG6)), add(lf(ARG3, ARG7, ARG2), div(ARG1, ARG6))), lf(add(add(ARG4, ARG6), div(ARG3, ARG1)), mul(mul(ARG0, ARG2), lf(ARG6, ARG2, ARG2)), sub(lf(ARG4, ARG4, ARG5), add(ARG2, ARG0))))\n",
      "(1.0, 0.0016129032258064516)\n",
      "\n",
      "\n",
      "add(add(mul(add(ARG0, ARG5), mul(ARG2, ARG6)), add(lf(ARG3, ARG7, ARG2), div(ARG1, ARG6))), lf(add(add(ARG4, ARG6), div(ARG3, ARG1)), mul(mul(ARG0, ARG2), lf(ARG6, ARG2, ARG2)), sub(lf(ARG4, ARG4, ARG5), add(ARG2, ARG0))))\n",
      "(1.0, 0.0016129032258064516)\n",
      "\n",
      "\n",
      "add(add(mul(add(ARG0, ARG5), mul(ARG2, ARG6)), add(lf(ARG3, ARG7, ARG2), div(ARG1, ARG6))), lf(add(add(ARG4, ARG6), div(ARG3, ARG1)), mul(mul(ARG0, ARG2), lf(ARG6, ARG2, ARG2)), sub(lf(ARG4, ARG4, ARG5), add(ARG2, ARG0))))\n",
      "(1.0, 0.0016129032258064516)\n",
      "\n",
      "\n",
      "add(add(mul(add(ARG0, ARG5), mul(ARG2, ARG6)), add(lf(ARG3, ARG7, ARG2), div(ARG1, ARG6))), lf(add(add(ARG4, ARG6), div(ARG3, ARG1)), mul(mul(ARG0, ARG2), lf(ARG6, ARG2, ARG2)), sub(lf(ARG4, ARG4, ARG5), add(ARG2, ARG0))))\n",
      "(1.0, 0.0016129032258064516)\n",
      "\n",
      "\n",
      "add(add(mul(add(ARG0, ARG5), mul(ARG2, ARG6)), add(lf(ARG3, ARG7, ARG2), div(ARG1, ARG6))), lf(add(add(ARG4, ARG6), div(ARG3, ARG1)), mul(mul(ARG0, ARG2), lf(ARG6, ARG2, ARG2)), sub(lf(ARG4, ARG4, ARG5), add(ARG2, ARG0))))\n",
      "(1.0, 0.0016129032258064516)\n",
      "\n",
      "\n",
      "add(add(mul(add(ARG0, ARG5), mul(ARG2, ARG6)), add(lf(ARG3, ARG7, ARG2), div(ARG1, ARG6))), lf(add(add(ARG4, ARG6), div(ARG3, ARG1)), mul(mul(ARG0, ARG2), lf(ARG6, ARG2, ARG2)), sub(lf(ARG4, ARG4, ARG5), add(ARG2, ARG0))))\n",
      "(1.0, 0.0016129032258064516)\n",
      "\n",
      "\n",
      "add(add(mul(add(ARG0, ARG5), mul(ARG2, ARG6)), add(lf(ARG3, ARG7, ARG2), div(ARG1, ARG6))), lf(add(add(ARG4, ARG6), div(ARG3, ARG1)), mul(mul(ARG0, ARG2), lf(ARG6, ARG2, ARG2)), sub(lf(ARG4, ARG4, ARG5), add(ARG2, ARG0))))\n",
      "(1.0, 0.0016129032258064516)\n",
      "\n",
      "\n"
     ]
    }
   ],
   "source": [
    "\n",
    "hof = tools.HallOfFame(10) #hall of fame\n",
    "\n",
    "stats = tools.Statistics(lambda ind: ind.fitness.values) #statistika koju baš i ne kužim\n",
    "stats.register(\"avg\", np.mean)\n",
    "stats.register(\"std\", np.std)\n",
    "stats.register(\"min\", np.min)\n",
    "stats.register(\"max\", np.max)\n",
    "\n",
    "algorithms.eaSimple(population, toolbox, cxpb=CSC, mutpb=MTC, ngen=GNUM, stats=stats, halloffame=hof)\n",
    "# log = algorithms.eaSimple(population, toolbox, cxpb=0.5, mutpb=0.2, ngen=7, stats=stats, halloffame=hof)\n",
    "#print(hof)\n",
    "\n",
    "#printaj 3 hall of fame jedinke\n",
    "\n",
    "for i in hof:\n",
    "    print(i)\n",
    "    print(i.fitness.values)\n",
    "    print(\"\\n\")\n",
    "\n",
    "#print(log)\n"
   ]
  }
 ],
 "metadata": {
  "kernelspec": {
   "display_name": "Python 3",
   "language": "python",
   "name": "python3"
  },
  "language_info": {
   "codemirror_mode": {
    "name": "ipython",
    "version": 3
   },
   "file_extension": ".py",
   "mimetype": "text/x-python",
   "name": "python",
   "nbconvert_exporter": "python",
   "pygments_lexer": "ipython3",
   "version": "3.7.4"
  }
 },
 "nbformat": 4,
 "nbformat_minor": 5
}
