{
 "cells": [
  {
   "cell_type": "markdown",
   "metadata": {},
   "source": [
    "# Evolving Ensembles in Multi-objective GeneticProgramming for Classification with Unbalanced Data"
   ]
  },
  {
   "cell_type": "markdown",
   "metadata": {},
   "source": [
    "### Dataset YEAST\n",
    "\n",
    "Minority class = 'MIT'\n",
    "\n",
    "Majority class = other tags\n",
    "\n",
    "-----------------------------------------"
   ]
  },
  {
   "cell_type": "markdown",
   "metadata": {},
   "source": [
    "Imports"
   ]
  },
  {
   "cell_type": "code",
   "execution_count": 1,
   "metadata": {},
   "outputs": [],
   "source": [
    "# Python 3.8.3\n",
    "import deap # 1.3.1\n",
    "from deap import gp, creator, base, tools, algorithms\n",
    "\n",
    "import numpy as np # 1.18.5\n",
    "\n",
    "import operator, random"
   ]
  },
  {
   "cell_type": "markdown",
   "metadata": {},
   "source": [
    "Defining Constants"
   ]
  },
  {
   "cell_type": "code",
   "execution_count": 2,
   "metadata": {},
   "outputs": [],
   "source": [
    "# Number of individuals in a population\n",
    "PNUM = 10\n",
    "GNUM = 4\n",
    "MTC = 0.2"
   ]
  },
  {
   "cell_type": "markdown",
   "metadata": {},
   "source": [
    "Helper functions for primitive operators"
   ]
  },
  {
   "cell_type": "code",
   "execution_count": 3,
   "metadata": {},
   "outputs": [],
   "source": [
    "# Protected division\n",
    "def div(x, y):\n",
    "    if(y == 0):\n",
    "        return 1\n",
    "    else:\n",
    "        return x/y\n",
    "\n",
    "# If then operator\n",
    "def if_then(a, b, c):\n",
    "    if a < 0:\n",
    "        return b\n",
    "    else:\n",
    "        return c"
   ]
  },
  {
   "cell_type": "markdown",
   "metadata": {},
   "source": [
    "Helper functions for evaluation"
   ]
  },
  {
   "cell_type": "code",
   "execution_count": 4,
   "metadata": {},
   "outputs": [],
   "source": [
    "# Evaluation function\n",
    "def evaluateAccuracy(individual, data, names, pset): # po predlosku\n",
    "    \n",
    "    #Compiling the expression\n",
    "    classificator = gp.compile(individual, pset)\n",
    "    \n",
    "    minority_count = names.count(\"MIT\")\n",
    "    true_positive_count = 0\n",
    "    \n",
    "    majority_count = len(names) - minority_count\n",
    "    true_negative_count = 0\n",
    "    \n",
    "    for (d, n) in zip(data, names):\n",
    "        # feeding data to individual classificator\n",
    "        result = classificator(*d)\n",
    "        \n",
    "        #counting right answers\n",
    "        if (n==\"MIT\") and (result >= 0): true_positive_count += 1\n",
    "        elif (n!=\"MIT\") and (result < 0): true_negative_count += 1\n",
    "\n",
    "    # return accuracy on minority class and majority class\n",
    "    return (true_positive_count/minority_count, true_negative_count/majority_count)"
   ]
  },
  {
   "cell_type": "code",
   "execution_count": 5,
   "metadata": {},
   "outputs": [],
   "source": [
    "# Evaluation function that sets fitness values\n",
    "def evaluatePopulation(population, data, names, pset):\n",
    "    \n",
    "    # Evaluating each individual in population\n",
    "    for individual in population:\n",
    "        \n",
    "        # Compiling the expression\n",
    "        classificator = gp.compile(individual, pset)\n",
    "\n",
    "        minority_count = names.count(\"MIT\")\n",
    "        true_positive_count = 0\n",
    "\n",
    "        majority_count = len(names) - minority_count\n",
    "        true_negative_count = 0\n",
    "\n",
    "        for (d, n) in zip(data, names):\n",
    "            # Feeding data to individual classificator\n",
    "            result = classificator(*d)\n",
    "\n",
    "            # Counting right answers\n",
    "            if (n==\"MIT\") and (result >= 0): true_positive_count += 1\n",
    "            elif (n!=\"MIT\") and (result < 0): true_negative_count += 1\n",
    "\n",
    "        # Save fitness values for individual\n",
    "        individual.fitness.values = (true_positive_count/minority_count, true_negative_count/majority_count)\n",
    "    \n",
    "#     return population"
   ]
  },
  {
   "cell_type": "code",
   "execution_count": 6,
   "metadata": {},
   "outputs": [],
   "source": [
    "# Mating function, returns the combination of old population and new offspring\n",
    "def crossoverPopulation(population):\n",
    "    offspring = population.copy()\n",
    "    \n",
    "    while(len(population) > 1):\n",
    "        (parent1, parent2) = random.sample(population, 2) # Chooses two random individuals from the population\n",
    "        \n",
    "        (child1, child2) = gp.cxOnePoint(parent1, parent2) # Crossover function, gives 2 new individuals\n",
    "        \n",
    "        population.remove(parent1)\n",
    "        population.remove(parent2)\n",
    "        \n",
    "        offspring.append(child1)\n",
    "        offspring.append(child2)\n",
    "        \n",
    "    # ZASAD: zadnji ostaje nemutiran ako je neparan broj populacije\n",
    "    # ZA UBUDUCE: koristi drugi operator koji ce potencijalno dat razlicitu djecu\n",
    "#     if(len(population) == 1)\n",
    "    \n",
    "    return offspring\n",
    "        "
   ]
  },
  {
   "cell_type": "code",
   "execution_count": 7,
   "metadata": {},
   "outputs": [],
   "source": [
    "# Mutating function\n",
    "def mutatePopulation(population, pset, mutch):\n",
    "    \n",
    "    for individual in population:\n",
    "        \n",
    "        rand = random.random()\n",
    "\n",
    "        if(rand <= mutch):\n",
    "            individual = gp.mutNodeReplacement(individual, pset) # Replaces one node with another operation from pset\n",
    "        \n",
    "    return population"
   ]
  },
  {
   "cell_type": "markdown",
   "metadata": {},
   "source": [
    "## PITANJE: koji je mating je najbolje koristit tu? ima semantic koji vec i mutira djecu"
   ]
  },
  {
   "cell_type": "markdown",
   "metadata": {},
   "source": [
    "Import dataset from external file"
   ]
  },
  {
   "cell_type": "code",
   "execution_count": 8,
   "metadata": {},
   "outputs": [],
   "source": [
    "# Define a filename\n",
    "filename = \"./Datasets/yeast.data\"\n",
    "\n",
    "# Opening and reading the file\n",
    "with open(filename) as f:\n",
    "    content = f.read().splitlines()\n",
    "    \n",
    "data = [] # data for saving the features from file\n",
    "names = [] # names of the protein classes\n",
    "    \n",
    "for line in content:\n",
    "    tmp = line.split()\n",
    "    tmp.pop(0) # pops the first element - we dont need it\n",
    "    \n",
    "    names.append(tmp.pop()) # pops the last element - name of protein\n",
    "    \n",
    "    data.append(np.asarray(tmp, float)) # extracting features to data as float values\n",
    "\n",
    "# testing data\n",
    "# for d in data:\n",
    "#     print(d)"
   ]
  },
  {
   "cell_type": "markdown",
   "metadata": {},
   "source": [
    "Creating a primiive set for the classificator expression"
   ]
  },
  {
   "cell_type": "code",
   "execution_count": 9,
   "metadata": {},
   "outputs": [],
   "source": [
    "# Creating a primitive set\n",
    "pset = gp.PrimitiveSet(\"main\", arity=8)\n",
    "\n",
    "# Adding primitive operators\n",
    "pset.addPrimitive(operator.add, 2)\n",
    "pset.addPrimitive(operator.sub, 2)\n",
    "pset.addPrimitive(operator.mul, 2)\n",
    "pset.addPrimitive(div, 2) \n",
    "pset.addPrimitive(if_then, 3)\n",
    "\n",
    "# Generate an expression where each leaf has the same depth between min and max.\n",
    "# expr = gp.genFull(pset, min_=1, max_=8) # Create expression of max depth 8 (from paper)\n",
    "# tree = gp.PrimitiveTree(expr) # Create tree classificator from expression"
   ]
  },
  {
   "cell_type": "markdown",
   "metadata": {},
   "source": [
    "Creating a fitness function and an individual"
   ]
  },
  {
   "cell_type": "code",
   "execution_count": 10,
   "metadata": {},
   "outputs": [],
   "source": [
    "# Create a multi objective fitness function with weights between objectives\n",
    "creator.create(\"FitnessTmp\", base.Fitness, weights=(1.0, 1.0))\n",
    "\n",
    "# Create an individual of type primitive tree and our fitness function, pset is a previously defined\n",
    "creator.create(\"IndividualTree\", gp.PrimitiveTree, fitness=creator.FitnessTmp, pset=pset)\n"
   ]
  },
  {
   "cell_type": "markdown",
   "metadata": {},
   "source": [
    "Registering elements"
   ]
  },
  {
   "cell_type": "code",
   "execution_count": 11,
   "metadata": {},
   "outputs": [],
   "source": [
    "# Creating toolbox\n",
    "toolbox = base.Toolbox()\n",
    "\n",
    "# Register the type of expression the threes are gonna be with min and max depth (8 from paper)\n",
    "toolbox.register(\"expr\", gp.genFull, pset=pset, min_=1, max_=8) # genFull - Generate an expression where each leaf has the same depth between min and max\n",
    "toolbox.register(\"individual\", tools.initIterate, creator.IndividualTree, toolbox.expr) # Register individual from expression\n",
    "# Register population of type bag\n",
    "toolbox.register(\"population\", tools.initRepeat, gp.PrimitiveTree, toolbox.individual)\n",
    "\n",
    "# Operator functions\n",
    "\n",
    "# Register evaluation function\n",
    "toolbox.register('evaluatePop', evaluatePopulation, pset=pset)\n",
    "# toolbox.register('evaluate', evaluateAccuracy, data=data, names=names, pset=pset) # po predlosku\n",
    "\n",
    "# Register selection function\n",
    "toolbox.register('select', tools.selSPEA2)\n",
    "\n",
    "# Register mate function\n",
    "toolbox.register('mate', crossoverPopulation)\n",
    "# toolbox.register('mate', gp.cxOnePoint) # pi predlosku\n",
    "\n",
    "#Register mutate function\n",
    "toolbox.register('mutate', mutatePopulation, pset = pset, mutch = MTC)\n",
    "# toolbox.register('mutate', gp.mutNodeReplacement, pset=pset)"
   ]
  },
  {
   "cell_type": "markdown",
   "metadata": {},
   "source": [
    "## pitanje: koji od ona 3 koristit za gen (genHalfAndHalf mozda?)\n",
    "## pitanje: koji mutator koristit?"
   ]
  },
  {
   "cell_type": "markdown",
   "metadata": {},
   "source": [
    "Generating population"
   ]
  },
  {
   "cell_type": "code",
   "execution_count": 12,
   "metadata": {},
   "outputs": [],
   "source": [
    "# Generating population of n individuals\n",
    "population = toolbox.population(n=PNUM)"
   ]
  },
  {
   "cell_type": "markdown",
   "metadata": {},
   "source": [
    "Evolving the population"
   ]
  },
  {
   "cell_type": "code",
   "execution_count": 13,
   "metadata": {},
   "outputs": [],
   "source": [
    "# ---------- ovo ne radi jer Primitive tree type ne zeli bit slicean na taj nacin\n",
    "# algorithms.eaSimple(population, toolbox, cxpb=0.5, mutpb=0.2, ngen=50)\n",
    "# algorithms.eaMuPlusLambda(population, toolbox, mu=5, lambda_=5, cxpb=0.5, mutpb=0.2, ngen=2, stats=None, halloffame=None, verbose=__debug__)"
   ]
  },
  {
   "cell_type": "code",
   "execution_count": 14,
   "metadata": {},
   "outputs": [],
   "source": [
    "# po predlosku\n",
    "# # Evaluate population\n",
    "# fitnesses = toolbox.map(toolbox.evaluate, population)\n",
    "\n",
    "# # Mapping fitness values to individuals\n",
    "# for (ind, fit) in zip(population, fitnesses):\n",
    "#     ind.fitness.values = fit"
   ]
  },
  {
   "cell_type": "markdown",
   "metadata": {},
   "source": [
    "Genetic algorithm"
   ]
  },
  {
   "cell_type": "code",
   "execution_count": 15,
   "metadata": {
    "scrolled": true
   },
   "outputs": [
    {
     "name": "stdout",
     "output_type": "stream",
     "text": [
      "if_then(div(div(add(mul(ARG7, ARG3), add(ARG2, ARG0)), sub(sub(ARG0, ARG4), div(ARG1, ARG6))), sub(add(mul(ARG5, ARG4), div(ARG5, ARG4)), sub(div(ARG0, ARG3), if_then(ARG4, ARG1, ARG4)))), sub(sub(sub(if_then(ARG7, ARG4, ARG6), if_then(ARG7, ARG5, ARG6)), mul(mul(ARG1, ARG7), add(ARG4, ARG7))), if_then(sub(mul(ARG4, ARG0), div(ARG5, ARG6)), div(div(ARG3, ARG0), add(ARG7, ARG7)), if_then(add(ARG1, ARG4), add(ARG4, ARG7), div(ARG0, ARG1)))), div(sub(if_then(mul(ARG1, ARG1), add(ARG5, ARG6), mul(ARG6, ARG4)), div(div(ARG2, ARG2), mul(ARG0, ARG6))), sub(if_then(mul(ARG5, ARG6), mul(ARG6, ARG1), mul(ARG3, ARG6)), sub(sub(ARG0, ARG2), if_then(ARG7, ARG3, ARG3)))))\n",
      "\n",
      "mul(div(div(div(add(div(ARG3, ARG4), add(ARG2, ARG7)), div(sub(ARG4, ARG0), add(ARG2, ARG7))), mul(mul(if_then(ARG3, ARG7, ARG7), div(ARG4, ARG5)), sub(sub(ARG5, ARG5), mul(ARG0, ARG1)))), if_then(sub(mul(sub(ARG3, ARG3), mul(ARG3, ARG3)), div(if_then(ARG5, ARG1, ARG3), mul(ARG1, ARG0))), mul(mul(add(ARG3, ARG2), sub(ARG6, ARG5)), if_then(sub(ARG2, ARG5), mul(ARG7, ARG5), if_then(ARG3, ARG6, ARG2))), mul(mul(mul(ARG5, ARG4), div(ARG3, ARG0)), sub(add(ARG3, ARG6), add(ARG6, ARG4))))), mul(sub(sub(div(div(ARG7, ARG7), if_then(ARG0, ARG1, ARG1)), add(add(ARG2, ARG4), if_then(ARG5, ARG3, ARG6))), add(sub(sub(ARG5, ARG6), if_then(ARG5, ARG2, ARG1)), div(div(ARG1, ARG6), div(ARG7, ARG1)))), div(div(mul(if_then(ARG7, ARG0, ARG4), add(ARG2, ARG5)), div(div(ARG4, ARG7), div(ARG3, ARG5))), mul(add(add(ARG1, ARG4), sub(ARG2, ARG5)), if_then(sub(ARG2, ARG6), mul(ARG3, ARG2), div(ARG6, ARG7))))))\n",
      "\n",
      "if_then(sub(add(sub(mul(mul(ARG5, ARG0), sub(ARG7, ARG7)), add(if_then(ARG4, ARG0, ARG6), sub(ARG7, ARG0))), sub(add(div(ARG1, ARG1), mul(ARG0, ARG4)), sub(if_then(ARG7, ARG4, ARG0), sub(ARG5, ARG0)))), mul(mul(sub(if_then(ARG7, ARG2, ARG0), div(ARG2, ARG3)), add(add(ARG7, ARG6), mul(ARG5, ARG1))), mul(add(mul(ARG2, ARG7), if_then(ARG4, ARG6, ARG4)), mul(add(ARG2, ARG5), mul(ARG4, ARG1))))), if_then(div(if_then(div(sub(ARG7, ARG2), div(ARG2, ARG5)), div(if_then(ARG3, ARG0, ARG1), if_then(ARG0, ARG7, ARG4)), mul(add(ARG5, ARG2), mul(ARG7, ARG4))), sub(add(add(ARG3, ARG4), if_then(ARG2, ARG5, ARG2)), add(div(ARG1, ARG3), add(ARG3, ARG6)))), mul(div(sub(if_then(ARG2, ARG4, ARG4), sub(ARG1, ARG5)), add(sub(ARG1, ARG7), sub(ARG5, ARG0))), sub(add(div(ARG7, ARG2), mul(ARG7, ARG7)), div(mul(ARG0, ARG7), if_then(ARG5, ARG3, ARG0)))), add(add(div(div(ARG3, ARG4), sub(ARG3, ARG0)), if_then(mul(ARG1, ARG6), add(ARG2, ARG3), add(ARG6, ARG6))), add(mul(add(ARG6, ARG5), mul(ARG1, ARG2)), sub(sub(ARG1, ARG6), if_then(ARG7, ARG2, ARG7))))), mul(if_then(div(if_then(div(ARG3, ARG6), add(ARG3, ARG5), div(ARG0, ARG4)), mul(if_then(ARG1, ARG1, ARG1), div(ARG7, ARG1))), if_then(mul(add(ARG5, ARG0), mul(ARG2, ARG0)), sub(mul(ARG1, ARG6), if_then(ARG7, ARG6, ARG1)), add(mul(ARG4, ARG4), sub(ARG5, ARG3))), if_then(if_then(if_then(ARG6, ARG6, ARG0), div(ARG2, ARG4), sub(ARG4, ARG5)), mul(div(ARG5, ARG7), div(ARG4, ARG1)), mul(add(ARG0, ARG7), if_then(ARG5, ARG4, ARG1)))), div(mul(sub(div(ARG6, ARG7), div(ARG0, ARG0)), ARG3), if_then(add(sub(ARG6, ARG7), add(ARG7, ARG6)), if_then(add(ARG1, ARG7), if_then(ARG3, ARG3, ARG3), mul(ARG1, ARG1)), sub(if_then(ARG6, ARG3, ARG2), if_then(ARG7, ARG1, ARG4))))))\n",
      "\n",
      "if_then(sub(add(sub(mul(mul(ARG5, ARG0), sub(ARG7, ARG7)), add(if_then(ARG4, ARG0, ARG6), sub(ARG7, ARG0))), sub(add(div(ARG1, ARG1), mul(ARG0, ARG4)), sub(if_then(ARG7, ARG4, ARG0), sub(ARG5, ARG0)))), mul(mul(sub(if_then(ARG7, ARG2, ARG0), div(ARG2, ARG3)), add(add(ARG7, ARG6), mul(ARG5, ARG1))), mul(add(mul(ARG2, ARG7), if_then(ARG4, ARG6, ARG4)), mul(add(ARG2, ARG5), mul(ARG4, ARG1))))), if_then(div(if_then(div(sub(ARG7, ARG2), div(ARG2, ARG5)), div(if_then(ARG3, ARG0, ARG1), if_then(ARG0, ARG7, ARG4)), mul(add(ARG5, ARG2), mul(ARG7, ARG4))), sub(add(add(ARG3, ARG4), if_then(ARG2, ARG5, ARG2)), add(div(ARG1, ARG3), add(ARG3, ARG6)))), mul(div(sub(if_then(ARG2, ARG4, ARG4), sub(ARG1, ARG5)), add(sub(ARG1, ARG7), sub(ARG5, ARG0))), sub(add(div(ARG7, ARG2), mul(ARG7, ARG7)), div(mul(ARG0, ARG7), if_then(ARG5, ARG3, ARG0)))), add(add(div(div(ARG3, ARG4), sub(ARG3, ARG0)), if_then(mul(ARG1, ARG6), add(ARG2, ARG3), add(ARG6, ARG6))), add(mul(add(ARG6, ARG5), mul(ARG1, ARG2)), sub(sub(ARG1, ARG6), if_then(ARG7, ARG2, ARG7))))), mul(if_then(div(if_then(div(ARG3, ARG6), add(ARG3, ARG5), div(ARG0, ARG4)), mul(if_then(ARG1, ARG1, ARG1), div(ARG7, ARG1))), if_then(mul(add(ARG5, ARG0), mul(ARG2, ARG0)), sub(mul(ARG1, ARG6), if_then(ARG7, ARG6, ARG1)), add(mul(ARG4, ARG4), sub(ARG5, ARG3))), if_then(if_then(if_then(ARG6, ARG6, ARG0), div(ARG2, ARG4), sub(ARG4, ARG5)), mul(div(ARG5, ARG7), div(ARG4, ARG1)), mul(add(ARG0, ARG7), if_then(ARG5, ARG4, ARG1)))), div(mul(sub(div(ARG6, ARG7), div(ARG0, ARG0)), ARG3), if_then(add(sub(ARG6, ARG7), add(ARG7, ARG6)), if_then(add(ARG1, ARG7), if_then(ARG3, ARG3, ARG3), mul(ARG1, ARG1)), sub(if_then(ARG6, ARG3, ARG2), if_then(ARG7, ARG1, ARG4))))))\n",
      "\n",
      "if_then(div(div(add(mul(ARG7, ARG3), add(ARG2, ARG0)), sub(sub(ARG0, ARG4), div(ARG1, ARG6))), sub(add(mul(ARG5, ARG4), div(ARG5, ARG4)), sub(div(ARG0, ARG3), if_then(ARG4, ARG1, ARG4)))), sub(sub(sub(if_then(ARG7, ARG4, ARG6), if_then(ARG7, ARG5, ARG6)), mul(mul(ARG1, ARG7), add(ARG4, ARG7))), if_then(sub(mul(ARG4, ARG0), div(ARG5, ARG6)), div(div(ARG3, ARG0), add(ARG7, ARG7)), if_then(add(ARG1, ARG4), add(ARG4, ARG7), div(ARG0, ARG1)))), div(sub(if_then(mul(ARG1, ARG1), add(ARG5, ARG6), mul(ARG6, ARG4)), div(div(ARG2, ARG2), mul(ARG0, ARG6))), sub(if_then(mul(ARG5, ARG6), mul(ARG6, ARG1), mul(ARG3, ARG6)), sub(sub(ARG0, ARG2), if_then(ARG7, ARG3, ARG3)))))\n",
      "\n",
      "add(add(mul(ARG1, ARG6), mul(ARG2, ARG6)), add(if_then(ARG7, ARG2, ARG1), add(ARG6, ARG3)))\n",
      "\n",
      "add(add(div(add(ARG3, ARG4), add(ARG0, ARG5)), if_then(div(ARG4, ARG5), sub(ARG2, ARG0), mul(ARG5, ARG2))), mul(if_then(div(ARG5, ARG2), if_then(ARG7, ARG3, ARG4), add(ARG7, ARG0)), add(mul(ARG3, ARG1), sub(ARG7, ARG3))))\n",
      "\n",
      "add(ARG1, ARG7)\n",
      "\n",
      "mul(div(div(div(add(div(ARG3, ARG4), add(ARG2, ARG7)), div(sub(ARG4, ARG0), add(ARG2, ARG7))), mul(mul(if_then(ARG3, ARG7, ARG7), div(ARG4, ARG5)), sub(sub(ARG5, ARG5), mul(ARG0, ARG1)))), if_then(sub(mul(sub(ARG3, ARG3), mul(ARG3, ARG3)), div(if_then(ARG5, ARG1, ARG3), mul(ARG1, ARG0))), mul(mul(add(ARG3, ARG2), sub(ARG6, ARG5)), if_then(sub(ARG2, ARG5), mul(ARG7, ARG5), if_then(ARG3, ARG6, ARG2))), mul(mul(mul(ARG5, ARG4), div(ARG3, ARG0)), sub(add(ARG3, ARG6), add(ARG6, ARG4))))), mul(sub(sub(div(div(ARG7, ARG7), if_then(ARG0, ARG1, ARG1)), add(add(ARG2, ARG4), if_then(ARG5, ARG3, ARG6))), add(sub(sub(ARG5, ARG6), if_then(ARG5, ARG2, ARG1)), div(div(ARG1, ARG6), div(ARG7, ARG1)))), div(div(mul(if_then(ARG7, ARG0, ARG4), add(ARG2, ARG5)), div(div(ARG4, ARG7), div(ARG3, ARG5))), mul(add(add(ARG1, ARG4), sub(ARG2, ARG5)), if_then(sub(ARG2, ARG6), mul(ARG3, ARG2), div(ARG6, ARG7))))))\n",
      "\n",
      "add(add(ARG3, ARG1), if_then(ARG2, ARG4, ARG5))\n",
      "\n",
      "\n",
      "\n",
      "add(add(div(add(ARG3, ARG4), add(ARG0, ARG4)), if_then(div(ARG4, ARG5), sub(ARG2, ARG0), mul(ARG5, ARG2))), div(if_then(div(ARG5, ARG2), if_then(ARG7, ARG3, ARG4), add(ARG7, ARG0)), add(mul(ARG3, ARG1), sub(ARG7, ARG3))))\n",
      "\n",
      "mul(div(div(div(add(div(ARG3, ARG4), add(ARG2, ARG7)), div(sub(ARG4, ARG3), add(ARG2, ARG7))), mul(mul(if_then(ARG3, ARG7, ARG7), div(ARG4, ARG5)), sub(sub(ARG5, ARG5), mul(ARG0, ARG1)))), if_then(sub(mul(sub(ARG3, ARG3), mul(ARG3, ARG3)), div(if_then(ARG5, ARG1, ARG3), mul(ARG1, ARG0))), mul(mul(add(ARG3, ARG2), sub(ARG6, ARG5)), if_then(sub(ARG2, ARG5), mul(ARG7, ARG5), if_then(ARG3, ARG6, ARG2))), mul(mul(mul(ARG5, ARG4), div(ARG3, ARG0)), sub(add(ARG3, ARG6), add(ARG6, ARG4))))), mul(sub(sub(div(div(ARG7, ARG7), if_then(ARG0, ARG1, ARG1)), add(add(ARG2, ARG4), if_then(ARG5, ARG3, ARG6))), add(sub(sub(ARG5, ARG6), if_then(ARG5, ARG2, ARG1)), div(div(ARG1, ARG6), div(ARG7, ARG1)))), div(div(mul(if_then(ARG7, ARG4, ARG4), add(ARG2, ARG5)), div(div(ARG4, ARG7), div(ARG3, ARG5))), mul(add(add(ARG1, ARG4), sub(ARG2, ARG5)), if_then(sub(ARG2, ARG6), mul(ARG3, ARG2), div(ARG6, ARG7))))))\n",
      "\n",
      "add(ARG1, add(ARG6, ARG3))\n",
      "\n",
      "add(add(mul(ARG1, ARG6), mul(ARG2, ARG6)), add(if_then(ARG7, ARG2, ARG1), ARG7))\n",
      "\n",
      "if_then(div(div(add(ARG3, add(ARG2, ARG0)), sub(sub(ARG0, ARG4), div(ARG1, ARG6))), sub(add(mul(ARG5, ARG4), div(ARG5, ARG4)), sub(add(ARG0, ARG3), if_then(ARG4, ARG1, ARG4)))), sub(sub(sub(if_then(ARG7, ARG4, ARG6), if_then(ARG7, ARG5, ARG6)), mul(mul(ARG1, ARG7), add(ARG4, ARG7))), if_then(sub(mul(ARG5, ARG0), div(ARG5, ARG6)), div(div(ARG3, ARG0), add(ARG7, ARG7)), if_then(add(ARG1, ARG4), add(ARG4, ARG7), div(ARG0, ARG1)))), div(sub(if_then(mul(ARG1, ARG1), add(ARG5, ARG6), mul(ARG6, ARG4)), div(div(ARG2, ARG2), mul(ARG0, ARG6))), sub(if_then(mul(ARG5, ARG6), mul(ARG6, ARG1), mul(ARG3, ARG6)), sub(sub(ARG0, ARG2), if_then(ARG7, ARG3, ARG3)))))\n",
      "\n",
      "if_then(sub(add(sub(mul(mul(ARG5, ARG0), sub(ARG7, ARG7)), add(if_then(ARG4, ARG0, ARG6), sub(ARG7, ARG0))), sub(add(div(ARG1, ARG1), mul(ARG0, ARG4)), sub(if_then(ARG7, ARG4, ARG0), sub(ARG5, ARG0)))), mul(mul(sub(if_then(ARG7, ARG2, ARG0), div(ARG2, ARG3)), add(add(ARG7, ARG6), mul(ARG5, ARG1))), mul(add(mul(ARG2, ARG7), if_then(ARG4, ARG6, ARG4)), mul(add(ARG2, ARG5), mul(ARG4, ARG1))))), if_then(div(if_then(div(sub(ARG7, ARG2), div(ARG2, ARG5)), div(if_then(ARG3, ARG0, ARG1), if_then(ARG0, ARG7, ARG4)), mul(add(ARG5, ARG2), mul(ARG7, ARG4))), sub(add(add(ARG3, ARG4), if_then(ARG2, ARG5, ARG2)), add(div(ARG1, ARG3), add(ARG3, ARG6)))), mul(div(sub(if_then(ARG2, ARG4, ARG4), sub(ARG1, ARG5)), add(sub(ARG1, ARG7), sub(ARG5, ARG0))), sub(add(div(ARG7, ARG2), mul(ARG7, ARG7)), div(mul(ARG0, ARG7), if_then(ARG5, mul(ARG7, ARG3), ARG0)))), add(add(div(div(ARG3, ARG4), sub(ARG3, ARG0)), if_then(mul(ARG1, ARG6), add(ARG2, ARG3), add(ARG6, ARG6))), add(mul(add(ARG6, ARG5), mul(ARG1, ARG2)), sub(sub(ARG1, ARG6), if_then(ARG7, ARG2, ARG7))))), mul(if_then(div(if_then(div(ARG3, ARG6), add(ARG3, ARG5), div(ARG0, ARG4)), mul(if_then(ARG1, ARG1, ARG1), div(ARG7, ARG1))), if_then(mul(add(ARG5, ARG0), mul(ARG2, ARG0)), sub(mul(ARG1, ARG6), if_then(ARG7, ARG6, ARG1)), add(mul(ARG0, ARG4), sub(ARG5, ARG3))), if_then(if_then(if_then(ARG6, ARG6, ARG0), div(ARG2, ARG4), sub(ARG4, ARG5)), mul(div(ARG5, ARG7), div(ARG4, ARG1)), mul(add(ARG0, ARG7), if_then(ARG5, ARG4, ARG1)))), div(mul(sub(div(ARG6, ARG7), div(ARG0, ARG0)), ARG3), if_then(add(sub(ARG6, ARG7), add(ARG7, ARG6)), if_then(add(ARG1, ARG7), if_then(ARG3, ARG3, ARG3), mul(ARG1, ARG1)), sub(if_then(ARG6, ARG3, ARG2), if_then(ARG7, ARG1, ARG4))))))\n",
      "\n",
      "mul(div(div(div(add(div(ARG3, ARG4), add(ARG2, ARG7)), div(sub(ARG4, ARG3), add(ARG2, ARG7))), mul(mul(if_then(ARG3, ARG7, ARG7), div(ARG4, ARG5)), sub(sub(ARG5, ARG5), mul(ARG0, ARG1)))), if_then(sub(mul(sub(ARG3, ARG3), mul(ARG3, ARG3)), div(if_then(ARG5, ARG1, ARG3), mul(ARG1, ARG0))), mul(mul(add(ARG3, ARG2), sub(ARG6, ARG5)), if_then(sub(ARG2, ARG5), mul(ARG7, ARG5), if_then(ARG3, ARG6, ARG2))), mul(mul(mul(ARG5, ARG4), div(ARG3, ARG0)), sub(add(ARG3, ARG6), add(ARG6, ARG4))))), mul(sub(sub(div(div(ARG7, ARG7), if_then(ARG0, ARG1, ARG1)), add(add(ARG2, ARG4), if_then(ARG5, ARG3, ARG6))), add(sub(sub(ARG5, ARG6), if_then(ARG5, ARG2, ARG1)), div(div(ARG1, ARG6), div(ARG7, ARG1)))), div(div(mul(if_then(ARG7, ARG4, ARG4), add(ARG2, ARG5)), div(div(ARG4, ARG7), div(ARG3, ARG5))), mul(add(add(ARG1, ARG4), sub(ARG2, ARG5)), if_then(sub(ARG2, ARG6), mul(ARG3, ARG2), div(ARG6, ARG7))))))\n",
      "\n",
      "if_then(sub(add(sub(mul(mul(ARG5, ARG0), sub(ARG7, ARG7)), add(if_then(ARG4, ARG0, ARG6), sub(ARG7, ARG0))), sub(add(div(ARG1, ARG1), mul(ARG0, ARG4)), sub(if_then(ARG7, ARG4, ARG0), sub(ARG5, ARG0)))), mul(mul(sub(if_then(ARG7, ARG2, ARG0), div(ARG2, ARG3)), add(add(ARG7, ARG6), mul(ARG5, ARG1))), mul(add(mul(ARG2, ARG7), if_then(ARG4, ARG6, ARG4)), mul(add(ARG2, ARG5), mul(ARG4, ARG1))))), if_then(div(if_then(div(sub(ARG7, ARG2), div(ARG2, ARG5)), div(if_then(ARG3, ARG0, ARG1), if_then(ARG0, ARG7, ARG4)), mul(add(ARG5, ARG2), mul(ARG7, ARG4))), sub(add(add(ARG3, ARG4), if_then(ARG2, ARG5, ARG2)), add(div(ARG1, ARG3), add(ARG3, ARG6)))), mul(div(sub(if_then(ARG2, ARG4, ARG4), sub(ARG1, ARG5)), add(sub(ARG1, ARG7), sub(ARG5, ARG0))), sub(add(div(ARG7, ARG2), mul(ARG7, ARG7)), div(mul(ARG0, ARG7), if_then(ARG5, mul(ARG7, ARG3), ARG0)))), add(add(div(div(ARG3, ARG4), sub(ARG3, ARG0)), if_then(mul(ARG1, ARG6), add(ARG2, ARG3), add(ARG6, ARG6))), add(mul(add(ARG6, ARG5), mul(ARG1, ARG2)), sub(sub(ARG1, ARG6), if_then(ARG7, ARG2, ARG7))))), mul(if_then(div(if_then(div(ARG3, ARG6), add(ARG3, ARG5), div(ARG0, ARG4)), mul(if_then(ARG1, ARG1, ARG1), div(ARG7, ARG1))), if_then(mul(add(ARG5, ARG0), mul(ARG2, ARG0)), sub(mul(ARG1, ARG6), if_then(ARG7, ARG6, ARG1)), add(mul(ARG0, ARG4), sub(ARG5, ARG3))), if_then(if_then(if_then(ARG6, ARG6, ARG0), div(ARG2, ARG4), sub(ARG4, ARG5)), mul(div(ARG5, ARG7), div(ARG4, ARG1)), mul(add(ARG0, ARG7), if_then(ARG5, ARG4, ARG1)))), div(mul(sub(div(ARG6, ARG7), div(ARG0, ARG0)), ARG3), if_then(add(sub(ARG6, ARG7), add(ARG7, ARG6)), if_then(add(ARG1, ARG7), if_then(ARG3, ARG3, ARG3), mul(ARG1, ARG1)), sub(if_then(ARG6, ARG3, ARG2), if_then(ARG7, ARG1, ARG4))))))\n",
      "\n",
      "add(add(div(add(ARG3, ARG4), add(ARG0, ARG4)), if_then(div(ARG4, ARG5), sub(ARG2, ARG0), mul(ARG5, ARG2))), div(if_then(div(ARG5, ARG2), if_then(ARG7, ARG3, ARG4), add(ARG7, ARG0)), add(mul(ARG3, ARG1), sub(ARG7, ARG3))))\n",
      "\n",
      "if_then(div(div(add(ARG3, add(ARG2, ARG0)), sub(sub(ARG0, ARG4), div(ARG1, ARG6))), sub(add(mul(ARG5, ARG4), div(ARG5, ARG4)), sub(add(ARG0, ARG3), if_then(ARG4, ARG1, ARG4)))), sub(sub(sub(if_then(ARG7, ARG4, ARG6), if_then(ARG7, ARG5, ARG6)), mul(mul(ARG1, ARG7), add(ARG4, ARG7))), if_then(sub(mul(ARG5, ARG0), div(ARG5, ARG6)), div(div(ARG3, ARG0), add(ARG7, ARG7)), if_then(add(ARG1, ARG4), add(ARG4, ARG7), div(ARG0, ARG1)))), div(sub(if_then(mul(ARG1, ARG1), add(ARG5, ARG6), mul(ARG6, ARG4)), div(div(ARG2, ARG2), mul(ARG0, ARG6))), sub(if_then(mul(ARG5, ARG6), mul(ARG6, ARG1), mul(ARG3, ARG6)), sub(sub(ARG0, ARG2), if_then(ARG7, ARG3, ARG3)))))\n",
      "\n",
      "\n",
      "\n"
     ]
    },
    {
     "name": "stdout",
     "output_type": "stream",
     "text": [
      "add(add(mul(ARG1, ARG6), mul(ARG2, ARG6)), add(add(ARG6, ARG3), ARG7))\n",
      "\n",
      "if_then(div(div(add(ARG3, add(ARG2, ARG0)), sub(sub(ARG0, ARG4), div(ARG1, ARG6))), sub(add(mul(ARG5, ARG4), div(ARG5, ARG4)), sub(add(ARG0, ARG3), if_then(ARG4, ARG1, ARG4)))), sub(sub(sub(if_then(ARG7, ARG4, ARG6), if_then(ARG7, ARG5, ARG6)), mul(mul(ARG1, ARG7), add(ARG4, ARG7))), if_then(sub(mul(ARG5, ARG0), div(ARG5, ARG6)), div(div(ARG3, ARG0), add(ARG7, ARG7)), if_then(add(ARG5, ARG4), add(ARG4, ARG7), div(ARG0, ARG1)))), div(sub(if_then(mul(ARG1, ARG1), add(ARG5, ARG6), mul(ARG6, ARG4)), div(div(ARG2, ARG2), mul(ARG0, ARG6))), sub(if_then(mul(ARG5, ARG6), mul(ARG6, ARG1), mul(ARG3, ARG6)), sub(sub(ARG0, ARG2), mul(ARG3, ARG3)))))\n",
      "\n",
      "if_then(sub(add(sub(mul(mul(ARG5, ARG0), sub(ARG7, ARG7)), add(if_then(ARG4, ARG0, ARG6), mul(ARG7, ARG0))), sub(add(div(ARG1, ARG1), mul(ARG0, ARG4)), sub(if_then(ARG7, ARG4, ARG0), sub(ARG5, ARG0)))), mul(mul(sub(if_then(ARG7, ARG2, ARG0), div(ARG2, ARG3)), add(add(ARG7, ARG6), mul(ARG5, ARG1))), mul(add(mul(ARG2, ARG7), if_then(ARG4, ARG6, ARG4)), mul(add(ARG2, ARG5), mul(ARG4, ARG1))))), if_then(div(if_then(div(sub(ARG7, ARG2), div(ARG2, ARG5)), div(if_then(ARG3, ARG0, ARG1), if_then(ARG0, ARG7, ARG4)), mul(add(ARG5, ARG2), mul(ARG7, ARG4))), sub(add(add(ARG3, ARG4), if_then(ARG2, ARG5, ARG2)), add(div(ARG1, ARG3), add(ARG3, ARG6)))), mul(div(sub(if_then(ARG2, ARG4, ARG4), sub(ARG1, ARG5)), add(sub(ARG1, ARG7), sub(ARG5, ARG0))), sub(add(div(ARG7, ARG2), mul(ARG7, ARG7)), div(mul(ARG0, ARG7), if_then(ARG5, mul(ARG7, ARG3), ARG0)))), add(add(div(div(ARG3, ARG4), sub(ARG3, ARG1)), if_then(mul(ARG1, ARG6), add(ARG2, ARG3), add(ARG6, ARG6))), add(mul(add(ARG6, ARG5), mul(ARG1, ARG2)), sub(sub(ARG1, ARG6), if_then(ARG7, ARG2, ARG7))))), mul(if_then(div(if_then(div(ARG3, ARG6), add(ARG3, ARG5), div(ARG0, ARG4)), mul(if_then(ARG1, ARG1, ARG1), div(ARG7, ARG1))), if_then(mul(add(ARG5, ARG0), mul(ARG2, ARG0)), sub(mul(ARG1, ARG6), if_then(ARG7, ARG6, ARG1)), add(mul(ARG0, ARG4), sub(ARG5, ARG3))), if_then(if_then(if_then(ARG6, ARG6, ARG0), div(ARG2, ARG4), ARG3), mul(div(ARG1, ARG7), div(ARG4, ARG1)), mul(add(ARG0, ARG7), if_then(ARG5, ARG4, ARG1)))), div(mul(sub(div(ARG6, ARG7), div(ARG0, ARG0)), ARG3), if_then(add(sub(ARG6, ARG7), add(ARG7, ARG6)), if_then(add(ARG1, ARG7), if_then(ARG3, ARG3, ARG3), mul(ARG1, ARG1)), sub(if_then(ARG6, ARG3, ARG2), if_then(ARG7, ARG1, ARG4))))))\n",
      "\n",
      "if_then(div(div(add(ARG3, add(ARG2, ARG0)), sub(sub(ARG0, ARG4), div(ARG1, ARG6))), sub(add(mul(ARG5, ARG4), div(ARG5, ARG4)), sub(add(ARG0, ARG3), if_then(ARG4, ARG1, ARG4)))), sub(sub(sub(if_then(ARG7, ARG4, ARG6), if_then(ARG7, ARG5, ARG6)), mul(mul(ARG1, ARG7), add(ARG4, ARG7))), if_then(sub(mul(ARG5, ARG0), div(ARG5, ARG6)), div(div(ARG3, ARG0), add(ARG7, ARG7)), if_then(add(ARG5, ARG4), add(ARG4, ARG7), div(ARG0, ARG1)))), div(sub(if_then(mul(ARG1, ARG1), add(ARG5, ARG6), mul(ARG6, ARG4)), div(div(ARG2, ARG2), mul(ARG0, ARG6))), sub(if_then(mul(ARG5, ARG6), mul(ARG6, ARG1), mul(ARG3, ARG6)), sub(sub(ARG0, ARG2), mul(ARG3, ARG3)))))\n",
      "\n",
      "if_then(div(div(add(ARG3, add(ARG2, ARG0)), sub(sub(ARG0, ARG4), div(ARG1, ARG6))), sub(add(mul(ARG5, ARG4), div(ARG5, ARG4)), sub(add(ARG0, ARG3), if_then(ARG4, ARG1, ARG4)))), sub(sub(sub(if_then(ARG7, ARG4, ARG6), if_then(ARG7, ARG5, ARG6)), mul(mul(ARG1, ARG7), add(ARG4, ARG7))), if_then(sub(mul(ARG5, ARG0), div(ARG5, ARG6)), div(div(ARG3, ARG0), add(ARG7, ARG7)), if_then(add(ARG5, ARG4), add(ARG4, ARG7), div(ARG0, ARG1)))), div(sub(if_then(mul(ARG1, ARG1), add(ARG5, ARG6), mul(ARG6, ARG4)), div(div(ARG2, ARG2), mul(ARG0, ARG6))), sub(if_then(mul(ARG5, ARG6), mul(ARG6, ARG1), mul(ARG3, ARG6)), sub(sub(ARG0, ARG2), mul(ARG3, ARG3)))))\n",
      "\n",
      "if_then(sub(add(sub(mul(mul(ARG5, ARG0), sub(ARG7, ARG7)), add(if_then(ARG4, ARG0, ARG6), mul(ARG7, ARG0))), sub(add(div(ARG1, ARG1), mul(ARG0, ARG4)), sub(if_then(ARG7, ARG4, ARG0), sub(ARG5, ARG0)))), mul(mul(sub(if_then(ARG7, ARG2, ARG0), div(ARG2, ARG3)), add(add(ARG7, ARG6), mul(ARG5, ARG1))), mul(add(mul(ARG2, ARG7), if_then(ARG4, ARG6, ARG4)), mul(add(ARG2, ARG5), mul(ARG4, ARG1))))), if_then(div(if_then(div(sub(ARG7, ARG2), div(ARG2, ARG5)), div(if_then(ARG3, ARG0, ARG1), if_then(ARG0, ARG7, ARG4)), mul(add(ARG5, ARG2), mul(ARG7, ARG4))), sub(add(add(ARG3, ARG4), if_then(ARG2, ARG5, ARG2)), add(div(ARG1, ARG3), add(ARG3, ARG6)))), mul(div(sub(if_then(ARG2, ARG4, ARG4), sub(ARG1, ARG5)), add(sub(ARG1, ARG7), sub(ARG5, ARG0))), sub(add(div(ARG7, ARG2), mul(ARG7, ARG7)), div(mul(ARG0, ARG7), if_then(ARG5, mul(ARG7, ARG3), ARG0)))), add(add(div(div(ARG3, ARG4), sub(ARG3, ARG1)), if_then(mul(ARG1, ARG6), add(ARG2, ARG3), add(ARG6, ARG6))), add(mul(add(ARG6, ARG5), mul(ARG1, ARG2)), sub(sub(ARG1, ARG6), if_then(ARG7, ARG2, ARG7))))), mul(if_then(div(if_then(div(ARG3, ARG6), add(ARG3, ARG5), div(ARG0, ARG4)), mul(if_then(ARG1, ARG1, ARG1), div(ARG7, ARG1))), if_then(mul(add(ARG5, ARG0), mul(ARG2, ARG0)), sub(mul(ARG1, ARG6), if_then(ARG7, ARG6, ARG1)), add(mul(ARG0, ARG4), sub(ARG5, ARG3))), if_then(if_then(if_then(ARG6, ARG6, ARG0), div(ARG2, ARG4), ARG3), mul(div(ARG1, ARG7), div(ARG4, ARG1)), mul(add(ARG0, ARG7), if_then(ARG5, ARG4, ARG1)))), div(mul(sub(div(ARG6, ARG7), div(ARG0, ARG0)), ARG3), if_then(add(sub(ARG6, ARG7), add(ARG7, ARG6)), if_then(add(ARG1, ARG7), if_then(ARG3, ARG3, ARG3), mul(ARG1, ARG1)), sub(if_then(ARG6, ARG3, ARG2), if_then(ARG7, ARG1, ARG4))))))\n",
      "\n",
      "if_then(div(div(add(ARG3, add(ARG2, ARG0)), sub(sub(ARG0, ARG4), div(ARG1, ARG6))), sub(add(mul(ARG5, ARG4), div(ARG5, ARG4)), sub(add(ARG0, ARG3), if_then(ARG4, ARG1, ARG4)))), sub(sub(sub(if_then(ARG7, ARG4, ARG6), if_then(ARG7, ARG5, ARG6)), mul(mul(ARG1, ARG7), add(ARG4, ARG7))), if_then(sub(mul(ARG5, ARG0), div(ARG5, ARG6)), div(div(ARG3, ARG0), add(ARG7, ARG7)), if_then(add(ARG5, ARG4), add(ARG4, ARG7), div(ARG0, ARG1)))), div(sub(if_then(mul(ARG1, ARG1), add(ARG5, ARG6), mul(ARG6, ARG4)), div(div(ARG2, ARG2), mul(ARG0, ARG6))), sub(if_then(mul(ARG5, ARG6), mul(ARG6, ARG1), mul(ARG3, ARG6)), sub(sub(ARG0, ARG2), mul(ARG3, ARG3)))))\n",
      "\n",
      "add(ARG1, if_then(ARG7, ARG2, ARG1))\n",
      "\n",
      "add(add(mul(ARG1, ARG6), mul(ARG2, ARG6)), add(add(ARG6, ARG3), ARG7))\n",
      "\n",
      "if_then(sub(add(sub(mul(mul(ARG5, ARG0), sub(ARG7, ARG7)), add(if_then(ARG4, ARG0, ARG6), mul(ARG7, ARG0))), sub(add(div(ARG1, ARG1), mul(ARG0, ARG4)), sub(if_then(ARG7, ARG4, ARG0), sub(ARG5, ARG0)))), mul(mul(sub(if_then(ARG7, ARG2, ARG0), div(ARG2, ARG3)), add(add(ARG7, ARG6), mul(ARG5, ARG1))), mul(add(mul(ARG2, ARG7), if_then(ARG4, ARG6, ARG4)), mul(add(ARG2, ARG5), mul(ARG4, ARG1))))), if_then(div(if_then(div(sub(ARG7, ARG2), div(ARG2, ARG5)), div(if_then(ARG3, ARG0, ARG1), if_then(ARG0, ARG7, ARG4)), mul(add(ARG5, ARG2), mul(ARG7, ARG4))), sub(add(add(ARG3, ARG4), if_then(ARG2, ARG5, ARG2)), add(div(ARG1, ARG3), add(ARG3, ARG6)))), mul(div(sub(if_then(ARG2, ARG4, ARG4), sub(ARG1, ARG5)), add(sub(ARG1, ARG7), sub(ARG5, ARG0))), sub(add(div(ARG7, ARG2), mul(ARG7, ARG7)), div(mul(ARG0, ARG7), if_then(ARG5, mul(ARG7, ARG3), ARG0)))), add(add(div(div(ARG3, ARG4), sub(ARG3, ARG1)), if_then(mul(ARG1, ARG6), add(ARG2, ARG3), add(ARG6, ARG6))), add(mul(add(ARG6, ARG5), mul(ARG1, ARG2)), sub(sub(ARG1, ARG6), if_then(ARG7, ARG2, ARG7))))), mul(if_then(div(if_then(div(ARG3, ARG6), add(ARG3, ARG5), div(ARG0, ARG4)), mul(if_then(ARG1, ARG1, ARG1), div(ARG7, ARG1))), if_then(mul(add(ARG5, ARG0), mul(ARG2, ARG0)), sub(mul(ARG1, ARG6), if_then(ARG7, ARG6, ARG1)), add(mul(ARG0, ARG4), sub(ARG5, ARG3))), if_then(if_then(if_then(ARG6, ARG6, ARG0), div(ARG2, ARG4), ARG3), mul(div(ARG1, ARG7), div(ARG4, ARG1)), mul(add(ARG0, ARG7), if_then(ARG5, ARG4, ARG1)))), div(mul(sub(div(ARG6, ARG7), div(ARG0, ARG0)), ARG3), if_then(add(sub(ARG6, ARG7), add(ARG7, ARG6)), if_then(add(ARG1, ARG7), if_then(ARG3, ARG3, ARG3), mul(ARG1, ARG1)), sub(if_then(ARG6, ARG3, ARG2), if_then(ARG7, ARG1, ARG4))))))\n",
      "\n",
      "\n",
      "\n",
      "if_then(div(div(add(ARG3, add(ARG2, ARG0)), sub(sub(ARG0, ARG4), div(ARG1, ARG6))), sub(add(mul(ARG5, ARG4), div(ARG5, ARG4)), sub(add(ARG0, ARG3), if_then(ARG4, ARG1, ARG4)))), sub(sub(sub(ARG2, if_then(ARG7, ARG5, ARG6)), mul(mul(ARG1, ARG7), add(ARG4, ARG7))), if_then(sub(mul(ARG5, ARG0), div(ARG2, ARG6)), if_then(ARG7, ARG2, ARG7), if_then(add(ARG5, ARG4), add(ARG4, ARG7), div(ARG0, ARG1)))), div(sub(if_then(mul(ARG0, ARG1), add(ARG5, ARG6), mul(ARG6, ARG4)), div(div(ARG2, ARG2), mul(ARG0, ARG6))), sub(mul(ARG3, ARG6), sub(sub(ARG0, ARG2), if_then(mul(ARG5, ARG6), mul(ARG6, ARG1), mul(ARG3, ARG6))))))\n",
      "\n",
      "if_then(div(div(add(ARG3, add(ARG2, ARG0)), sub(sub(ARG0, ARG4), div(ARG1, ARG6))), sub(add(mul(ARG5, ARG4), div(ARG5, ARG4)), sub(add(ARG0, ARG3), if_then(ARG4, ARG1, ARG4)))), sub(sub(sub(ARG2, if_then(ARG7, ARG5, ARG6)), mul(mul(ARG1, ARG7), add(ARG4, ARG7))), if_then(sub(mul(ARG5, ARG0), div(ARG2, ARG6)), if_then(ARG7, ARG2, ARG7), if_then(add(ARG5, ARG4), add(ARG4, ARG7), div(ARG0, ARG1)))), div(sub(if_then(mul(ARG0, ARG1), add(ARG5, ARG6), mul(ARG6, ARG4)), div(div(ARG2, ARG2), mul(ARG0, ARG6))), sub(mul(ARG3, ARG6), sub(sub(ARG0, ARG2), if_then(mul(ARG5, ARG6), mul(ARG6, ARG1), mul(ARG3, ARG6))))))\n",
      "\n",
      "ARG7\n",
      "\n",
      "ARG7\n",
      "\n",
      "if_then(sub(add(sub(mul(mul(ARG5, ARG0), sub(ARG7, ARG7)), add(if_then(ARG4, ARG0, ARG6), mul(ARG7, ARG0))), sub(add(div(ARG1, ARG1), mul(ARG0, ARG4)), sub(if_then(ARG7, ARG4, ARG0), sub(ARG5, ARG0)))), mul(mul(sub(if_then(ARG7, ARG2, ARG0), div(ARG2, ARG3)), add(add(ARG7, ARG6), mul(ARG5, ARG1))), mul(add(mul(ARG2, ARG7), if_then(ARG4, ARG6, ARG4)), mul(add(ARG2, ARG5), mul(ARG4, ARG1))))), if_then(div(if_then(div(sub(ARG7, ARG2), div(ARG2, ARG5)), div(if_then(ARG3, ARG0, ARG1), if_then(ARG0, ARG7, ARG4)), mul(add(ARG5, ARG2), mul(ARG7, ARG4))), sub(add(add(ARG3, ARG4), if_then(ARG2, ARG5, ARG2)), add(div(ARG1, ARG3), add(ARG3, ARG6)))), mul(div(sub(if_then(ARG2, ARG4, ARG4), sub(ARG1, ARG5)), add(sub(ARG1, ARG7), sub(ARG5, ARG0))), sub(add(div(ARG7, ARG2), mul(sub(if_then(ARG6, ARG3, ARG2), if_then(ARG7, ARG1, ARG4)), ARG7)), div(mul(ARG0, ARG7), if_then(ARG5, mul(ARG7, ARG3), ARG0)))), add(add(div(div(ARG3, ARG4), sub(ARG3, ARG1)), if_then(mul(ARG1, ARG6), add(ARG2, ARG3), add(ARG6, ARG6))), add(mul(add(ARG6, ARG5), mul(ARG1, ARG2)), sub(sub(ARG1, ARG6), div(div(ARG3, ARG0), add(ARG7, ARG7)))))), mul(if_then(div(if_then(div(ARG3, ARG6), add(ARG3, ARG5), div(ARG0, ARG4)), mul(if_then(ARG1, ARG1, ARG1), div(ARG7, ARG1))), if_then(mul(add(ARG5, ARG0), mul(ARG2, ARG0)), sub(mul(ARG1, ARG6), if_then(ARG7, ARG6, ARG1)), add(div(ARG0, ARG4), sub(ARG5, ARG3))), if_then(if_then(if_then(ARG6, ARG6, ARG0), div(ARG2, ARG4), ARG3), mul(div(ARG1, ARG7), div(ARG4, ARG1)), mul(add(ARG0, ARG7), if_then(ARG5, ARG4, ARG1)))), div(mul(sub(div(ARG6, ARG7), div(ARG0, ARG0)), ARG3), if_then(add(sub(ARG6, ARG7), add(ARG7, ARG6)), if_then(add(ARG1, ARG7), if_then(ARG3, ARG3, ARG3), mul(ARG1, ARG1)), ARG7))))\n",
      "\n",
      "if_then(div(div(add(ARG3, add(ARG2, ARG0)), sub(sub(ARG0, ARG4), div(ARG1, ARG6))), sub(add(mul(ARG5, ARG4), div(ARG5, ARG4)), sub(add(ARG0, ARG3), if_then(ARG4, ARG1, ARG4)))), sub(sub(sub(ARG2, if_then(ARG7, ARG5, ARG6)), mul(mul(ARG1, ARG7), add(ARG4, ARG7))), if_then(sub(mul(ARG5, ARG0), div(ARG2, ARG6)), if_then(ARG7, ARG2, ARG7), if_then(add(ARG5, ARG4), add(ARG4, ARG7), div(ARG0, ARG1)))), div(sub(if_then(mul(ARG0, ARG1), add(ARG5, ARG6), mul(ARG6, ARG4)), div(div(ARG2, ARG2), mul(ARG0, ARG6))), sub(mul(ARG3, ARG6), sub(sub(ARG0, ARG2), if_then(mul(ARG5, ARG6), mul(ARG6, ARG1), mul(ARG3, ARG6))))))\n",
      "\n",
      "add(ARG1, if_then(ARG7, if_then(ARG7, ARG4, ARG6), ARG1))\n",
      "\n",
      "if_then(div(div(add(ARG3, add(ARG2, ARG0)), sub(sub(ARG0, ARG4), div(ARG1, ARG6))), sub(add(mul(ARG5, ARG4), div(ARG5, ARG4)), sub(add(ARG0, ARG3), if_then(ARG4, ARG1, ARG4)))), sub(sub(sub(ARG2, if_then(ARG7, ARG5, ARG6)), mul(mul(ARG1, ARG7), add(ARG4, ARG7))), if_then(sub(mul(ARG5, ARG0), div(ARG2, ARG6)), if_then(ARG7, ARG2, ARG7), if_then(add(ARG5, ARG4), add(ARG4, ARG7), div(ARG0, ARG1)))), div(sub(if_then(mul(ARG0, ARG1), add(ARG5, ARG6), mul(ARG6, ARG4)), div(div(ARG2, ARG2), mul(ARG0, ARG6))), sub(mul(ARG3, ARG6), sub(sub(ARG0, ARG2), if_then(mul(ARG5, ARG6), mul(ARG6, ARG1), mul(ARG3, ARG6))))))\n",
      "\n",
      "if_then(sub(add(sub(mul(mul(ARG5, ARG0), sub(ARG7, ARG7)), add(if_then(ARG4, ARG0, ARG6), mul(ARG7, ARG0))), sub(add(div(ARG1, ARG1), mul(ARG0, ARG4)), sub(if_then(ARG7, ARG4, ARG0), sub(ARG5, ARG0)))), mul(mul(sub(if_then(ARG7, ARG2, ARG0), div(ARG2, ARG3)), add(add(ARG7, ARG6), mul(ARG5, ARG1))), mul(add(mul(ARG2, ARG7), if_then(ARG4, ARG6, ARG4)), mul(add(ARG2, ARG5), mul(ARG4, ARG1))))), if_then(div(if_then(div(sub(ARG7, ARG2), div(ARG2, ARG5)), div(if_then(ARG3, ARG0, ARG1), if_then(ARG0, ARG7, ARG4)), mul(add(ARG5, ARG2), mul(ARG7, ARG4))), sub(add(add(ARG3, ARG4), if_then(ARG2, ARG5, ARG2)), add(div(ARG1, ARG3), add(ARG3, ARG6)))), mul(div(sub(if_then(ARG2, ARG4, ARG4), sub(ARG1, ARG5)), add(sub(ARG1, ARG7), sub(ARG5, ARG0))), sub(add(div(ARG7, ARG2), mul(sub(if_then(ARG6, ARG3, ARG2), if_then(ARG7, ARG1, ARG4)), ARG7)), div(mul(ARG0, ARG7), if_then(ARG5, mul(ARG7, ARG3), ARG0)))), add(add(div(div(ARG3, ARG4), sub(ARG3, ARG1)), if_then(mul(ARG1, ARG6), add(ARG2, ARG3), add(ARG6, ARG6))), add(mul(add(ARG6, ARG5), mul(ARG1, ARG2)), sub(sub(ARG1, ARG6), div(div(ARG3, ARG0), add(ARG7, ARG7)))))), mul(if_then(div(if_then(div(ARG3, ARG6), add(ARG3, ARG5), div(ARG0, ARG4)), mul(if_then(ARG1, ARG1, ARG1), div(ARG7, ARG1))), if_then(mul(add(ARG5, ARG0), mul(ARG2, ARG0)), sub(mul(ARG1, ARG6), if_then(ARG7, ARG6, ARG1)), add(div(ARG0, ARG4), sub(ARG5, ARG3))), if_then(if_then(if_then(ARG6, ARG6, ARG0), div(ARG2, ARG4), ARG3), mul(div(ARG1, ARG7), div(ARG4, ARG1)), mul(add(ARG0, ARG7), if_then(ARG5, ARG4, ARG1)))), div(mul(sub(div(ARG6, ARG7), div(ARG0, ARG0)), ARG3), if_then(add(sub(ARG6, ARG7), add(ARG7, ARG6)), if_then(add(ARG1, ARG7), if_then(ARG3, ARG3, ARG3), mul(ARG1, ARG1)), ARG7))))\n",
      "\n",
      "if_then(sub(add(sub(mul(mul(ARG5, ARG0), sub(ARG7, ARG7)), add(if_then(ARG4, ARG0, ARG6), mul(ARG7, ARG0))), sub(add(div(ARG1, ARG1), mul(ARG0, ARG4)), sub(if_then(ARG7, ARG4, ARG0), sub(ARG5, ARG0)))), mul(mul(sub(if_then(ARG7, ARG2, ARG0), div(ARG2, ARG3)), add(add(ARG7, ARG6), mul(ARG5, ARG1))), mul(add(mul(ARG2, ARG7), if_then(ARG4, ARG6, ARG4)), mul(add(ARG2, ARG5), mul(ARG4, ARG1))))), if_then(div(if_then(div(sub(ARG7, ARG2), div(ARG2, ARG5)), div(if_then(ARG3, ARG0, ARG1), if_then(ARG0, ARG7, ARG4)), mul(add(ARG5, ARG2), mul(ARG7, ARG4))), sub(add(add(ARG3, ARG4), if_then(ARG2, ARG5, ARG2)), add(div(ARG1, ARG3), add(ARG3, ARG6)))), mul(div(sub(if_then(ARG2, ARG4, ARG4), sub(ARG1, ARG5)), add(sub(ARG1, ARG7), sub(ARG5, ARG0))), sub(add(div(ARG7, ARG2), mul(sub(if_then(ARG6, ARG3, ARG2), if_then(ARG7, ARG1, ARG4)), ARG7)), div(mul(ARG0, ARG7), if_then(ARG5, mul(ARG7, ARG3), ARG0)))), add(add(div(div(ARG3, ARG4), sub(ARG3, ARG1)), if_then(mul(ARG1, ARG6), add(ARG2, ARG3), add(ARG6, ARG6))), add(mul(add(ARG6, ARG5), mul(ARG1, ARG2)), sub(sub(ARG1, ARG6), div(div(ARG3, ARG0), add(ARG7, ARG7)))))), mul(if_then(div(if_then(div(ARG3, ARG6), add(ARG3, ARG5), div(ARG0, ARG4)), mul(if_then(ARG1, ARG1, ARG1), div(ARG7, ARG1))), if_then(mul(add(ARG5, ARG0), mul(ARG2, ARG0)), sub(mul(ARG1, ARG6), if_then(ARG7, ARG6, ARG1)), add(div(ARG0, ARG4), sub(ARG5, ARG3))), if_then(if_then(if_then(ARG6, ARG6, ARG0), div(ARG2, ARG4), ARG3), mul(div(ARG1, ARG7), div(ARG4, ARG1)), mul(add(ARG0, ARG7), if_then(ARG5, ARG4, ARG1)))), div(mul(sub(div(ARG6, ARG7), div(ARG0, ARG0)), ARG3), if_then(add(sub(ARG6, ARG7), add(ARG7, ARG6)), if_then(add(ARG1, ARG7), if_then(ARG3, ARG3, ARG3), mul(ARG1, ARG1)), ARG7))))\n",
      "\n",
      "\n",
      "\n"
     ]
    }
   ],
   "source": [
    "for gen in range(GNUM):\n",
    "    \n",
    "    # Mating the population\n",
    "    population = toolbox.mate(population)\n",
    "\n",
    "    \n",
    "    # Mutating the population\n",
    "    population = toolbox.mutate(population)\n",
    "\n",
    "    # Evaluating the population\n",
    "    toolbox.evaluatePop(population = population, data=data, names=names)\n",
    "\n",
    "    # Selecting offspring\n",
    "    population = toolbox.select(population, PNUM)\n",
    "\n",
    "\n",
    "#     TESTING\n",
    "    for p in population:\n",
    "        print(p) # Testing\n",
    "        print()\n",
    "#         print(p.fitness.values)\n",
    "    print()\n",
    "    print()"
   ]
  }
 ],
 "metadata": {
  "kernelspec": {
   "display_name": "Python 3",
   "language": "python",
   "name": "python3"
  },
  "language_info": {
   "codemirror_mode": {
    "name": "ipython",
    "version": 3
   },
   "file_extension": ".py",
   "mimetype": "text/x-python",
   "name": "python",
   "nbconvert_exporter": "python",
   "pygments_lexer": "ipython3",
   "version": "3.8.3"
  }
 },
 "nbformat": 4,
 "nbformat_minor": 4
}
