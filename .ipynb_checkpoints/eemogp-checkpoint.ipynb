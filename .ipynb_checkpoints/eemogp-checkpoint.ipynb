{
 "cells": [
  {
   "cell_type": "markdown",
   "metadata": {},
   "source": [
    "# Evolving Ensembles in Multi-objective GeneticProgramming for Classification with Unbalanced Data"
   ]
  },
  {
   "cell_type": "markdown",
   "metadata": {},
   "source": [
    "### Dataset YEAST\n",
    "\n",
    "Minority class = 'MIT'\n",
    "\n",
    "Majority class = other tags\n",
    "\n",
    "-----------------------------------------"
   ]
  },
  {
   "cell_type": "markdown",
   "metadata": {},
   "source": [
    "Imports"
   ]
  },
  {
   "cell_type": "code",
   "execution_count": 1,
   "metadata": {},
   "outputs": [],
   "source": [
    "# Python 3.8.3\n",
    "import deap # 1.3.1\n",
    "from deap import gp, creator, base, tools, algorithms\n",
    "\n",
    "import numpy as np # 1.18.5\n",
    "\n",
    "import operator, random\n",
    "\n",
    "import matplotlib.pyplot as plt"
   ]
  },
  {
   "cell_type": "markdown",
   "metadata": {},
   "source": [
    "Defining Constants"
   ]
  },
  {
   "cell_type": "code",
   "execution_count": 2,
   "metadata": {},
   "outputs": [],
   "source": [
    "PNUM = 20 # Number of individuals in a population\n",
    "GNUM = 10 # Number of generations\n",
    "MTC = 0.2 # Mutation chance"
   ]
  },
  {
   "cell_type": "markdown",
   "metadata": {},
   "source": [
    "Helper functions for primitive operators"
   ]
  },
  {
   "cell_type": "code",
   "execution_count": 3,
   "metadata": {},
   "outputs": [],
   "source": [
    "# Protected division\n",
    "def div(x, y):\n",
    "    if(y == 0):\n",
    "        return 1\n",
    "    else:\n",
    "        return x/y\n",
    "\n",
    "# If then operator\n",
    "def if_then(a, b, c):\n",
    "    if a < 0:\n",
    "        return b\n",
    "    else:\n",
    "        return c"
   ]
  },
  {
   "cell_type": "markdown",
   "metadata": {},
   "source": [
    "Helper functions for evaluation"
   ]
  },
  {
   "cell_type": "code",
   "execution_count": 4,
   "metadata": {},
   "outputs": [],
   "source": [
    "# Evaluation function\n",
    "def evaluateAccuracy(individual, data, names, pset): # po predlosku\n",
    "    \n",
    "    #Compiling the expression\n",
    "    classificator = gp.compile(individual, pset)\n",
    "    \n",
    "    minority_count = names.count(\"MIT\")\n",
    "    true_positive_count = 0\n",
    "    \n",
    "    majority_count = len(names) - minority_count\n",
    "    true_negative_count = 0\n",
    "    \n",
    "    for (d, n) in zip(data, names):\n",
    "        # feeding data to individual classificator\n",
    "        result = classificator(*d)\n",
    "        \n",
    "        #counting right answers\n",
    "        if (n==\"MIT\") and (result >= 0): true_positive_count += 1\n",
    "        elif (n!=\"MIT\") and (result < 0): true_negative_count += 1\n",
    "\n",
    "    # return accuracy on minority class and majority class\n",
    "    return (true_positive_count/minority_count, true_negative_count/majority_count)"
   ]
  },
  {
   "cell_type": "code",
   "execution_count": 5,
   "metadata": {},
   "outputs": [],
   "source": [
    "# Evaluation function that sets fitness values\n",
    "def evaluatePopulation(population, data, names, pset):\n",
    "    \n",
    "    # Evaluating each individual in population\n",
    "    for individual in population:\n",
    "        \n",
    "        # Compiling the expression\n",
    "        classificator = gp.compile(individual, pset)\n",
    "\n",
    "        minority_count = names.count(\"MIT\")\n",
    "        true_positive_count = 0\n",
    "\n",
    "        majority_count = len(names) - minority_count\n",
    "        true_negative_count = 0\n",
    "\n",
    "        for (d, n) in zip(data, names):\n",
    "            # Feeding data to individual classificator\n",
    "            result = classificator(*d)\n",
    "\n",
    "            # Counting right answers\n",
    "            if (n==\"MIT\") and (result >= 0): true_positive_count += 1\n",
    "            elif (n!=\"MIT\") and (result < 0): true_negative_count += 1\n",
    "\n",
    "        # Save fitness values for individual\n",
    "        individual.fitness.values = (true_positive_count/minority_count, true_negative_count/majority_count)\n",
    "    \n",
    "#     return population"
   ]
  },
  {
   "cell_type": "code",
   "execution_count": 6,
   "metadata": {},
   "outputs": [],
   "source": [
    "# Mating function, returns the combination of old population and new offspring\n",
    "def crossoverPopulation(population):\n",
    "    offspring = population.copy()\n",
    "    \n",
    "    while(len(population) > 1):\n",
    "        (parent1, parent2) = random.sample(population, 2) # Chooses two random individuals from the population\n",
    "        \n",
    "        (child1, child2) = gp.cxOnePoint(parent1, parent2) # Crossover function, gives 2 new individuals\n",
    "        \n",
    "        population.remove(parent1)\n",
    "        population.remove(parent2)\n",
    "        \n",
    "        offspring.append(child1)\n",
    "        offspring.append(child2)\n",
    "        \n",
    "    # ZASAD: zadnji ostaje nemutiran ako je neparan broj populacije\n",
    "    # ZA UBUDUCE: koristi drugi operator koji ce potencijalno dat razlicitu djecu\n",
    "#     if(len(population) == 1)\n",
    "    \n",
    "    return offspring\n",
    "        "
   ]
  },
  {
   "cell_type": "code",
   "execution_count": 7,
   "metadata": {},
   "outputs": [],
   "source": [
    "# Mutating function\n",
    "def mutatePopulation(population, pset, mutch):\n",
    "    \n",
    "    for individual in population:\n",
    "        \n",
    "        rand = random.random()\n",
    "\n",
    "        if(rand <= mutch):\n",
    "            individual = gp.mutNodeReplacement(individual, pset) # Replaces one node with another operation from pset\n",
    "        \n",
    "    return population"
   ]
  },
  {
   "cell_type": "markdown",
   "metadata": {},
   "source": [
    "## PITANJE: koji je mating je najbolje koristit tu? ima semantic koji vec i mutira djecu"
   ]
  },
  {
   "cell_type": "markdown",
   "metadata": {},
   "source": [
    "Import dataset from external file"
   ]
  },
  {
   "cell_type": "code",
   "execution_count": 8,
   "metadata": {},
   "outputs": [],
   "source": [
    "# Define a filename\n",
    "filename = \"./Datasets/yeast.data\"\n",
    "\n",
    "# Opening and reading the file\n",
    "with open(filename) as f:\n",
    "    content = f.read().splitlines()\n",
    "    \n",
    "data = [] # data for saving the features from file\n",
    "names = [] # names of the protein classes\n",
    "    \n",
    "for line in content:\n",
    "    tmp = line.split()\n",
    "    tmp.pop(0) # pops the first element - we dont need it\n",
    "    \n",
    "    names.append(tmp.pop()) # pops the last element - name of protein\n",
    "    \n",
    "    data.append(np.asarray(tmp, float)) # extracting features to data as float values\n",
    "\n",
    "# testing data\n",
    "# for d in data:\n",
    "#     print(d)"
   ]
  },
  {
   "cell_type": "markdown",
   "metadata": {},
   "source": [
    "Creating a primiive set for the classificator expression"
   ]
  },
  {
   "cell_type": "code",
   "execution_count": 9,
   "metadata": {},
   "outputs": [],
   "source": [
    "# Creating a primitive set\n",
    "pset = gp.PrimitiveSet(\"main\", arity=8)\n",
    "\n",
    "# Adding primitive operators\n",
    "pset.addPrimitive(operator.add, 2)\n",
    "pset.addPrimitive(operator.sub, 2)\n",
    "pset.addPrimitive(operator.mul, 2)\n",
    "pset.addPrimitive(div, 2) \n",
    "pset.addPrimitive(if_then, 3)\n",
    "\n",
    "# Generate an expression where each leaf has the same depth between min and max.\n",
    "# expr = gp.genFull(pset, min_=1, max_=8) # Create expression of max depth 8 (from paper)\n",
    "# tree = gp.PrimitiveTree(expr) # Create tree classificator from expression"
   ]
  },
  {
   "cell_type": "markdown",
   "metadata": {},
   "source": [
    "Creating a fitness function and an individual"
   ]
  },
  {
   "cell_type": "code",
   "execution_count": 10,
   "metadata": {},
   "outputs": [],
   "source": [
    "# Create a multi objective fitness function with weights between objectives\n",
    "creator.create(\"Fitness\", base.Fitness, weights=(1.0, 1.0))\n",
    "\n",
    "# Create an individual of type primitive tree and our fitness function, pset is a previously defined\n",
    "creator.create(\"IndividualTree\", gp.PrimitiveTree, fitness=creator.Fitness, pset=pset)\n"
   ]
  },
  {
   "cell_type": "markdown",
   "metadata": {},
   "source": [
    "Registering elements"
   ]
  },
  {
   "cell_type": "code",
   "execution_count": 11,
   "metadata": {},
   "outputs": [],
   "source": [
    "# Creating toolbox\n",
    "toolbox = base.Toolbox()\n",
    "\n",
    "# Register the type of expression the threes are gonna be with min and max depth (8 from paper)\n",
    "toolbox.register(\"expr\", gp.genHalfAndHalf, pset=pset, min_=1, max_=8) # genHalfAndHalf - Generate an expression with a PrimitiveSet pset. Half the time, the expression is generated with genGrow(), the other half, the expression is generated with genFull()\n",
    "toolbox.register(\"individual\", tools.initIterate, creator.IndividualTree, toolbox.expr) # Register individual from expression\n",
    "# Register population of type bag\n",
    "toolbox.register(\"population\", tools.initRepeat, gp.PrimitiveTree, toolbox.individual)\n",
    "\n",
    "# Operator functions\n",
    "\n",
    "# Register evaluation function\n",
    "toolbox.register('evaluatePop', evaluatePopulation, pset=pset)\n",
    "# toolbox.register('evaluate', evaluateAccuracy, data=data, names=names, pset=pset) # po predlosku\n",
    "\n",
    "# Register selection function\n",
    "toolbox.register('select', tools.selSPEA2)\n",
    "\n",
    "# Register mate function\n",
    "toolbox.register('mate', crossoverPopulation)\n",
    "# toolbox.register('mate', gp.cxOnePoint) # po predlosku\n",
    "\n",
    "#Register mutate function\n",
    "toolbox.register('mutate', mutatePopulation, pset = pset, mutch = MTC)\n",
    "# toolbox.register('mutate', gp.mutNodeReplacement, pset=pset) # po predlosku"
   ]
  },
  {
   "cell_type": "markdown",
   "metadata": {},
   "source": [
    "## pitanje: koji mutator koristit?"
   ]
  },
  {
   "cell_type": "markdown",
   "metadata": {},
   "source": [
    "Generating population"
   ]
  },
  {
   "cell_type": "code",
   "execution_count": 12,
   "metadata": {},
   "outputs": [],
   "source": [
    "# Generating population of n individuals\n",
    "population = toolbox.population(n=PNUM)"
   ]
  },
  {
   "cell_type": "markdown",
   "metadata": {},
   "source": [
    "Evolving the population"
   ]
  },
  {
   "cell_type": "code",
   "execution_count": 13,
   "metadata": {},
   "outputs": [],
   "source": [
    "# ---------- ovo ne radi jer Primitive tree type ne zeli bit slicean na taj nacin\n",
    "# algorithms.eaSimple(population, toolbox, cxpb=0.5, mutpb=0.2, ngen=50)\n",
    "# algorithms.eaMuPlusLambda(population, toolbox, mu=5, lambda_=5, cxpb=0.5, mutpb=0.2, ngen=2, stats=None, halloffame=None, verbose=__debug__)"
   ]
  },
  {
   "cell_type": "code",
   "execution_count": 14,
   "metadata": {},
   "outputs": [],
   "source": [
    "# po predlosku\n",
    "# # Evaluate population\n",
    "# fitnesses = toolbox.map(toolbox.evaluate, population)\n",
    "\n",
    "# # Mapping fitness values to individuals\n",
    "# for (ind, fit) in zip(population, fitnesses):\n",
    "#     ind.fitness.values = fit"
   ]
  },
  {
   "cell_type": "markdown",
   "metadata": {},
   "source": [
    "Genetic algorithm"
   ]
  },
  {
   "cell_type": "code",
   "execution_count": 15,
   "metadata": {
    "scrolled": true
   },
   "outputs": [],
   "source": [
    "# testing\n",
    "xvalues = []\n",
    "yvalues = []\n",
    "\n",
    "for gen in range(GNUM):\n",
    "    \n",
    "    # Mating the population\n",
    "    population = toolbox.mate(population)\n",
    "\n",
    "    \n",
    "    # Mutating the population\n",
    "    population = toolbox.mutate(population)\n",
    "\n",
    "    # Evaluating the population\n",
    "    toolbox.evaluatePop(population = population, data=data, names=names)\n",
    "\n",
    "    # Selecting offspring\n",
    "    population = toolbox.select(population, PNUM)\n",
    "\n",
    "\n",
    "#     TESTING\n",
    "    xfront = []\n",
    "    yfront = []\n",
    "    for p in population:\n",
    "#         print(p) # Testing\n",
    "#         print()\n",
    "#         print(p.fitness.values)\n",
    "        xvalues.append(p.fitness.values[0])\n",
    "        yvalues.append(p.fitness.values[1])\n",
    "        \n",
    "        xfront.append(p.fitness.values[0])\n",
    "        yfront.append(p.fitness.values[1])\n",
    "#     print()\n",
    "#     print()"
   ]
  },
  {
   "cell_type": "markdown",
   "metadata": {},
   "source": [
    "## ne radi, pogledaj ea simple implementaciju"
   ]
  },
  {
   "cell_type": "code",
   "execution_count": 18,
   "metadata": {},
   "outputs": [
    {
     "data": {
      "image/png": "[encoded data removed]",
      "text/plain": [
       "<Figure size 432x288 with 1 Axes>"
      ]
     },
     "metadata": {
      "needs_background": "light"
     },
     "output_type": "display_data"
    }
   ],
   "source": [
    "plt.plot(xvalues, yvalues, 'o')\n",
    "plt.plot(xfront, yfront, 'o')\n",
    "plt.show()"
   ]
  }
 ],
 "metadata": {
  "kernelspec": {
   "display_name": "Python 3",
   "language": "python",
   "name": "python3"
  },
  "language_info": {
   "codemirror_mode": {
    "name": "ipython",
    "version": 3
   },
   "file_extension": ".py",
   "mimetype": "text/x-python",
   "name": "python",
   "nbconvert_exporter": "python",
   "pygments_lexer": "ipython3",
   "version": "3.8.3"
  }
 },
 "nbformat": 4,
 "nbformat_minor": 4
}
