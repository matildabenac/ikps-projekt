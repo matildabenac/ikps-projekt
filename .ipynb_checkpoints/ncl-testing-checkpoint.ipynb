{
 "cells": [
  {
   "cell_type": "markdown",
   "metadata": {},
   "source": [
    "# Evolving Ensembles in Multi-objective GeneticProgramming for Classification with Unbalanced Data"
   ]
  },
  {
   "cell_type": "markdown",
   "metadata": {},
   "source": [
    "### Dataset YEAST\n",
    "\n",
    "Minority class = 'MIT'\n",
    "\n",
    "Majority class = other tags"
   ]
  },
  {
   "cell_type": "code",
   "execution_count": 1,
   "metadata": {},
   "outputs": [],
   "source": [
    "# Python 3.8.3\n",
    "import deap # 1.3.1\n",
    "from deap import gp, creator, base, tools, algorithms\n",
    "from deap import benchmarks\n",
    "from deap.benchmarks.tools import hypervolume\n",
    "\n",
    "import numpy as np # 1.18.5\n",
    "\n",
    "import time\n",
    "\n",
    "import operator, random\n",
    "\n",
    "import matplotlib.pyplot as plt\n",
    "\n",
    "from sklearn.model_selection import train_test_split\n",
    "\n",
    "from pandas import read_csv\n",
    "\n",
    "import seaborn\n",
    "\n",
    "from functools import partial #za answers"
   ]
  },
  {
   "cell_type": "code",
   "execution_count": 2,
   "metadata": {},
   "outputs": [],
   "source": [
    "plt.rcParams['figure.figsize'] = (16,16)"
   ]
  },
  {
   "cell_type": "markdown",
   "metadata": {},
   "source": [
    "### Parameters"
   ]
  },
  {
   "cell_type": "code",
   "execution_count": 3,
   "metadata": {},
   "outputs": [],
   "source": [
    "PNUM = 20 # Number of individuals in a population (500)\n",
    "GNUM = 10 # Number of generations (50) \n",
    "MTC = 0.4 # Mutation chance (0.4)\n",
    "CSC = 0.6 # Crossover chance (0.6)\n",
    "\n",
    "ATR_DATA = 8 #Data set atributes\n",
    "\n",
    "EPS = 0.1 # Range for protected division"
   ]
  },
  {
   "cell_type": "markdown",
   "metadata": {},
   "source": [
    "#### Helper functions for primitive operators"
   ]
  },
  {
   "cell_type": "code",
   "execution_count": 4,
   "metadata": {},
   "outputs": [],
   "source": [
    "# Protected division\n",
    "def div(x, y): \n",
    "    if(y < EPS and y > -EPS): return 0\n",
    "    return x/y\n",
    "\n",
    "# If then operator - changed the name from 'if_then' to 'lf' because of cxSemantic method\n",
    "def lf(a, b, c):\n",
    "    return b if (a < 0) else c"
   ]
  },
  {
   "cell_type": "markdown",
   "metadata": {},
   "source": [
    "#### Importing dataset"
   ]
  },
  {
   "cell_type": "code",
   "execution_count": 5,
   "metadata": {},
   "outputs": [
    {
     "name": "stdout",
     "output_type": "stream",
     "text": [
      "(1484, 8)\n",
      "(1484,)\n",
      "(742, 8) (742, 8) (742,) (742,)\n"
     ]
    }
   ],
   "source": [
    "filename = \"./Datasets/yeast_csv.csv\"\n",
    "    \n",
    "dataframe = read_csv(filename, header=None)\n",
    "\n",
    "data = dataframe.values\n",
    "\n",
    "# X = inputs, y = outputs\n",
    "X, y = data[:, :-1], data[:, -1]\n",
    "\n",
    "print(X.shape)\n",
    "print(y.shape)\n",
    "\n",
    "X_train, X_test, y_train, y_test = train_test_split(X, y, test_size=0.5, stratify=y)\n",
    "print(X_train.shape, X_test.shape, y_train.shape, y_test.shape)\n",
    "\n",
    "data = X_train.tolist()\n",
    "\n",
    "names = y_train.tolist()"
   ]
  },
  {
   "cell_type": "markdown",
   "metadata": {},
   "source": [
    "#### Creating a primitive set for the classificator expression"
   ]
  },
  {
   "cell_type": "code",
   "execution_count": 6,
   "metadata": {},
   "outputs": [],
   "source": [
    "pset = gp.PrimitiveSet(\"main\", arity=ATR_DATA)\n",
    "\n",
    "# Adding primitive operators\n",
    "pset.addPrimitive(operator.add, 2)\n",
    "pset.addPrimitive(operator.sub, 2)\n",
    "pset.addPrimitive(operator.mul, 2)\n",
    "pset.addPrimitive(div, 2) \n",
    "pset.addPrimitive(lf, 3, name=\"lf\") # Added 'lf' as a name for the function\n",
    "\n",
    "\n",
    "# Generate an expression where each leaf has the same depth between min and max.\n",
    "expr = gp.genHalfAndHalf(pset, min_=1, max_=8) # Create expression of max depth 8 (from paper)\n",
    "tree = gp.PrimitiveTree(expr) # Create tree classificator from expression"
   ]
  },
  {
   "cell_type": "markdown",
   "metadata": {},
   "source": [
    "### Creating a fitness function and an individual (Generation of Tree Individuals)"
   ]
  },
  {
   "cell_type": "code",
   "execution_count": 7,
   "metadata": {},
   "outputs": [],
   "source": [
    "creator.create(\"FitnessMax\", base.Fitness, weights=(1.0, 1.0)) #FitnessMax, Multi, Min?\n",
    "\n",
    "# Create an individual of type primitive tree and our fitness function, pset is a previously defined\n",
    "creator.create(\"Individual\", gp.PrimitiveTree, fitness=creator.FitnessMax, pset=pset)"
   ]
  },
  {
   "cell_type": "markdown",
   "metadata": {},
   "source": [
    "### Helper function for evaluation"
   ]
  },
  {
   "cell_type": "code",
   "execution_count": 8,
   "metadata": {},
   "outputs": [],
   "source": [
    "# Evaluation function\n",
    "def evaluateAccuracy(individual, data, names, pset): # po predlosku\n",
    "    \n",
    "    #Compiling the expression\n",
    "    classificator = gp.compile(individual, pset)\n",
    "    \n",
    "    minority_count = names.count(\"MIT\")\n",
    "    true_positive_count = 0\n",
    "    \n",
    "    majority_count = len(names) - minority_count\n",
    "    true_negative_count = 0\n",
    "    \n",
    "    for (d, n) in zip(data, names):\n",
    "        # feeding data to individual classificator\n",
    "        result = classificator(*d)        \n",
    "        #counting right answers\n",
    "        if (n==\"MIT\") and (result >= 0): true_positive_count += 1\n",
    "        elif (n!=\"MIT\") and (result < 0): true_negative_count += 1\n",
    "        \n",
    "    # return accuracy on minority class and majority class\n",
    "    return (true_positive_count/minority_count, true_negative_count/majority_count)"
   ]
  },
  {
   "cell_type": "code",
   "execution_count": 9,
   "metadata": {},
   "outputs": [],
   "source": [
    "def getEnsambleAnswers(d, ensamble, pset):\n",
    "    min_count = 0\n",
    "    maj_count = 0\n",
    "    \n",
    "    votes = []\n",
    "    \n",
    "    for ind in ensamble:\n",
    "        classificator = gp.compile(ind, pset)\n",
    "        result = classificator(*d)\n",
    "        if(result < 0): \n",
    "            maj_count += 1\n",
    "            votes.append(0)\n",
    "        else: \n",
    "            min_count += 1\n",
    "            votes.append(1)\n",
    "        \n",
    "    ens_vote = 0 if min_count < maj_count else 1\n",
    "    \n",
    "    return (votes, ens_vote)"
   ]
  },
  {
   "cell_type": "code",
   "execution_count": 10,
   "metadata": {},
   "outputs": [],
   "source": [
    "def assignNCLValues(ind, ensamble, data, names, pset):\n",
    "    ans = 0.0\n",
    "    M = len(ensamble)\n",
    "    \n",
    "    if(M == 0): return 0\n",
    "    \n",
    "    dataclass = [[]]*2\n",
    "    \n",
    "    for d, n in zip(data, names):\n",
    "        index = 1 if n == \"MIT\" else 0\n",
    "        dataclass[index].append(d)\n",
    "    \n",
    "    classificator = gp.compile(ind, pset)\n",
    "    \n",
    "    for k in range(2):\n",
    "        num = 0.0\n",
    "        Nc = len(dataclass[k]) * 1.0\n",
    "        \n",
    "        for d in dataclass[k]:\n",
    "\n",
    "            ind_res = classificator(*d)\n",
    "            ind_vote = 0 if ind_res < 0 else 1\n",
    "            \n",
    "            (e_votes, ensamble_vote) = getEnsambleAnswers(d, ensamble, pset)\n",
    "            \n",
    "            if(ind_vote != ensamble_vote):\n",
    "                for e_vote in e_votes:\n",
    "                    if(e_vote != ensamble_vote):\n",
    "                        num +=1\n",
    "        ans += 1/Nc * num\n",
    "    \n",
    "    ncl_val = 0.5 * ans * (1/M)\n",
    "    return ncl_val            \n",
    "        "
   ]
  },
  {
   "cell_type": "markdown",
   "metadata": {},
   "source": [
    "### Registering elements with toolbox"
   ]
  },
  {
   "cell_type": "code",
   "execution_count": 11,
   "metadata": {},
   "outputs": [],
   "source": [
    "# Creating toolbox - https://deap.readthedocs.io/en/master/examples/gp_symbreg.html\n",
    "# https://deap.readthedocs.io/en/master/tutorials/basic/part2.html\n",
    "toolbox = base.Toolbox()\n",
    "\n",
    "toolbox.register(\"expr\", gp.genHalfAndHalf, pset=pset, min_=1, max_=8) # genHalfAndHalf - Generate an expression with a PrimitiveSet pset. Half the time, the expression is generated with genGrow(), the other half, the expression is generated with genFull()\n",
    "toolbox.register(\"individual\", tools.initIterate, creator.Individual, toolbox.expr) # Register individual from expression\n",
    "\n",
    "toolbox.register(\"population\", tools.initRepeat, list, toolbox.individual)\n",
    "\n",
    "toolbox.register('evaluate', evaluateAccuracy, data=data, names=names, pset=pset)\n",
    "\n",
    "# Register mate function\n",
    "toolbox.register('mate', gp.cxOnePoint)\n",
    "#toolbox.register('mate', gp.cxSemantic, pset=pset, min=1, max=8)\n",
    "\n",
    "#Register mutate function\n",
    "toolbox.register('mutate', gp.mutNodeReplacement, pset=pset)\n",
    "#toolbox.register('mutate', gp.mutSemantic, pset=pset, min=1, max=8)\n",
    "\n",
    "#Register select function\n",
    "# toolbox.register('select', tools.selSPEA2)\n",
    "toolbox.register('select', tools.selNSGA2)\n",
    "\n",
    "# Register assign ncl values function\n",
    "toolbox.register('assignNCLValues', assignNCLValues, data=data, names=names, pset=pset)"
   ]
  },
  {
   "cell_type": "markdown",
   "metadata": {},
   "source": [
    "### Generating population"
   ]
  },
  {
   "cell_type": "code",
   "execution_count": 12,
   "metadata": {},
   "outputs": [],
   "source": [
    "population = toolbox.population(n=PNUM)\n",
    "\n",
    "fits = toolbox.map(toolbox.evaluate, population)\n",
    "for fit, ind  in  zip(fits, population):\n",
    "    ind.fitness.values = fit\n",
    "\n",
    "#history.update(population)"
   ]
  },
  {
   "cell_type": "markdown",
   "metadata": {},
   "source": [
    "### Setting stats and pareto front variable"
   ]
  },
  {
   "cell_type": "code",
   "execution_count": 13,
   "metadata": {},
   "outputs": [],
   "source": [
    "# Crowdding distance based diversity function\n",
    "def crowdingDistanceFunc(ind1, ind2):\n",
    "    if not isinstance(ind1, deap.creator.Individual):\n",
    "        return False\n",
    "    if not isinstance(ind2, deap.creator.Individual):\n",
    "        return False\n",
    "    if ind1 not in pop:\n",
    "        return False\n",
    "    if ind2 not in pop:\n",
    "        return False\n",
    "\n",
    "    ind1_pos = pop.index(ind1)\n",
    "    ind2_pos = pop.index(ind2)\n",
    "   \n",
    "    if pop[ind1_pos].fitness.crowding_dist <= pop[ind2_pos].fitness.crowding_dist:\n",
    "        return True\n",
    "    return False"
   ]
  },
  {
   "cell_type": "code",
   "execution_count": 14,
   "metadata": {},
   "outputs": [],
   "source": [
    "# NCL based diversity function\n",
    "def nclFunc(ind1, ind2):\n",
    "    if not isinstance(ind1, deap.creator.Individual):\n",
    "        return False\n",
    "    if not isinstance(ind2, deap.creator.Individual):\n",
    "        return False\n",
    "    if ind1 not in pop:\n",
    "        return False\n",
    "    if ind2 not in pop:\n",
    "        return False\n",
    "\n",
    "    ind1_pos = pop.index(ind1)\n",
    "    ind2_pos = pop.index(ind2)\n",
    "    \n",
    "    if pop[ind1_pos].ncl <= pop[ind2_pos].ncl:\n",
    "        return True\n",
    "    return False"
   ]
  },
  {
   "cell_type": "code",
   "execution_count": 15,
   "metadata": {},
   "outputs": [],
   "source": [
    "# pf = tools.ParetoFront(similar=crowdingDistanceFunc)\n",
    "pf = tools.ParetoFront(similar=nclFunc)\n",
    "pf = tools.ParetoFront()\n",
    "\n",
    "stats = tools.Statistics(lambda ind: ind.fitness.values)\n",
    "stats.register(\"avg\", np.mean)\n",
    "stats.register(\"std\", np.std)\n",
    "stats.register(\"min\", np.min)\n",
    "stats.register(\"max\", np.max)\n"
   ]
  },
  {
   "cell_type": "markdown",
   "metadata": {},
   "source": [
    "### Evolving the population "
   ]
  },
  {
   "cell_type": "code",
   "execution_count": 16,
   "metadata": {},
   "outputs": [],
   "source": [
    "start = time.time()"
   ]
  },
  {
   "cell_type": "code",
   "execution_count": 17,
   "metadata": {},
   "outputs": [],
   "source": [
    "#za sve vrijednosti\n",
    "xvalues = []\n",
    "yvalues = []\n",
    "\n",
    "# evolution\n",
    "pop = toolbox.select(population, len(population))\n",
    "for gen in range(GNUM):\n",
    "    offspring = algorithms.varAnd(pop, toolbox, cxpb=CSC, mutpb=MTC)\n",
    "    fits = toolbox.map(toolbox.evaluate, offspring)\n",
    "    for fit, ind in zip(fits, offspring):\n",
    "        ind.fitness.values = fit\n",
    "        \n",
    "        xvalues.append(ind.fitness.values[0])\n",
    "        yvalues.append(ind.fitness.values[1])        \n",
    "    \n",
    "    pop = toolbox.select(offspring + pop, k=PNUM)\n",
    "    \n",
    "    # calculate ncl\n",
    "    tmp = partial(toolbox.assignNCLValues, ensamble = pf)\n",
    "    ncl_values = toolbox.map(tmp, pop)\n",
    "    for nclv, ind in zip(ncl_values, pop):\n",
    "        ind.ncl = nclv\n",
    "    \n",
    "    pf.update(pop)\n",
    "    \n",
    "    # check hyperarea\n",
    "#     if(gen == 1) or (gen%10 == 0):\n",
    "#         hv = hypervolume(pf, [0.0, 0.0])\n",
    "#         print(\"Hyperarea: \", hv)"
   ]
  },
  {
   "cell_type": "code",
   "execution_count": 18,
   "metadata": {},
   "outputs": [
    {
     "name": "stdout",
     "output_type": "stream",
     "text": [
      "Training time: 386.0s\n"
     ]
    }
   ],
   "source": [
    "stop = time.time()\n",
    "print(f\"Training time: {round(stop-start,2)}s\")"
   ]
  },
  {
   "cell_type": "markdown",
   "metadata": {},
   "source": [
    "### Printing and ploting the results"
   ]
  },
  {
   "cell_type": "code",
   "execution_count": 19,
   "metadata": {},
   "outputs": [
    {
     "name": "stdout",
     "output_type": "stream",
     "text": [
      "Hyperarea:  0.6996694870438921\n"
     ]
    },
    {
     "data": {
      "image/png": "[encoded data removed]",
      "text/plain": [
       "<Figure size 1152x1152 with 1 Axes>"
      ]
     },
     "metadata": {
      "needs_background": "light"
     },
     "output_type": "display_data"
    }
   ],
   "source": [
    "#zapisuje fitness vrijednosti od pareto fronte\n",
    "px = []\n",
    "py = []\n",
    "A = []\n",
    "for p in pf: \n",
    "    px.append(p.fitness.values[0])\n",
    "    py.append(p.fitness.values[1])    \n",
    "    A.append((px, py))\n",
    "\n",
    "hv = hypervolume(pf, [0.0, 0.0])\n",
    "#hv = tools.indicator.hypervolume(A)\n",
    "print(\"Hyperarea: \", hv)\n",
    "#hv = hypervolume(A)\n",
    "    \n",
    "# plotamo sve fitness vrijednosti i vrijednosti pareto fronte\n",
    "plt.plot(xvalues, yvalues, 'o', alpha = 0.1) #sve vrijednosti (plava boja)\n",
    "plt.plot(px, py, 'or', alpha = 0.5) #pareto fronta (crvena boja)\n",
    "plt.show()\n",
    "\n"
   ]
  },
  {
   "cell_type": "markdown",
   "metadata": {},
   "source": [
    "### Testing the population"
   ]
  },
  {
   "cell_type": "code",
   "execution_count": 20,
   "metadata": {},
   "outputs": [],
   "source": [
    "def testEnsambleAccuracy (data, names, ensamble):\n",
    "    \n",
    "    minority_count = np.count_nonzero(names == \"MIT\")\n",
    "    true_positive_count = 0\n",
    "    \n",
    "    majority_count = len(names) - minority_count\n",
    "    true_negative_count = 0\n",
    "    \n",
    "    for d, n in zip(data, names):\n",
    "        \n",
    "        min_vote = 0\n",
    "        maj_vote = 0\n",
    "        \n",
    "        for ind in ensamble:\n",
    "            classificator = gp.compile(ind, pset)\n",
    "            result = classificator(*d)\n",
    "            \n",
    "            if (result > 0): min_vote += 1\n",
    "            elif (result < 0): maj_vote += 1\n",
    "        \n",
    "        if((n == \"MIT\") and (min_vote > maj_vote)): true_positive_count +=1\n",
    "        elif((n != \"MIT\") and (min_vote < maj_vote)): true_negative_count += 1\n",
    "        \n",
    "    return (true_positive_count/minority_count, true_negative_count/majority_count)"
   ]
  },
  {
   "cell_type": "code",
   "execution_count": 21,
   "metadata": {
    "scrolled": true
   },
   "outputs": [
    {
     "name": "stdout",
     "output_type": "stream",
     "text": [
      "(0.00819672131147541, 1.0)\n"
     ]
    }
   ],
   "source": [
    "print(testEnsambleAccuracy(X_test, y_test, pf))"
   ]
  }
 ],
 "metadata": {
  "kernelspec": {
   "display_name": "Python 3",
   "language": "python",
   "name": "python3"
  },
  "language_info": {
   "codemirror_mode": {
    "name": "ipython",
    "version": 3
   },
   "file_extension": ".py",
   "mimetype": "text/x-python",
   "name": "python",
   "nbconvert_exporter": "python",
   "pygments_lexer": "ipython3",
   "version": "3.8.3"
  }
 },
 "nbformat": 4,
 "nbformat_minor": 5
}
