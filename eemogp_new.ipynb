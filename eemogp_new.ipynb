{
 "cells": [
  {
   "cell_type": "markdown",
   "id": "3a3913ad",
   "metadata": {},
   "source": [
    "# Evolving Ensembles in Multi-objective GeneticProgramming for Classification with Unbalanced Data"
   ]
  },
  {
   "cell_type": "markdown",
   "id": "efc9d03b",
   "metadata": {},
   "source": [
    "### Dataset YEAST\n",
    "\n",
    "Minority class = 'MIT'\n",
    "\n",
    "Majority class = other tags"
   ]
  },
  {
   "cell_type": "code",
   "execution_count": 1,
   "id": "38abc0c1",
   "metadata": {},
   "outputs": [],
   "source": [
    "# Python 3.8.3\n",
    "import deap # 1.3.1\n",
    "from deap import gp, creator, base, tools, algorithms\n",
    "\n",
    "import numpy as np # 1.18.5\n",
    "\n",
    "import operator, random\n",
    "\n",
    "import matplotlib.pyplot as plt"
   ]
  },
  {
   "cell_type": "markdown",
   "id": "870306f6",
   "metadata": {},
   "source": [
    "### Parameters"
   ]
  },
  {
   "cell_type": "code",
   "execution_count": 2,
   "id": "cbb00179",
   "metadata": {},
   "outputs": [],
   "source": [
    "PNUM = 20 # Number of individuals in a population\n",
    "GNUM = 10 # Number of generations\n",
    "MTC = 0.2 # Mutation chance\n",
    "CSC = 0.5 # Crossover chance"
   ]
  },
  {
   "cell_type": "markdown",
   "id": "ebfacbd6",
   "metadata": {},
   "source": [
    "#### Helper functions for primitive operators"
   ]
  },
  {
   "cell_type": "code",
   "execution_count": 3,
   "id": "d95849b6",
   "metadata": {},
   "outputs": [],
   "source": [
    "\n",
    "# Protected division\n",
    "def div(x, y):\n",
    "    return x/y if y else 0\n",
    "\n",
    "# If then operator - changed the name from 'if_then' to 'lf' because of cxSemantic method\n",
    "def lf(a, b, c):\n",
    "    return b if (a < 0) else c\n"
   ]
  },
  {
   "cell_type": "markdown",
   "id": "67d12057",
   "metadata": {},
   "source": [
    "#### Importing dataset"
   ]
  },
  {
   "cell_type": "code",
   "execution_count": 4,
   "id": "86c7a6e8",
   "metadata": {},
   "outputs": [],
   "source": [
    "filename = \"./Datasets/yeast.data\"\n",
    "\n",
    "with open(filename) as f:\n",
    "    content = f.read().splitlines()\n",
    "    \n",
    "data = [] # data for saving the features from file\n",
    "names = [] # names of the protein classes\n",
    "    \n",
    "for line in content:\n",
    "    tmp = line.split()\n",
    "    tmp.pop(0) # pops the first element - we dont need it\n",
    "    \n",
    "    names.append(tmp.pop()) # pops the last element - name of protein\n",
    "    \n",
    "    data.append(np.asarray(tmp, float)) # extracting features to data as float values"
   ]
  },
  {
   "cell_type": "markdown",
   "id": "eac54643",
   "metadata": {},
   "source": [
    "#### Creating a primitive set for the classificator expression"
   ]
  },
  {
   "cell_type": "code",
   "execution_count": 5,
   "id": "35ee1dd9",
   "metadata": {},
   "outputs": [],
   "source": [
    "pset = gp.PrimitiveSet(\"main\", arity=8)\n",
    "\n",
    "# Adding primitive operators\n",
    "pset.addPrimitive(operator.add, 2)\n",
    "pset.addPrimitive(operator.sub, 2)\n",
    "pset.addPrimitive(operator.mul, 2)\n",
    "pset.addPrimitive(div, 2) \n",
    "pset.addPrimitive(lf, 3, name=\"lf\") # Added 'lf' as a name for the function\n",
    "\n",
    "\n",
    "# Generate an expression where each leaf has the same depth between min and max.\n",
    "expr = gp.genHalfAndHalf(pset, min_=1, max_=8) # Create expression of max depth 8 (from paper)\n",
    "tree = gp.PrimitiveTree(expr) # Create tree classificator from expression"
   ]
  },
  {
   "cell_type": "markdown",
   "id": "e758aac6",
   "metadata": {},
   "source": [
    "### Creating a fitness function and an individual (Generation of Tree Individuals)"
   ]
  },
  {
   "cell_type": "code",
   "execution_count": 6,
   "id": "ca6c0583",
   "metadata": {},
   "outputs": [],
   "source": [
    "creator.create(\"FitnessMax\", base.Fitness, weights=(1.0, 1.0)) #FitnessMax, Multi, Min?\n",
    "\n",
    "# Create an individual of type primitive tree and our fitness function, pset is a previously defined\n",
    "creator.create(\"Individual\", gp.PrimitiveTree, fitness=creator.FitnessMax, pset=pset)"
   ]
  },
  {
   "cell_type": "markdown",
   "id": "a0707dae",
   "metadata": {},
   "source": [
    "### Helper function for evaluation"
   ]
  },
  {
   "cell_type": "code",
   "execution_count": 7,
   "id": "43b4c99d",
   "metadata": {},
   "outputs": [],
   "source": [
    "# Evaluation function\n",
    "def evaluateAccuracy(individual, data, names, pset): # po predlosku\n",
    "    \n",
    "    #Compiling the expression\n",
    "    classificator = gp.compile(individual, pset)\n",
    "    \n",
    "    minority_count = names.count(\"MIT\")\n",
    "    true_positive_count = 0\n",
    "    \n",
    "    majority_count = len(names) - minority_count\n",
    "    true_negative_count = 0\n",
    "    \n",
    "    for (d, n) in zip(data, names):\n",
    "        # feeding data to individual classificator\n",
    "        result = classificator(*d)        \n",
    "        #counting right answers\n",
    "        if (n==\"MIT\") and (result >= 0): true_positive_count += 1\n",
    "        elif (n!=\"MIT\") and (result < 0): true_negative_count += 1\n",
    "        \n",
    "    # return accuracy on minority class and majority class\n",
    "    return (true_positive_count/minority_count, true_negative_count/majority_count)"
   ]
  },
  {
   "cell_type": "markdown",
   "id": "d7aea389",
   "metadata": {},
   "source": [
    "### Registering elements with toolbox"
   ]
  },
  {
   "cell_type": "code",
   "execution_count": 8,
   "id": "9190ee3a",
   "metadata": {},
   "outputs": [],
   "source": [
    "# Creating toolbox - https://deap.readthedocs.io/en/master/examples/gp_symbreg.html\n",
    "# https://deap.readthedocs.io/en/master/tutorials/basic/part2.html\n",
    "toolbox = base.Toolbox()\n",
    "\n",
    "toolbox.register(\"expr\", gp.genHalfAndHalf, pset=pset, min_=1, max_=8) # genHalfAndHalf - Generate an expression with a PrimitiveSet pset. Half the time, the expression is generated with genGrow(), the other half, the expression is generated with genFull()\n",
    "toolbox.register(\"individual\", tools.initIterate, creator.Individual, toolbox.expr) # Register individual from expression\n",
    "\n",
    "toolbox.register(\"population\", tools.initRepeat, list, toolbox.individual)\n",
    "\n",
    "toolbox.register('evaluate', evaluateAccuracy, data=data, names=names, pset=pset)\n",
    "\n",
    "#toolbox.register('select', tools.selTournament, tournsize = 7)\n",
    "\n",
    "# Register mate function\n",
    "#toolbox.register('mate', gp.cxSemantic, pset=pset, min=1, max=8)\n",
    "toolbox.register('mate', gp.cxOnePoint)\n",
    "\n",
    "#toolbox.register(\"expr_mut\", gp.genHalfAndHalf, min_=1, max_=8)\n",
    "#toolbox.register(\"expr_mut\", gp.genFull, min_=1, max_=8)\n",
    "\n",
    "#Register mutate function\n",
    "#toolbox.register('mutate', gp.mutSemantic, pset=pset, min=1, max=8)\n",
    "toolbox.register('mutate', gp.mutNodeReplacement, pset=pset)\n",
    "\n",
    "\n",
    "toolbox.register('select', tools.selSPEA2)\n",
    "\n",
    "#DECORATE - we decorate the mate and mutate method to limit the height of generated individuals. \n",
    "#This is done to avoid an important draw back of genetic programming : bloat.\n",
    "\n",
    "#toolbox.decorate(\"mate\", gp.staticLimit(key=operator.attrgetter(\"height\"), max_value=8))\n",
    "#toolbox.decorate(\"mutate\", gp.staticLimit(key=operator.attrgetter(\"height\"), max_value=8))\n",
    "\n",
    "#DRAWING THE TREE\n",
    "#expr = toolbox.individual()\n",
    "#nodes, edges, labels = gp.graph(expr)\n",
    "\n",
    "### Graphviz Section ###\n",
    "#import pygraphviz as pgv\n",
    "\n",
    "#g = pgv.AGraph()\n",
    "#g.add_nodes_from(nodes)\n",
    "#g.add_edges_from(edges)\n",
    "#g.layout(prog=\"dot\")\n",
    "\n",
    "#for i in nodes:\n",
    "#    n = g.get_node(i)\n",
    "#    n.attr[\"label\"] = labels[i]\n",
    "\n",
    "#g.draw(\"tree.pdf\")"
   ]
  },
  {
   "cell_type": "code",
   "execution_count": 9,
   "id": "d58767ce",
   "metadata": {},
   "outputs": [],
   "source": [
    "#history = tools.History()\n",
    "\n",
    "# Decorate the variation operators\n",
    "#toolbox.decorate(\"mate\", history.decorator)\n",
    "#toolbox.decorate(\"mutate\", history.decorator)"
   ]
  },
  {
   "cell_type": "markdown",
   "id": "10dedeab",
   "metadata": {},
   "source": [
    "### Generating population"
   ]
  },
  {
   "cell_type": "code",
   "execution_count": 10,
   "id": "4d79c313",
   "metadata": {},
   "outputs": [],
   "source": [
    "# toolbox.population(n=PNUM)\n",
    "\n",
    "population = toolbox.population(n=PNUM)\n",
    "\n",
    "fits = toolbox.map(toolbox.evaluate, population)\n",
    "for fit, ind  in  zip(fits, population):\n",
    "    ind.fitness.values = fit\n",
    "\n",
    "#history.update(population)"
   ]
  },
  {
   "cell_type": "markdown",
   "id": "c0b69d43",
   "metadata": {},
   "source": [
    "### Setting stats and hof variable"
   ]
  },
  {
   "cell_type": "code",
   "execution_count": 11,
   "id": "c6f370b1",
   "metadata": {},
   "outputs": [],
   "source": [
    "hof = tools.HallOfFame(10) #hall of fame\n",
    "\n",
    "stats = tools.Statistics(lambda ind: ind.fitness.values)\n",
    "stats.register(\"avg\", np.mean)\n",
    "stats.register(\"std\", np.std)\n",
    "stats.register(\"min\", np.min)\n",
    "stats.register(\"max\", np.max)\n",
    "\n",
    "x_lastGen = []\n",
    "y_lastGen = []"
   ]
  },
  {
   "cell_type": "markdown",
   "id": "ff0438c1",
   "metadata": {},
   "source": [
    "### Evolving the population "
   ]
  },
  {
   "cell_type": "code",
   "execution_count": 12,
   "id": "fb671949",
   "metadata": {},
   "outputs": [],
   "source": [
    "##DIVA-PORTAL##\n",
    "for gen in range(GNUM):\n",
    "    #offspring = algorithms.varOr(population, toolbox, lambda_=PNUM, cxpb=CSC, mutpb=MTC)\n",
    "    offspring = algorithms.varAnd(population, toolbox, cxpb=CSC, mutpb=MTC)\n",
    "    fits = toolbox.map(toolbox.evaluate, offspring)\n",
    "    for fit, ind in zip(fits, offspring):\n",
    "        ind.fitness.values = fit\n",
    "        if (gen == GNUM-1):\n",
    "            x_lastGen.append(ind.fitness.values[0])\n",
    "            y_lastGen.append(ind.fitness.values[1])\n",
    "        else:\n",
    "            hof.insert(ind)\n",
    "    population = toolbox.select(offspring + population, k=PNUM)\n",
    "    hof.update(population)\n",
    "\n",
    "#https://deap.readthedocs.io/en/master/examples/nsga3.html?highlight=toolbox.map#evolution\n",
    "\n",
    "# algoritam od prije -->\n",
    "# algorithms.eaSimple(population, toolbox, cxpb=CSC, mutpb=MTC, ngen=GNUM, stats=stats, halloffame=hof)\n",
    "# log = algorithms.eaSimple(population, toolbox, cxpb=0.5, mutpb=0.2, ngen=7, stats=stats, halloffame=hof)"
   ]
  },
  {
   "cell_type": "markdown",
   "id": "9a675ffc",
   "metadata": {},
   "source": [
    "#### print hof"
   ]
  },
  {
   "cell_type": "code",
   "execution_count": 13,
   "id": "c74cb5d3",
   "metadata": {},
   "outputs": [
    {
     "data": {
      "image/png": "[encoded data removed]",
      "text/plain": [
       "<Figure size 432x288 with 1 Axes>"
      ]
     },
     "metadata": {
      "needs_background": "light"
     },
     "output_type": "display_data"
    },
    {
     "name": "stdout",
     "output_type": "stream",
     "text": [
      "0.020491803278688523 0.9975806451612903\n",
      "0.5737704918032787 0.9153225806451613\n",
      "0.6967213114754098 0.8274193548387097\n",
      "0.9713114754098361 0.2991935483870968\n",
      "0.7377049180327869 0.760483870967742\n",
      "0.8114754098360656 0.6645161290322581\n",
      "0.8032786885245902 0.6846774193548387\n",
      "0.3442622950819672 0.9653225806451613\n",
      "1.0 0.0\n",
      "0.3442622950819672 0.9685483870967742\n",
      "0.38114754098360654 0.9612903225806452\n",
      "0.5040983606557377 0.9314516129032258\n",
      "0.028688524590163935 0.9887096774193549\n",
      "0.9590163934426229 0.26048387096774195\n",
      "0.1885245901639344 0.9838709677419355\n",
      "0.6434426229508197 0.8661290322580645\n",
      "0.9836065573770492 0.20403225806451614\n",
      "0.9344262295081968 0.36612903225806454\n",
      "0.9672131147540983 0.23629032258064517\n",
      "0.47950819672131145 0.9370967741935484\n",
      "0.9795081967213115 0.08225806451612903\n",
      "0.9918032786885246 0.08225806451612903\n",
      "1.0 0.054838709677419356\n",
      "0.6270491803278688 0.8766129032258064\n",
      "0.13524590163934427 0.9879032258064516\n",
      "0.9959016393442623 0.018548387096774192\n",
      "0.7622950819672131 0.7370967741935484\n",
      "0.045081967213114756 0.9951612903225806\n",
      "0.4959016393442623 0.9298387096774193\n",
      "0.4344262295081967 0.9516129032258065\n",
      "0.5532786885245902 0.9193548387096774\n",
      "0.13934426229508196 0.9693548387096774\n",
      "0.9918032786885246 0.14516129032258066\n",
      "0.004098360655737705 0.9959677419354839\n",
      "1.0 0.09274193548387097\n",
      "0.4385245901639344 0.9483870967741935\n",
      "0.8114754098360656 0.6846774193548387\n",
      "0.028688524590163935 0.9959677419354839\n",
      "0.9549180327868853 0.3024193548387097\n",
      "0.6762295081967213 0.8209677419354838\n",
      "0.9754098360655737 0.307258064516129\n",
      "0.7540983606557377 0.7483870967741936\n",
      "0.8647540983606558 0.5282258064516129\n",
      "0.9549180327868853 0.21048387096774193\n",
      "0.21721311475409835 0.9790322580645161\n",
      "0.4918032786885246 0.9387096774193548\n",
      "0.21311475409836064 0.9774193548387097\n",
      "0.5409836065573771 0.9153225806451613\n",
      "0.5286885245901639 0.9266129032258065\n",
      "0.3401639344262295 0.9661290322580646\n",
      "0.860655737704918 0.657258064516129\n",
      "0.7336065573770492 0.7669354838709678\n",
      "0.8319672131147541 0.625\n",
      "0.30327868852459017 0.967741935483871\n",
      "0.9262295081967213 0.3814516129032258\n",
      "0.0 0.9991935483870967\n",
      "0.27459016393442626 0.975\n",
      "0.00819672131147541 0.9991935483870967\n",
      "0.012295081967213115 0.989516129032258\n",
      "0.5614754098360656 0.5387096774193548\n"
     ]
    }
   ],
   "source": [
    "#printaj hall of fame jedinke\n",
    "i = 1\n",
    "xvalues = []\n",
    "yvalues = []\n",
    "for h in hof: \n",
    "    #print(i, h)\n",
    "    #print(h.fitness.values)\n",
    "    xvalues.append(h.fitness.values[0])\n",
    "    yvalues.append(h.fitness.values[1])\n",
    "    #print(\"\\n\")\n",
    "    i += 1\n",
    "    \n",
    "# plotamo hall-of-fame vrijednosti i vrijednosti zadnje generacije \n",
    "plt.plot(xvalues, yvalues, 'o')\n",
    "plt.plot(x_lastGen, y_lastGen, 'or')\n",
    "plt.show()\n",
    "\n",
    "#Print last gen values\n",
    "#for x, y in zip(x_lastGen, y_lastGen):\n",
    "    #print (x, y)\n",
    "#print(x_lastGen)\n",
    "#print(y_lastGen)\n",
    "\n",
    "\n",
    "#print(log)"
   ]
  },
  {
   "cell_type": "code",
   "execution_count": 14,
   "id": "32cd3b20",
   "metadata": {},
   "outputs": [],
   "source": [
    "#import matplotlib.pyplot as plt\n",
    "#import networkx\n",
    "\n",
    "# The History class helps to build a genealogy of all the individuals produced in the evolution. \n",
    "# It contains two attributes, the genealogy_tree that is a dictionary of lists indexed by individual, \n",
    "# the list contain the indices of the parents. The second attribute genealogy_history contains every \n",
    "# individual indexed by their individual number as in the genealogy tree.\n",
    "\n",
    "#graph = networkx.DiGraph(history.genealogy_tree)\n",
    "#graph = graph.reverse()     # Make the graph top-down\n",
    "#colors = [toolbox.evaluate(history.genealogy_history[i])[0] for i in graph]\n",
    "#networkx.draw(graph, node_color=colors)\n",
    "#plt.show()"
   ]
  }
 ],
 "metadata": {
  "kernelspec": {
   "display_name": "Python 3",
   "language": "python",
   "name": "python3"
  },
  "language_info": {
   "codemirror_mode": {
    "name": "ipython",
    "version": 3
   },
   "file_extension": ".py",
   "mimetype": "text/x-python",
   "name": "python",
   "nbconvert_exporter": "python",
   "pygments_lexer": "ipython3",
   "version": "3.8.5"
  }
 },
 "nbformat": 4,
 "nbformat_minor": 5
}
