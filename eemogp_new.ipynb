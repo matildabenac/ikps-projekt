{
 "cells": [
  {
   "cell_type": "markdown",
   "metadata": {},
   "source": [
    "# Evolving Ensembles in Multi-objective GeneticProgramming for Classification with Unbalanced Data"
   ]
  },
  {
   "cell_type": "markdown",
   "metadata": {},
   "source": [
    "### Dataset YEAST\n",
    "\n",
    "Minority class = 'MIT'\n",
    "\n",
    "Majority class = other tags"
   ]
  },
  {
   "cell_type": "code",
   "execution_count": 1,
   "metadata": {},
   "outputs": [],
   "source": [
    "# Python 3.8.3\n",
    "import deap # 1.3.1\n",
    "from deap import gp, creator, base, tools, algorithms\n",
    "\n",
    "import numpy as np # 1.18.5\n",
    "\n",
    "import operator, random\n",
    "\n",
    "import matplotlib.pyplot as plt"
   ]
  },
  {
   "cell_type": "markdown",
   "metadata": {},
   "source": [
    "### Parameters"
   ]
  },
  {
   "cell_type": "code",
   "execution_count": 2,
   "metadata": {},
   "outputs": [],
   "source": [
    "PNUM = 20 # Number of individuals in a population\n",
    "GNUM = 10 # Number of generations\n",
    "MTC = 0.2 # Mutation chance\n",
    "CSC = 0.5 # Crossover chance\n",
    "\n",
    "ATR_DATA = 8 #Data set atributes"
   ]
  },
  {
   "cell_type": "markdown",
   "metadata": {},
   "source": [
    "#### Helper functions for primitive operators"
   ]
  },
  {
   "cell_type": "code",
   "execution_count": 3,
   "metadata": {},
   "outputs": [],
   "source": [
    "\n",
    "# Protected division\n",
    "def div(x, y):\n",
    "    return x/y if y else 0\n",
    "\n",
    "# If then operator - changed the name from 'if_then' to 'lf' because of cxSemantic method\n",
    "def lf(a, b, c):\n",
    "    return b if (a < 0) else c\n"
   ]
  },
  {
   "cell_type": "markdown",
   "metadata": {},
   "source": [
    "#### Importing dataset"
   ]
  },
  {
   "cell_type": "code",
   "execution_count": 4,
   "metadata": {},
   "outputs": [],
   "source": [
    "filename = \"./Datasets/yeast.data\"\n",
    "\n",
    "with open(filename) as f:\n",
    "    content = f.read().splitlines()\n",
    "    \n",
    "data = [] # data for saving the features from file\n",
    "names = [] # names of the protein classes\n",
    "    \n",
    "for line in content:\n",
    "    tmp = line.split()\n",
    "    tmp.pop(0) # pops the first element - we dont need it\n",
    "    \n",
    "    names.append(tmp.pop()) # pops the last element - name of protein\n",
    "    \n",
    "    data.append(np.asarray(tmp, float)) # extracting features to data as float values"
   ]
  },
  {
   "cell_type": "markdown",
   "metadata": {},
   "source": [
    "#### Creating a primitive set for the classificator expression"
   ]
  },
  {
   "cell_type": "code",
   "execution_count": 5,
   "metadata": {},
   "outputs": [],
   "source": [
    "pset = gp.PrimitiveSet(\"main\", arity=ATR_DATA)\n",
    "\n",
    "# Adding primitive operators\n",
    "pset.addPrimitive(operator.add, 2)\n",
    "pset.addPrimitive(operator.sub, 2)\n",
    "pset.addPrimitive(operator.mul, 2)\n",
    "pset.addPrimitive(div, 2) \n",
    "pset.addPrimitive(lf, 3, name=\"lf\") # Added 'lf' as a name for the function\n",
    "\n",
    "\n",
    "# Generate an expression where each leaf has the same depth between min and max.\n",
    "expr = gp.genHalfAndHalf(pset, min_=1, max_=8) # Create expression of max depth 8 (from paper)\n",
    "tree = gp.PrimitiveTree(expr) # Create tree classificator from expression"
   ]
  },
  {
   "cell_type": "markdown",
   "metadata": {},
   "source": [
    "### Creating a fitness function and an individual (Generation of Tree Individuals)"
   ]
  },
  {
   "cell_type": "code",
   "execution_count": 6,
   "metadata": {},
   "outputs": [],
   "source": [
    "creator.create(\"FitnessMax\", base.Fitness, weights=(1.0, 1.0)) #FitnessMax, Multi, Min?\n",
    "\n",
    "# Create an individual of type primitive tree and our fitness function, pset is a previously defined\n",
    "creator.create(\"Individual\", gp.PrimitiveTree, fitness=creator.FitnessMax, pset=pset)"
   ]
  },
  {
   "cell_type": "markdown",
   "metadata": {},
   "source": [
    "### Helper function for evaluation"
   ]
  },
  {
   "cell_type": "code",
   "execution_count": 7,
   "metadata": {},
   "outputs": [],
   "source": [
    "# Evaluation function\n",
    "def evaluateAccuracy(individual, data, names, pset): # po predlosku\n",
    "    \n",
    "    #Compiling the expression\n",
    "    classificator = gp.compile(individual, pset)\n",
    "    \n",
    "    minority_count = names.count(\"MIT\")\n",
    "    true_positive_count = 0\n",
    "    \n",
    "    majority_count = len(names) - minority_count\n",
    "    true_negative_count = 0\n",
    "    \n",
    "    for (d, n) in zip(data, names):\n",
    "        # feeding data to individual classificator\n",
    "        result = classificator(*d)        \n",
    "        #counting right answers\n",
    "        if (n==\"MIT\") and (result >= 0): true_positive_count += 1\n",
    "        elif (n!=\"MIT\") and (result < 0): true_negative_count += 1\n",
    "        \n",
    "    # return accuracy on minority class and majority class\n",
    "    return (true_positive_count/minority_count, true_negative_count/majority_count)"
   ]
  },
  {
   "cell_type": "markdown",
   "metadata": {},
   "source": [
    "### Registering elements with toolbox"
   ]
  },
  {
   "cell_type": "code",
   "execution_count": 8,
   "metadata": {},
   "outputs": [],
   "source": [
    "# Creating toolbox - https://deap.readthedocs.io/en/master/examples/gp_symbreg.html\n",
    "# https://deap.readthedocs.io/en/master/tutorials/basic/part2.html\n",
    "toolbox = base.Toolbox()\n",
    "\n",
    "toolbox.register(\"expr\", gp.genHalfAndHalf, pset=pset, min_=1, max_=8) # genHalfAndHalf - Generate an expression with a PrimitiveSet pset. Half the time, the expression is generated with genGrow(), the other half, the expression is generated with genFull()\n",
    "toolbox.register(\"individual\", tools.initIterate, creator.Individual, toolbox.expr) # Register individual from expression\n",
    "\n",
    "toolbox.register(\"population\", tools.initRepeat, list, toolbox.individual)\n",
    "\n",
    "toolbox.register('evaluate', evaluateAccuracy, data=data, names=names, pset=pset)\n",
    "\n",
    "#toolbox.register('select', tools.selTournament, tournsize = 7)\n",
    "\n",
    "# Register mate function\n",
    "#toolbox.register('mate', gp.cxSemantic, pset=pset, min=1, max=8)\n",
    "toolbox.register('mate', gp.cxOnePoint)\n",
    "\n",
    "#toolbox.register(\"expr_mut\", gp.genHalfAndHalf, min_=1, max_=8)\n",
    "#toolbox.register(\"expr_mut\", gp.genFull, min_=1, max_=8)\n",
    "\n",
    "#Register mutate function\n",
    "#toolbox.register('mutate', gp.mutSemantic, pset=pset, min=1, max=8)\n",
    "toolbox.register('mutate', gp.mutNodeReplacement, pset=pset)\n",
    "\n",
    "\n",
    "toolbox.register('select', tools.selSPEA2)\n",
    "\n",
    "#DECORATE - we decorate the mate and mutate method to limit the height of generated individuals. \n",
    "#This is done to avoid an important draw back of genetic programming : bloat.\n",
    "\n",
    "#toolbox.decorate(\"mate\", gp.staticLimit(key=operator.attrgetter(\"height\"), max_value=8))\n",
    "#toolbox.decorate(\"mutate\", gp.staticLimit(key=operator.attrgetter(\"height\"), max_value=8))\n",
    "\n",
    "#DRAWING THE TREE\n",
    "#expr = toolbox.individual()\n",
    "#nodes, edges, labels = gp.graph(expr)\n",
    "\n",
    "### Graphviz Section ###\n",
    "#import pygraphviz as pgv\n",
    "\n",
    "#g = pgv.AGraph()\n",
    "#g.add_nodes_from(nodes)\n",
    "#g.add_edges_from(edges)\n",
    "#g.layout(prog=\"dot\")\n",
    "\n",
    "#for i in nodes:\n",
    "#    n = g.get_node(i)\n",
    "#    n.attr[\"label\"] = labels[i]\n",
    "\n",
    "#g.draw(\"tree.pdf\")"
   ]
  },
  {
   "cell_type": "code",
   "execution_count": 9,
   "metadata": {},
   "outputs": [],
   "source": [
    "#history = tools.History()\n",
    "\n",
    "# Decorate the variation operators\n",
    "#toolbox.decorate(\"mate\", history.decorator)\n",
    "#toolbox.decorate(\"mutate\", history.decorator)"
   ]
  },
  {
   "cell_type": "markdown",
   "metadata": {},
   "source": [
    "### Generating population"
   ]
  },
  {
   "cell_type": "code",
   "execution_count": 10,
   "metadata": {},
   "outputs": [],
   "source": [
    "# toolbox.population(n=PNUM)\n",
    "\n",
    "population = toolbox.population(n=PNUM)\n",
    "\n",
    "fits = toolbox.map(toolbox.evaluate, population)\n",
    "for fit, ind  in  zip(fits, population):\n",
    "    ind.fitness.values = fit\n",
    "\n",
    "#history.update(population)"
   ]
  },
  {
   "cell_type": "markdown",
   "metadata": {},
   "source": [
    "### Setting stats and hof variable"
   ]
  },
  {
   "cell_type": "code",
   "execution_count": 11,
   "metadata": {},
   "outputs": [],
   "source": [
    "hof = tools.ParetoFront() #hall of fame\n",
    "\n",
    "stats = tools.Statistics(lambda ind: ind.fitness.values)\n",
    "stats.register(\"avg\", np.mean)\n",
    "stats.register(\"std\", np.std)\n",
    "stats.register(\"min\", np.min)\n",
    "stats.register(\"max\", np.max)\n",
    "\n",
    "x_lastGen = []\n",
    "y_lastGen = []"
   ]
  },
  {
   "cell_type": "markdown",
   "metadata": {},
   "source": [
    "### Evolving the population "
   ]
  },
  {
   "cell_type": "code",
   "execution_count": 12,
   "metadata": {},
   "outputs": [],
   "source": [
    "xvalues = []\n",
    "yvalues = []\n",
    "\n",
    "##DIVA-PORTAL##\n",
    "for gen in range(GNUM):\n",
    "    #offspring = algorithms.varOr(population, toolbox, lambda_=PNUM, cxpb=CSC, mutpb=MTC)\n",
    "    offspring = algorithms.varAnd(population, toolbox, cxpb=CSC, mutpb=MTC)\n",
    "    fits = toolbox.map(toolbox.evaluate, offspring)\n",
    "    for fit, ind in zip(fits, offspring):\n",
    "        ind.fitness.values = fit\n",
    "        \n",
    "        xvalues.append(ind.fitness.values[0])\n",
    "        yvalues.append(ind.fitness.values[1])\n",
    "        \n",
    "        if (gen == GNUM-1):\n",
    "            x_lastGen.append(ind.fitness.values[0])\n",
    "            y_lastGen.append(ind.fitness.values[1])\n",
    "    \n",
    "    population = toolbox.select(offspring + population, k=PNUM)\n",
    "    hof.update(population)\n",
    "\n",
    "#https://deap.readthedocs.io/en/master/examples/nsga3.html?highlight=toolbox.map#evolution\n",
    "\n",
    "# algoritam od prije -->\n",
    "# algorithms.eaSimple(population, toolbox, cxpb=CSC, mutpb=MTC, ngen=GNUM, stats=stats, halloffame=hof)\n",
    "# log = algorithms.eaSimple(population, toolbox, cxpb=0.5, mutpb=0.2, ngen=7, stats=stats, halloffame=hof)"
   ]
  },
  {
   "cell_type": "markdown",
   "metadata": {},
   "source": [
    "#### print hof"
   ]
  },
  {
   "cell_type": "code",
   "execution_count": 13,
   "metadata": {},
   "outputs": [
    {
     "data": {
      "image/png": "[encoded data removed]",
      "text/plain": [
       "<Figure size 432x288 with 1 Axes>"
      ]
     },
     "metadata": {
      "needs_background": "light"
     },
     "output_type": "display_data"
    }
   ],
   "source": [
    "# #printaj hall of fame jedinke\n",
    "px = []\n",
    "py = []\n",
    "for h in hof: \n",
    "    px.append(h.fitness.values[0])\n",
    "    py.append(h.fitness.values[1])\n",
    "    \n",
    "# pf = tools.sortLogNondominated(population,10, True)\n",
    "\n",
    "# for p in pf:\n",
    "#     px.append(p.fitness.values[0])\n",
    "#     py.append(p.fitness.values[1])\n",
    "    \n",
    "# plotamo hall-of-fame vrijednosti i vrijednosti zadnje generacije \n",
    "plt.plot(xvalues, yvalues, 'o')\n",
    "# plt.plot(x_lastGen, y_lastGen, 'or')\n",
    "plt.plot(px, py, 'or')\n",
    "plt.show()\n",
    "\n",
    "#Print last gen values\n",
    "#for x, y in zip(x_lastGen, y_lastGen):\n",
    "    #print (x, y)\n",
    "#print(x_lastGen)\n",
    "#print(y_lastGen)\n",
    "\n",
    "\n",
    "#print(log)"
   ]
  },
  {
   "cell_type": "code",
   "execution_count": 14,
   "metadata": {},
   "outputs": [],
   "source": [
    "#import matplotlib.pyplot as plt\n",
    "#import networkx\n",
    "\n",
    "# The History class helps to build a genealogy of all the individuals produced in the evolution. \n",
    "# It contains two attributes, the genealogy_tree that is a dictionary of lists indexed by individual, \n",
    "# the list contain the indices of the parents. The second attribute genealogy_history contains every \n",
    "# individual indexed by their individual number as in the genealogy tree.\n",
    "\n",
    "#graph = networkx.DiGraph(history.genealogy_tree)\n",
    "#graph = graph.reverse()     # Make the graph top-down\n",
    "#colors = [toolbox.evaluate(history.genealogy_history[i])[0] for i in graph]\n",
    "#networkx.draw(graph, node_color=colors)\n",
    "#plt.show()"
   ]
  }
 ],
 "metadata": {
  "kernelspec": {
   "display_name": "Python 3",
   "language": "python",
   "name": "python3"
  },
  "language_info": {
   "codemirror_mode": {
    "name": "ipython",
    "version": 3
   },
   "file_extension": ".py",
   "mimetype": "text/x-python",
   "name": "python",
   "nbconvert_exporter": "python",
   "pygments_lexer": "ipython3",
   "version": "3.8.3"
  }
 },
 "nbformat": 4,
 "nbformat_minor": 5
}
