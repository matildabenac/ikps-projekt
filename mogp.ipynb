{
 "cells": [
  {
   "cell_type": "markdown",
   "metadata": {},
   "source": [
    "# Evolving Ensembles in Multi-objective GeneticProgramming for Classification with Unbalanced Data"
   ]
  },
  {
   "cell_type": "code",
   "execution_count": 1,
   "metadata": {},
   "outputs": [],
   "source": [
    "import deap\n",
    "from deap import gp\n",
    "\n",
    "import operator"
   ]
  },
  {
   "cell_type": "markdown",
   "metadata": {},
   "source": [
    "Init tree"
   ]
  },
  {
   "cell_type": "code",
   "execution_count": 2,
   "metadata": {},
   "outputs": [],
   "source": [
    "#protected division\n",
    "def div(x, y):\n",
    "    try:\n",
    "        return x/y\n",
    "    except ZeroDivisionError:\n",
    "        return 1\n",
    "   \n",
    "#if then\n",
    "def if_then(a, b, c):\n",
    "    if a < 0:\n",
    "        return b\n",
    "    else:\n",
    "        return c"
   ]
  },
  {
   "cell_type": "code",
   "execution_count": 3,
   "metadata": {},
   "outputs": [
    {
     "name": "stdout",
     "output_type": "stream",
     "text": [
      "mul(sub(mul(if_then(if_then(ARG1, ARG0, ARG1), mul(ARG1, ARG1), if_then(ARG1, ARG1, ARG1)), if_then(mul(ARG0, ARG1), div(ARG1, ARG1), div(ARG0, ARG0))), sub(sub(sub(ARG1, ARG1), div(ARG0, ARG0)), mul(if_then(ARG1, ARG0, ARG0), add(ARG0, ARG1)))), mul(if_then(div(div(ARG1, ARG0), add(ARG0, ARG0)), add(mul(ARG0, ARG1), if_then(ARG0, ARG1, ARG0)), mul(div(ARG0, ARG1), if_then(ARG0, ARG0, ARG1))), add(add(div(ARG0, ARG1), mul(ARG1, ARG1)), add(mul(ARG1, ARG1), add(ARG1, ARG0)))))\n"
     ]
    }
   ],
   "source": [
    "pset = gp.PrimitiveSet(\"main\", 2)\n",
    "\n",
    "# dodavanje operacija u cvorove stabla\n",
    "pset.addPrimitive(operator.add, 2)\n",
    "pset.addPrimitive(operator.sub, 2)\n",
    "pset.addPrimitive(operator.mul, 2)\n",
    "pset.addPrimitive(div, 2) \n",
    "pset.addPrimitive(if_then, 3)\n",
    "\n",
    "#listovi??\n",
    "#pset.addTerminal(3)\n",
    "#pset.addTerminal(2)\n",
    "\n",
    "#Generate an expression where each leaf has the same depth between min and max.\n",
    "expr = gp.genFull(pset, min_=1, max_=8)\n",
    "tree = gp.PrimitiveTree(expr)\n",
    "\n",
    "print(tree)"
   ]
  },
  {
   "cell_type": "code",
   "execution_count": 4,
   "metadata": {},
   "outputs": [
    {
     "name": "stdout",
     "output_type": "stream",
     "text": [
      "69.0\n"
     ]
    }
   ],
   "source": [
    "classificator = gp.compile(tree, pset)\n",
    "temp = classificator(1, 2)\n",
    "\n",
    "print(temp)"
   ]
  }
 ],
 "metadata": {
  "kernelspec": {
   "display_name": "Python 3",
   "language": "python",
   "name": "python3"
  },
  "language_info": {
   "codemirror_mode": {
    "name": "ipython",
    "version": 3
   },
   "file_extension": ".py",
   "mimetype": "text/x-python",
   "name": "python",
   "nbconvert_exporter": "python",
   "pygments_lexer": "ipython3",
   "version": "3.8.3"
  }
 },
 "nbformat": 4,
 "nbformat_minor": 4
}
