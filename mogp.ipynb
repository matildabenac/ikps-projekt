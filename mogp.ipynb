{
 "cells": [
  {
   "cell_type": "markdown",
   "metadata": {},
   "source": [
    "# Evolving Ensembles in Multi-objective GeneticProgramming for Classification with Unbalanced Data"
   ]
  },
  {
   "cell_type": "code",
   "execution_count": 1,
   "metadata": {},
   "outputs": [],
   "source": [
    "import deap\n",
    "from deap import gp, creator, base, tools\n",
    "\n",
    "import operator"
   ]
  },
  {
   "cell_type": "markdown",
   "metadata": {},
   "source": [
    "Init tree"
   ]
  },
  {
   "cell_type": "code",
   "execution_count": 2,
   "metadata": {},
   "outputs": [],
   "source": [
    "#protected division\n",
    "def div(x, y):\n",
    "    try:\n",
    "        return x/y\n",
    "    except ZeroDivisionError:\n",
    "        return 1\n",
    "   \n",
    "#if then\n",
    "def if_then(a, b, c):\n",
    "    if a < 0:\n",
    "        return b\n",
    "    else:\n",
    "        return c"
   ]
  },
  {
   "cell_type": "code",
   "execution_count": 3,
   "metadata": {},
   "outputs": [
    {
     "name": "stdout",
     "output_type": "stream",
     "text": [
      "div(if_then(sub(div(div(mul(div(ARG1, ARG1), div(ARG0, ARG1)), sub(div(ARG0, ARG1), sub(ARG0, ARG1))), if_then(if_then(sub(ARG0, ARG0), sub(ARG0, ARG0), add(ARG0, ARG0)), add(if_then(ARG1, ARG1, ARG1), if_then(ARG1, ARG0, ARG0)), add(sub(ARG0, ARG1), mul(ARG0, ARG1)))), div(add(if_then(add(ARG0, ARG0), mul(ARG0, ARG1), add(ARG1, ARG0)), add(sub(ARG0, ARG0), sub(ARG0, ARG1))), mul(sub(div(ARG1, ARG1), mul(ARG0, ARG0)), mul(mul(ARG0, ARG1), sub(ARG0, ARG0))))), mul(sub(if_then(add(if_then(ARG1, ARG0, ARG0), add(ARG1, ARG1)), sub(div(ARG0, ARG1), mul(ARG1, ARG1)), mul(sub(ARG0, ARG0), sub(ARG1, ARG0))), div(add(add(ARG1, ARG1), mul(ARG0, ARG0)), mul(div(ARG1, ARG0), mul(ARG0, ARG0)))), div(mul(if_then(mul(ARG1, ARG0), mul(ARG1, ARG0), mul(ARG0, ARG1)), sub(add(ARG1, ARG0), add(ARG1, ARG0))), sub(if_then(div(ARG0, ARG0), if_then(ARG1, ARG1, ARG0), div(ARG1, ARG1)), mul(add(ARG1, ARG1), sub(ARG1, ARG0))))), sub(sub(sub(sub(div(ARG0, ARG1), div(ARG0, ARG1)), if_then(mul(ARG1, ARG1), if_then(ARG1, ARG0, ARG1), mul(ARG1, ARG0))), div(if_then(mul(ARG1, ARG1), mul(ARG1, ARG0), mul(ARG1, ARG0)), sub(sub(ARG1, ARG0), add(ARG0, ARG0)))), sub(if_then(add(div(ARG1, ARG1), sub(ARG0, ARG1)), div(if_then(ARG1, ARG1, ARG1), div(ARG0, ARG0)), sub(add(ARG1, ARG0), add(ARG0, ARG1))), sub(mul(mul(ARG0, ARG1), mul(ARG0, ARG1)), div(add(ARG1, ARG0), if_then(ARG1, ARG1, ARG0)))))), div(if_then(div(add(if_then(sub(ARG0, ARG1), sub(ARG1, ARG0), div(ARG1, ARG1)), sub(mul(ARG0, ARG0), sub(ARG1, ARG1))), div(if_then(add(ARG1, ARG1), div(ARG0, ARG1), add(ARG0, ARG1)), div(add(ARG0, ARG0), sub(ARG1, ARG0)))), if_then(sub(mul(if_then(ARG0, ARG1, ARG1), div(ARG0, ARG0)), mul(add(ARG0, ARG0), mul(ARG0, ARG1))), mul(mul(mul(ARG0, ARG1), sub(ARG0, ARG0)), add(mul(ARG1, ARG0), sub(ARG0, ARG0))), div(if_then(div(ARG0, ARG0), div(ARG0, ARG1), div(ARG0, ARG1)), if_then(mul(ARG0, ARG0), div(ARG0, ARG1), add(ARG0, ARG0)))), if_then(div(div(sub(ARG0, ARG1), div(ARG0, ARG0)), sub(if_then(ARG0, ARG1, ARG1), sub(ARG1, ARG1))), div(mul(div(ARG0, ARG1), div(ARG1, ARG0)), div(if_then(ARG1, ARG1, ARG0), add(ARG1, ARG0))), div(if_then(mul(ARG1, ARG0), if_then(ARG1, ARG0, ARG0), sub(ARG0, ARG0)), sub(mul(ARG1, ARG0), div(ARG0, ARG0))))), sub(if_then(if_then(add(add(ARG0, ARG0), mul(ARG1, ARG0)), if_then(add(ARG1, ARG0), add(ARG0, ARG0), sub(ARG1, ARG1)), sub(div(ARG1, ARG1), mul(ARG0, ARG1))), sub(if_then(div(ARG1, ARG1), sub(ARG0, ARG0), mul(ARG1, ARG1)), div(mul(ARG1, ARG0), if_then(ARG0, ARG0, ARG0))), sub(add(div(ARG1, ARG1), sub(ARG1, ARG1)), add(if_then(ARG0, ARG1, ARG1), if_then(ARG1, ARG1, ARG0)))), div(sub(sub(sub(ARG0, ARG1), add(ARG0, ARG0)), div(add(ARG0, ARG1), sub(ARG1, ARG0))), div(if_then(if_then(ARG0, ARG1, ARG1), add(ARG0, ARG0), div(ARG0, ARG1)), add(if_then(ARG0, ARG0, ARG1), sub(ARG1, ARG1)))))))\n"
     ]
    }
   ],
   "source": [
    "#creating a primitive set\n",
    "pset = gp.PrimitiveSet(\"main\", arity=2)\n",
    "\n",
    "# dodavanje operacija u cvorove stabla\n",
    "pset.addPrimitive(operator.add, 2)\n",
    "pset.addPrimitive(operator.sub, 2)\n",
    "pset.addPrimitive(operator.mul, 2)\n",
    "pset.addPrimitive(div, 2) \n",
    "pset.addPrimitive(if_then, 3)\n",
    "\n",
    "#listovi??\n",
    "#pset.addTerminal(3)\n",
    "#pset.addTerminal(2)\n",
    "\n",
    "#Generate an expression where each leaf has the same depth between min and max.\n",
    "expr = gp.genFull(pset, min_=1, max_=8)\n",
    "tree = gp.PrimitiveTree(expr)\n",
    "\n",
    "print(tree)"
   ]
  },
  {
   "cell_type": "code",
   "execution_count": 4,
   "metadata": {},
   "outputs": [
    {
     "name": "stdout",
     "output_type": "stream",
     "text": [
      "0.0\n"
     ]
    }
   ],
   "source": [
    "classificator = gp.compile(tree, pset)\n",
    "temp = classificator(1, 2)\n",
    "\n",
    "print(temp)"
   ]
  },
  {
   "cell_type": "markdown",
   "metadata": {},
   "source": [
    "Init population"
   ]
  },
  {
   "cell_type": "code",
   "execution_count": 5,
   "metadata": {},
   "outputs": [
    {
     "name": "stdout",
     "output_type": "stream",
     "text": [
      "sub(sub(div(if_then(ARG1, ARG1, ARG0), div(ARG1, ARG0)), sub(if_then(ARG0, ARG0, ARG1), sub(ARG1, ARG1))), div(div(mul(ARG0, ARG1), add(ARG0, ARG1)), div(sub(ARG1, ARG0), if_then(ARG0, ARG1, ARG0))))\n",
      "\n",
      "mul(ARG1, ARG0)\n",
      "\n",
      "mul(sub(ARG0, ARG0), mul(ARG0, ARG1))\n",
      "\n",
      "sub(add(div(add(add(ARG0, ARG0), sub(ARG1, ARG0)), add(if_then(ARG0, ARG0, ARG1), mul(ARG0, ARG0))), add(sub(div(ARG1, ARG0), mul(ARG0, ARG1)), add(sub(ARG1, ARG0), if_then(ARG1, ARG1, ARG1)))), mul(add(mul(add(ARG1, ARG1), mul(ARG0, ARG0)), if_then(mul(ARG0, ARG0), div(ARG0, ARG1), mul(ARG1, ARG0))), sub(sub(div(ARG1, ARG0), div(ARG1, ARG0)), mul(div(ARG1, ARG0), div(ARG0, ARG0)))))\n",
      "\n",
      "sub(div(if_then(if_then(ARG1, ARG1, ARG1), div(ARG0, ARG1), sub(ARG1, ARG1)), if_then(if_then(ARG0, ARG0, ARG0), add(ARG0, ARG1), if_then(ARG1, ARG1, ARG0))), sub(sub(sub(ARG1, ARG0), sub(ARG1, ARG1)), mul(sub(ARG0, ARG0), div(ARG1, ARG1))))\n",
      "\n",
      "sub(sub(add(ARG0, ARG1), add(ARG1, ARG0)), mul(add(ARG0, ARG0), if_then(ARG1, ARG0, ARG1)))\n",
      "\n",
      "add(div(add(ARG1, ARG1), sub(ARG1, ARG0)), div(add(ARG1, ARG0), if_then(ARG0, ARG1, ARG0)))\n",
      "\n",
      "if_then(sub(mul(mul(if_then(ARG1, ARG0, ARG0), div(ARG0, ARG1)), add(if_then(ARG1, ARG0, ARG1), if_then(ARG1, ARG0, ARG1))), div(mul(div(ARG1, ARG1), add(ARG1, ARG0)), sub(mul(ARG0, ARG0), sub(ARG1, ARG1)))), sub(add(mul(add(ARG1, ARG0), mul(ARG1, ARG1)), div(if_then(ARG0, ARG1, ARG1), add(ARG1, ARG0))), if_then(div(sub(ARG1, ARG0), mul(ARG0, ARG1)), mul(sub(ARG0, ARG1), add(ARG0, ARG0)), sub(if_then(ARG0, ARG1, ARG1), if_then(ARG0, ARG1, ARG1)))), mul(mul(mul(div(ARG0, ARG1), mul(ARG1, ARG1)), mul(sub(ARG1, ARG1), div(ARG1, ARG1))), add(mul(div(ARG0, ARG0), sub(ARG1, ARG0)), mul(mul(ARG1, ARG0), sub(ARG1, ARG0)))))\n",
      "\n",
      "add(if_then(add(ARG0, ARG1), mul(ARG0, ARG0), sub(ARG0, ARG1)), add(div(ARG1, ARG1), add(ARG0, ARG0)))\n",
      "\n",
      "mul(sub(mul(if_then(ARG1, ARG0, ARG1), if_then(ARG1, ARG0, ARG0)), sub(mul(ARG0, ARG1), mul(ARG1, ARG0))), add(add(if_then(ARG1, ARG1, ARG1), mul(ARG1, ARG0)), div(div(ARG1, ARG1), div(ARG1, ARG0))))\n",
      "\n"
     ]
    }
   ],
   "source": [
    "#create a multi objective fitness function with weights between objectives\n",
    "creator.create(\"FitnessMulti\", base.Fitness, weights=(0.5, 0.5))\n",
    "#create an individual of type primitive tree and fitness function FitnessMulti, pset is a previously \n",
    "creator.create(\"Individual\", gp.PrimitiveTree, fitness=creator.FitnessMulti, pset=pset)\n",
    "\n",
    "#creating toolbox\n",
    "toolbox = base.Toolbox()\n",
    "#register the type of expression the threes are gonna be with min and max depth\n",
    "toolbox.register(\"expr\", gp.genFull, pset=pset, min_=1, max_=5)\n",
    "toolbox.register(\"individual\", tools.initIterate, creator.Individual, toolbox.expr)\n",
    "\n",
    "#print(toolbox.individual())\n",
    "\n",
    "#population of type bag\n",
    "toolbox.register(\"population\", tools.initRepeat, gp.PrimitiveTree, toolbox.individual)\n",
    "#generating population of n individuals\n",
    "population = toolbox.population(n=10)\n",
    "\n",
    "#printing the population\n",
    "for p in population:\n",
    "    print(p)\n",
    "    print()"
   ]
  },
  {
   "cell_type": "markdown",
   "metadata": {},
   "source": [
    "Testiranje kreiranje vlastite fitness funkcije"
   ]
  },
  {
   "cell_type": "code",
   "execution_count": 13,
   "metadata": {},
   "outputs": [
    {
     "name": "stdout",
     "output_type": "stream",
     "text": [
      "div(mul(mul(add(ARG0, ARG1), if_then(ARG0, ARG1, ARG0)), mul(div(ARG0, ARG0), sub(ARG1, ARG0))), mul(if_then(div(ARG0, ARG0), add(ARG0, ARG0), mul(ARG0, ARG0)), add(add(ARG1, ARG1), sub(ARG0, ARG1))))\n",
      "(1.1, 1.2)\n",
      "\n",
      "0.3333333333333333\n",
      "\n",
      "mul(mul(add(sub(ARG1, ARG0), div(ARG1, ARG1)), if_then(mul(ARG0, ARG0), if_then(ARG0, ARG0, ARG1), add(ARG1, ARG0))), div(sub(add(ARG0, ARG1), if_then(ARG0, ARG0, ARG1)), div(if_then(ARG1, ARG0, ARG1), mul(ARG0, ARG1))))\n",
      "(1.1, 1.2)\n",
      "\n",
      "126.0\n",
      "\n",
      "add(mul(ARG0, ARG0), sub(ARG1, ARG0))\n",
      "(1.1, 1.2)\n",
      "\n",
      "10\n",
      "\n"
     ]
    }
   ],
   "source": [
    "#kreiranje moje fitness klase koja nasljeduje od base.Fitness klase\n",
    "class MyFitness():\n",
    "    tmp = 'tworks'\n",
    "    \n",
    "#moze i nasljedit od fitness al onda treba weights il nesto takvo\n",
    "class MyFitnessInherited(base.Fitness):\n",
    "    tmp = 'tworks'\n",
    "    \n",
    "\n",
    "#treba sam pisat evaluation funkciju i registrirat ju    !!!! bitno !!!!\n",
    "def evaluate(individual):\n",
    "    return (1.1, 1.2) # dummy evaluation results\n",
    "    \n",
    "    \n",
    "#create a multi objective fitness function with weights between objectives\n",
    "creator.create(\"MyFitness\", MyFitness)\n",
    "# creator.create(\"MyFitness\", MyFitnessInherited, weights=(0.5, 0.5))\n",
    "\n",
    "#create an individual of type primitive tree and our fitness function, pset is a previously \n",
    "creator.create(\"Individual2\", gp.PrimitiveTree, fitness=creator.MyFitness, pset=pset)\n",
    "\n",
    "#creating toolbox\n",
    "toolbox = base.Toolbox()\n",
    "#register the type of expression the threes are gonna be with min and max depth\n",
    "toolbox.register(\"expr\", gp.genFull, pset=pset, min_=1, max_=5)\n",
    "toolbox.register(\"individual\", tools.initIterate, creator.Individual2, toolbox.expr)\n",
    "\n",
    "\n",
    "#population of type bag\n",
    "toolbox.register(\"population\", tools.initRepeat, gp.PrimitiveTree, toolbox.individual)\n",
    "#generating population of n individuals\n",
    "population = toolbox.population(n=3)\n",
    "\n",
    "\n",
    "#register evaluation function\n",
    "toolbox.register('evaluate', evaluate)\n",
    "\n",
    "#evaluate\n",
    "fitnesses = toolbox.map(toolbox.evaluate, population)\n",
    "\n",
    "#mapping fitness values to individuals\n",
    "for (ind, fit) in zip(population, fitnesses):\n",
    "    ind.fitness.values = fit\n",
    "\n",
    "#printing the population\n",
    "for p in population:\n",
    "    print(p)\n",
    "    print(p.fitness.values)\n",
    "    print()\n",
    "    \n",
    "    classif = gp.compile(p, pset)\n",
    "    print(classif(3, 4))\n",
    "    \n",
    "    print()\n"
   ]
  }
 ],
 "metadata": {
  "kernelspec": {
   "display_name": "Python 3",
   "language": "python",
   "name": "python3"
  },
  "language_info": {
   "codemirror_mode": {
    "name": "ipython",
    "version": 3
   },
   "file_extension": ".py",
   "mimetype": "text/x-python",
   "name": "python",
   "nbconvert_exporter": "python",
   "pygments_lexer": "ipython3",
   "version": "3.8.3"
  }
 },
 "nbformat": 4,
 "nbformat_minor": 4
}
