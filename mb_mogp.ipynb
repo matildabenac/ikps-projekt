{
 "cells": [
  {
   "cell_type": "markdown",
   "metadata": {},
   "source": [
    "# Evolving Ensembles in Multi-objective GeneticProgramming for Classification with Unbalanced Data"
   ]
  },
  {
   "cell_type": "markdown",
   "metadata": {},
   "source": [
    "### Dataset YEAST\n",
    "\n",
    "Minority class = 'MIT'\n",
    "\n",
    "Majority class = other tags"
   ]
  },
  {
   "cell_type": "code",
   "execution_count": 1,
   "metadata": {},
   "outputs": [],
   "source": [
    "# Python 3.8.3\n",
    "import deap # 1.3.1\n",
    "from deap import gp, creator, base, tools, algorithms\n",
    "\n",
    "import numpy as np # 1.18.5\n",
    "\n",
    "import operator, random\n",
    "\n",
    "import matplotlib.pyplot as plt\n",
    "\n",
    "from sklearn.model_selection import train_test_split\n",
    "# from sklearn import tree\n",
    "# from sklearn.metrics import accuracy_score\n",
    "from pandas import read_csv\n",
    "# from sklearn.ensemble import RandomForestClassifier\n",
    "#import graphviz"
   ]
  },
  {
   "cell_type": "markdown",
   "metadata": {},
   "source": [
    "### Parameters"
   ]
  },
  {
   "cell_type": "code",
   "execution_count": 2,
   "metadata": {},
   "outputs": [],
   "source": [
    "PNUM = 100 #20 # Number of individuals in a population (500)\n",
    "GNUM = 25 #10 # Number of generations (50)\n",
    "MTC = 0.2 # Mutation chance (0.4)\n",
    "CSC = 0.5 # Crossover chance (0.6)\n",
    "\n",
    "ATR_DATA = 8 #Data set atributes\n",
    "\n",
    "EPS = 0.1 # Range for protected division"
   ]
  },
  {
   "cell_type": "markdown",
   "metadata": {},
   "source": [
    "#### Helper functions for primitive operators"
   ]
  },
  {
   "cell_type": "code",
   "execution_count": 3,
   "metadata": {},
   "outputs": [],
   "source": [
    "# ovov je vracalo neki error kad sam probala dodat range\n",
    "# def div(x, y): \n",
    "#     return x/y if y else 0\n",
    "\n",
    "# Protected division\n",
    "def div(x, y): \n",
    "    if(y < EPS and y > -EPS): return 0\n",
    "    return x/y\n",
    "\n",
    "# If then operator - changed the name from 'if_then' to 'lf' because of cxSemantic method\n",
    "def lf(a, b, c):\n",
    "    return b if (a < 0) else c\n"
   ]
  },
  {
   "cell_type": "markdown",
   "metadata": {},
   "source": [
    "#### Importing dataset"
   ]
  },
  {
   "cell_type": "code",
   "execution_count": 4,
   "metadata": {},
   "outputs": [],
   "source": [
    "filename = \"./Datasets/yeast_csv.csv\"\n",
    "    \n",
    "dataframe = read_csv(filename, header=None)\n",
    "\n",
    "data = dataframe.values\n",
    "\n",
    "# X = inputs, y = outputs\n",
    "X, y = data[:, :-1], data[:, -1]\n",
    "\n",
    "# print(X.shape)\n",
    "# print(y.shape)\n",
    "\n",
    "X_train, X_test, y_train, y_test = train_test_split(X, y, test_size=0.33, random_state=1)\n",
    "# print(X_train.shape, X_test.shape, y_train.shape, y_test.shape)\n",
    "\n",
    "#X_train = X_train.tolist()\n",
    "data = X_train.tolist()\n",
    "# print(data)\n",
    "#y_train = y_train.tolist()\n",
    "names = y_train.tolist()\n",
    "# print(names)"
   ]
  },
  {
   "cell_type": "markdown",
   "metadata": {},
   "source": [
    "#### Creating a primitive set for the classificator expression"
   ]
  },
  {
   "cell_type": "code",
   "execution_count": 5,
   "metadata": {},
   "outputs": [],
   "source": [
    "pset = gp.PrimitiveSet(\"main\", arity=ATR_DATA)\n",
    "\n",
    "# Adding primitive operators\n",
    "pset.addPrimitive(operator.add, 2)\n",
    "pset.addPrimitive(operator.sub, 2)\n",
    "pset.addPrimitive(operator.mul, 2)\n",
    "pset.addPrimitive(div, 2) \n",
    "pset.addPrimitive(lf, 3, name=\"lf\") # Added 'lf' as a name for the function\n",
    "\n",
    "\n",
    "# Generate an expression where each leaf has the same depth between min and max.\n",
    "expr = gp.genHalfAndHalf(pset, min_=1, max_=8) # Create expression of max depth 8 (from paper)\n",
    "tree = gp.PrimitiveTree(expr) # Create tree classificator from expression"
   ]
  },
  {
   "cell_type": "markdown",
   "metadata": {},
   "source": [
    "#### Creating a fitness function and an individual (Generation of Tree Individuals)"
   ]
  },
  {
   "cell_type": "code",
   "execution_count": 6,
   "metadata": {},
   "outputs": [],
   "source": [
    "creator.create(\"FitnessMax\", base.Fitness, weights=(1.0, 1.0)) #FitnessMax, Multi, Min?\n",
    "\n",
    "# Create an individual of type primitive tree and our fitness function, pset is a previously defined\n",
    "creator.create(\"Individual\", gp.PrimitiveTree, fitness=creator.FitnessMax, pset=pset)"
   ]
  },
  {
   "cell_type": "markdown",
   "metadata": {},
   "source": [
    "#### Helper function for evaluation"
   ]
  },
  {
   "cell_type": "code",
   "execution_count": 7,
   "metadata": {},
   "outputs": [],
   "source": [
    "# Evaluation function\n",
    "def evaluateAccuracy(individual, data, names, pset): # po predlosku\n",
    "    \n",
    "    #Compiling the expression\n",
    "    classificator = gp.compile(individual, pset)\n",
    "    \n",
    "    minority_count = names.count(\"MIT\")\n",
    "    true_positive_count = 0\n",
    "    \n",
    "    majority_count = len(names) - minority_count\n",
    "    true_negative_count = 0\n",
    "    \n",
    "    for (d, n) in zip(data, names):\n",
    "        # feeding data to individual classificator\n",
    "        result = classificator(*d)\n",
    "        \n",
    "        #counting right answers       \n",
    "        if (n==\"MIT\") and (result >= 0): true_positive_count += 1\n",
    "        elif (n!=\"MIT\") and (result < 0): true_negative_count += 1\n",
    "        \n",
    "    # return accuracy on minority class and majority class\n",
    "    return (true_positive_count/minority_count, true_negative_count/majority_count)"
   ]
  },
  {
   "cell_type": "markdown",
   "metadata": {},
   "source": [
    "#### Registering elements with toolbox"
   ]
  },
  {
   "cell_type": "code",
   "execution_count": 8,
   "metadata": {},
   "outputs": [],
   "source": [
    "toolbox = base.Toolbox()\n",
    "\n",
    "toolbox.register(\"expr\", gp.genHalfAndHalf, pset=pset, min_=1, max_=8) # genHalfAndHalf - Generate an expression with a PrimitiveSet pset. Half the time, the expression is generated with genGrow(), the other half, the expression is generated with genFull()\n",
    "toolbox.register(\"individual\", tools.initIterate, creator.Individual, toolbox.expr) # Register individual from expression\n",
    "\n",
    "toolbox.register(\"population\", tools.initRepeat, list, toolbox.individual)\n",
    "\n",
    "toolbox.register('evaluate', evaluateAccuracy, data=data, names=names, pset=pset)\n",
    "\n",
    "\n",
    "# Register mate function\n",
    "toolbox.register('mate', gp.cxOnePoint)\n",
    "#toolbox.register('mate', gp.cxSemantic, pset=pset, min=1, max=8)\n",
    "\n",
    "#Register mutate function\n",
    "toolbox.register('mutate', gp.mutNodeReplacement, pset=pset)\n",
    "#toolbox.register('mutate', gp.mutSemantic, pset=pset, min=1, max=8)\n",
    "\n",
    "#Register select function\n",
    "toolbox.register('select', tools.selSPEA2)\n",
    "#toolbox.register('select', tools.selNSGA2)\n",
    "\n",
    "#toolbox.register('select', tools.selTournament, tournsize = 7) \n",
    "\n"
   ]
  },
  {
   "cell_type": "markdown",
   "metadata": {},
   "source": [
    "#### Diversity function"
   ]
  },
  {
   "cell_type": "code",
   "execution_count": 9,
   "metadata": {},
   "outputs": [],
   "source": [
    "# diversity function\n",
    "# def crowdingDistance(ind, hofer):\n",
    "#     dist = np.linalg.norm(np.array(ind1.fitness.values) - np.array(ind2.fitness.values))\n",
    "#     return True if(dist > 0.3) else False\n",
    "\n",
    "    # if ind has bigger crowding distance than hoffer return false, else return true\n",
    "    \n",
    "# def Ncl(ind, hofer):\n",
    "    # if ind has bigger ncl return true, else return false (i think) (if ind gives more diverse answer than hofer return false, else return true)"
   ]
  },
  {
   "cell_type": "markdown",
   "metadata": {},
   "source": [
    "#### Generating population"
   ]
  },
  {
   "cell_type": "code",
   "execution_count": 10,
   "metadata": {},
   "outputs": [],
   "source": [
    "population = toolbox.population(n=PNUM)\n",
    "\n",
    "fits = toolbox.map(toolbox.evaluate, population)\n",
    "for fit, ind  in  zip(fits, population):\n",
    "    ind.fitness.values = fit\n",
    "\n",
    "#history.update(population)"
   ]
  },
  {
   "cell_type": "markdown",
   "metadata": {},
   "source": [
    "#### Setting stats and pareto front variable"
   ]
  },
  {
   "cell_type": "code",
   "execution_count": 11,
   "metadata": {},
   "outputs": [],
   "source": [
    "pf = tools.ParetoFront() #pareto front, can have diversity function as argument\n",
    "\n",
    "stats = tools.Statistics(lambda ind: ind.fitness.values)\n",
    "stats.register(\"avg\", np.mean)\n",
    "stats.register(\"std\", np.std)\n",
    "stats.register(\"min\", np.min)\n",
    "stats.register(\"max\", np.max)\n"
   ]
  },
  {
   "cell_type": "markdown",
   "metadata": {},
   "source": [
    "### Evolving the population "
   ]
  },
  {
   "cell_type": "code",
   "execution_count": 12,
   "metadata": {},
   "outputs": [],
   "source": [
    "#za sve vrijednosti\n",
    "xvalues = []\n",
    "yvalues = []\n",
    "\n",
    "# evolution\n",
    "for gen in range(GNUM):\n",
    "    #offspring = algorithms.varOr(population, toolbox, lambda_=PNUM, cxpb=CSC, mutpb=MTC)//nije potreban varOr - bolji VarAnd algoritam\n",
    "    offspring = algorithms.varAnd(population, toolbox, cxpb=CSC, mutpb=MTC)\n",
    "    fits = toolbox.map(toolbox.evaluate, offspring)\n",
    "    for fit, ind in zip(fits, offspring):\n",
    "        ind.fitness.values = fit\n",
    "        \n",
    "        xvalues.append(ind.fitness.values[0])\n",
    "        yvalues.append(ind.fitness.values[1])\n",
    "    \n",
    "    population = toolbox.select(offspring + population, k=PNUM)\n",
    "    pf.update(population)\n",
    "\n",
    "# algoritam od prije -->\n",
    "# algorithms.eaSimple(population, toolbox, cxpb=CSC, mutpb=MTC, ngen=GNUM, stats=stats, halloffame=hof)\n",
    "# log = algorithms.eaSimple(population, toolbox, cxpb=0.5, mutpb=0.2, ngen=7, stats=stats, halloffame=hof)"
   ]
  },
  {
   "cell_type": "markdown",
   "metadata": {},
   "source": [
    "#### Printing and ploting the results"
   ]
  },
  {
   "cell_type": "code",
   "execution_count": 13,
   "metadata": {},
   "outputs": [
    {
     "data": {
      "image/png": "[encoded data removed]",
      "text/plain": [
       "<Figure size 432x288 with 1 Axes>"
      ]
     },
     "metadata": {
      "needs_background": "light"
     },
     "output_type": "display_data"
    }
   ],
   "source": [
    "#zapisuje fitness vrijednosti od pareto fronte\n",
    "px = []\n",
    "py = []\n",
    "for p in pf: \n",
    "    px.append(p.fitness.values[0])\n",
    "    py.append(p.fitness.values[1])\n",
    "    \n",
    "# plotamo sve fitness vrijednosti i vrijednosti pareto fronte\n",
    "plt.plot(xvalues, yvalues, 'o') #sve vrijednosti (plava boja)\n",
    "#plt.plot(x_lastGen, y_lastGen, 'og') #vrijednosti zadnje generacije (zelena boja)\n",
    "plt.plot(px, py, 'or') #pareto fronta (crvena boja)\n",
    "plt.show()\n",
    "\n"
   ]
  },
  {
   "cell_type": "code",
   "execution_count": 14,
   "metadata": {},
   "outputs": [],
   "source": [
    "#import matplotlib.pyplot as plt\n",
    "#import networkx\n",
    "\n",
    "# The History class helps to build a genealogy of all the individuals produced in the evolution. \n",
    "# It contains two attributes, the genealogy_tree that is a dictionary of lists indexed by individual, \n",
    "# the list contain the indices of the parents. The second attribute genealogy_history contains every \n",
    "# individual indexed by their individual number as in the genealogy tree.\n",
    "\n",
    "#graph = networkx.DiGraph(history.genealogy_tree)\n",
    "#graph = graph.reverse()     # Make the graph top-down\n",
    "#colors = [toolbox.evaluate(history.genealogy_history[i])[0] for i in graph]\n",
    "#networkx.draw(graph, node_color=colors)\n",
    "#plt.show()"
   ]
  },
  {
   "cell_type": "markdown",
   "metadata": {},
   "source": [
    "### Testing the population"
   ]
  },
  {
   "cell_type": "code",
   "execution_count": 15,
   "metadata": {},
   "outputs": [],
   "source": [
    "def testEnsambleAccuracy (data, names, ensamble):\n",
    "    \n",
    "    minority_count = np.count_nonzero(names == \"MIT\")\n",
    "    true_positive_count = 0\n",
    "    \n",
    "    majority_count = len(names) - minority_count\n",
    "    true_negative_count = 0\n",
    "    \n",
    "    for d, n in zip(data, names):\n",
    "        \n",
    "        min_vote = 0;\n",
    "        maj_vote = 0;\n",
    "        \n",
    "        for ind in ensamble:\n",
    "            classificator = gp.compile(ind, pset)\n",
    "            result = classificator(*d)\n",
    "            \n",
    "            if (result > 0): min_vote += 1\n",
    "            elif (result < 0): maj_vote += 1\n",
    "        \n",
    "        if((n == \"MIT\") and (min_vote > maj_vote)): true_positive_count +=1;\n",
    "        elif((n != \"MIT\") and (min_vote <= maj_vote)): true_negative_count += 1;\n",
    "        \n",
    "    return (true_positive_count/minority_count, true_negative_count/majority_count)\n",
    "        "
   ]
  },
  {
   "cell_type": "code",
   "execution_count": 16,
   "metadata": {},
   "outputs": [
    {
     "name": "stdout",
     "output_type": "stream",
     "text": [
      "(0.5952380952380952, 0.8842364532019704)\n"
     ]
    }
   ],
   "source": [
    "print(testEnsambleAccuracy(X_test, y_test, pf))"
   ]
  }
 ],
 "metadata": {
  "kernelspec": {
   "display_name": "Python 3",
   "language": "python",
   "name": "python3"
  },
  "language_info": {
   "codemirror_mode": {
    "name": "ipython",
    "version": 3
   },
   "file_extension": ".py",
   "mimetype": "text/x-python",
   "name": "python",
   "nbconvert_exporter": "python",
   "pygments_lexer": "ipython3",
   "version": "3.8.3"
  }
 },
 "nbformat": 4,
 "nbformat_minor": 5
}
